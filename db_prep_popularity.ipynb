{
 "cells": [
  {
   "cell_type": "code",
   "execution_count": null,
   "metadata": {},
   "outputs": [],
   "source": [
    "import pandas as pd"
   ]
  },
  {
   "cell_type": "code",
   "execution_count": null,
   "metadata": {},
   "outputs": [],
   "source": [
    "import spotipy\n",
    "import spotipy.util as util\n",
    "from spotipy.oauth2 import SpotifyClientCredentials\n",
    "import spotipy.oauth2 as oauth2"
   ]
  },
  {
   "cell_type": "code",
   "execution_count": null,
   "metadata": {},
   "outputs": [],
   "source": [
    "market = [ \"AD\", \"AR\", \"AT\", \"AU\", \"BE\", \"BG\", \"BO\", \"BR\", \"CA\", \"CH\", \"CL\", \"CO\", \"CR\", \"CY\", \n",
    "      \"CZ\", \"DE\", \"DK\", \"DO\", \"EC\", \"EE\", \"ES\", \"FI\", \"FR\", \"GB\", \"GR\", \"GT\", \"HK\", \"HN\", \"HU\", \n",
    "      \"ID\", \"IE\", \"IS\", \"IT\", \"JP\", \"LI\", \"LT\", \"LU\", \"LV\", \"MC\", \"MT\", \"MX\", \"MY\", \"NI\", \"NL\", \n",
    "      \"NO\", \"NZ\", \"PA\", \"PE\", \"PH\", \"PL\", \"PT\", \"PY\", \"SE\", \"SG\", \"SK\", \"SV\", \"TH\", \"TR\", \"TW\", \n",
    "      \"US\", \"UY\", \"VN\" ]"
   ]
  },
  {
   "cell_type": "code",
   "execution_count": null,
   "metadata": {},
   "outputs": [],
   "source": [
    "import billboard\n",
    "from time import sleep"
   ]
  },
  {
   "cell_type": "code",
   "execution_count": null,
   "metadata": {},
   "outputs": [],
   "source": [
    "i = 1\n",
    "charts2015 = []\n",
    "while i <= 12:\n",
    "\n",
    "  if i < 10:\n",
    "    date2015 = \"2015-0\" + str(i) +\"-01\"\n",
    "  else:\n",
    "    date2015 = \"2015-\" + str(i) +\"-01\"\n",
    "\n",
    "  charts = billboard.ChartData('hot-100', date=date1990, fetch=True, timeout=25)\n",
    "  # print(charts)\n",
    "  charts2015.append(charts)\n",
    "  print(f\"{date2015} chart appended.\")\n",
    "\n",
    "  i += 1\n",
    "  sleep(180)"
   ]
  },
  {
   "cell_type": "code",
   "execution_count": null,
   "metadata": {},
   "outputs": [],
   "source": [
    "charts2015"
   ]
  },
  {
   "cell_type": "code",
   "execution_count": null,
   "metadata": {},
   "outputs": [],
   "source": [
    "song_titles_2015 = []\n",
    "\n",
    "for chart in charts2015:\n",
    "    count = 0\n",
    "    while count < len(chart):\n",
    "        song_titles_2015.append(chart[count].title)\n",
    "        count += 1"
   ]
  },
  {
   "cell_type": "code",
   "execution_count": null,
   "metadata": {},
   "outputs": [],
   "source": [
    "# Spotify App Credentials 2015\n",
    "# CLIENT_ID = \"aaf3f0bbaff74d50a1b8a244e4364bdf\"\n",
    "# CLIENT_SECRET = \"832f4869770d40ab9d503d1eeaaba8ce\"\n",
    "\n",
    "# credentials = oauth2.SpotifyClientCredentials(\n",
    "#         client_id=CLIENT_ID,\n",
    "#         client_secret=CLIENT_SECRET)\n",
    "\n",
    "# token = credentials.get_access_token()\n",
    "# spotify = spotipy.Spotify(auth=token)"
   ]
  },
  {
   "cell_type": "code",
   "execution_count": null,
   "metadata": {},
   "outputs": [],
   "source": [
    "ids_2015 = []\n",
    "for track in output_2015:\n",
    "     # remove tracks that doesn't have corresponding id on Spotify\n",
    "    if len(track['tracks']['items']) >= 1: \n",
    "        ids_2015.append(track['tracks']['items'][0]['id'])"
   ]
  },
  {
   "cell_type": "code",
   "execution_count": null,
   "metadata": {},
   "outputs": [],
   "source": [
    "len(ids_2015)"
   ]
  },
  {
   "cell_type": "code",
   "execution_count": null,
   "metadata": {},
   "outputs": [],
   "source": [
    "i = 0\n",
    "features_2015 = []\n",
    "while i < len(ids_2015):\n",
    "    if i+100 < len(ids_2015):\n",
    "        features_2015.append(spotify.audio_features(ids_2015[i:i+100]))\n",
    "    else:\n",
    "        features_2015.append(spotify.audio_features(ids_2015[i:]))\n",
    "#     print(i)\n",
    "    i += 100"
   ]
  },
  {
   "cell_type": "code",
   "execution_count": null,
   "metadata": {},
   "outputs": [],
   "source": [
    "features_2015_cleaned = []\n",
    "\n",
    "for feature in features_2015:\n",
    "#    print(len(feature))\n",
    "     for lst in feature:\n",
    "         if lst != None:\n",
    "             features_2015_cleaned.append(lst)"
   ]
  },
  {
   "cell_type": "code",
   "execution_count": null,
   "metadata": {},
   "outputs": [],
   "source": [
    "df_2015 = pd.DataFrame(features_2015_cleaned)"
   ]
  },
  {
   "cell_type": "code",
   "execution_count": null,
   "metadata": {},
   "outputs": [],
   "source": [
    "len(df_2015)"
   ]
  },
  {
   "cell_type": "code",
   "execution_count": null,
   "metadata": {},
   "outputs": [],
   "source": [
    "df_2015.to_csv(\"Resources/2015data_final.csv\")"
   ]
  },
  {
   "cell_type": "code",
   "execution_count": null,
   "metadata": {},
   "outputs": [],
   "source": [
    "df_2015_cleaned = df_2015.drop_duplicates(subset=\"id\", keep='first', inplace=False)"
   ]
  }
 ],
 "metadata": {
  "kernelspec": {
   "display_name": "Python 3",
   "language": "python",
   "name": "python3"
  },
  "language_info": {
   "codemirror_mode": {
    "name": "ipython",
    "version": 3
   },
   "file_extension": ".py",
   "mimetype": "text/x-python",
   "name": "python",
   "nbconvert_exporter": "python",
   "pygments_lexer": "ipython3",
   "version": "3.7.3"
  }
 },
 "nbformat": 4,
 "nbformat_minor": 2
}
