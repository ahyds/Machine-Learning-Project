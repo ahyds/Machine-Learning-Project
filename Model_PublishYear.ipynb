{
 "cells": [
  {
   "cell_type": "code",
   "execution_count": 2,
   "metadata": {},
   "outputs": [],
   "source": [
    "import pandas as pd\n",
    "%matplotlib inline\n",
    "import matplotlib.pyplot as plt\n",
    "import numpy as np"
   ]
  },
  {
   "cell_type": "code",
   "execution_count": 3,
   "metadata": {},
   "outputs": [],
   "source": [
    "data1990 = pd.read_csv(\"https://hyd123.s3.us-east-2.amazonaws.com/updated_data/1990data_final.csv\")\n",
    "data2000 = pd.read_csv(\"https://hyd123.s3.us-east-2.amazonaws.com/updated_data/2000data_final.csv\")\n",
    "data2010 = pd.read_csv(\"https://hyd123.s3.us-east-2.amazonaws.com/updated_data/2010data_final.csv\")\n",
    "data2019 = pd.read_csv(\"https://hyd123.s3.us-east-2.amazonaws.com/updated_data/2019data_final.csv\")#(\"https://hyd123.s3.us-east-2.amazonaws.com/2019data_redo.csv\")"
   ]
  },
  {
   "cell_type": "code",
   "execution_count": 4,
   "metadata": {},
   "outputs": [],
   "source": [
    "data1990 = pd.read_csv(\"https://hyd123.s3.us-east-2.amazonaws.com/updated_data/1990data_cleaned.csv\")\n",
    "data2000 = pd.read_csv(\"https://hyd123.s3.us-east-2.amazonaws.com/updated_data/2000data_cleaned.csv\")\n",
    "data2010 = pd.read_csv(\"https://hyd123.s3.us-east-2.amazonaws.com/updated_data/2010data_cleaned.csv\")\n",
    "data2019 = pd.read_csv(\"https://hyd123.s3.us-east-2.amazonaws.com/updated_data/2019data_cleaned.csv\")"
   ]
  },
  {
   "cell_type": "code",
   "execution_count": 5,
   "metadata": {},
   "outputs": [
    {
     "data": {
      "text/plain": [
       "Index(['Unnamed: 0', 'acousticness', 'analysis_url', 'danceability',\n",
       "       'duration_ms', 'energy', 'id', 'instrumentalness', 'key', 'liveness',\n",
       "       'loudness', 'mode', 'speechiness', 'tempo', 'time_signature',\n",
       "       'track_href', 'type', 'uri', 'valence'],\n",
       "      dtype='object')"
      ]
     },
     "execution_count": 5,
     "metadata": {},
     "output_type": "execute_result"
    }
   ],
   "source": [
    "data1990.columns"
   ]
  },
  {
   "cell_type": "code",
   "execution_count": 6,
   "metadata": {},
   "outputs": [
    {
     "data": {
      "text/html": [
       "<div>\n",
       "<style scoped>\n",
       "    .dataframe tbody tr th:only-of-type {\n",
       "        vertical-align: middle;\n",
       "    }\n",
       "\n",
       "    .dataframe tbody tr th {\n",
       "        vertical-align: top;\n",
       "    }\n",
       "\n",
       "    .dataframe thead th {\n",
       "        text-align: right;\n",
       "    }\n",
       "</style>\n",
       "<table border=\"1\" class=\"dataframe\">\n",
       "  <thead>\n",
       "    <tr style=\"text-align: right;\">\n",
       "      <th></th>\n",
       "      <th>Unnamed: 0</th>\n",
       "      <th>acousticness</th>\n",
       "      <th>analysis_url</th>\n",
       "      <th>danceability</th>\n",
       "      <th>duration_ms</th>\n",
       "      <th>energy</th>\n",
       "      <th>id</th>\n",
       "      <th>instrumentalness</th>\n",
       "      <th>key</th>\n",
       "      <th>liveness</th>\n",
       "      <th>loudness</th>\n",
       "      <th>mode</th>\n",
       "      <th>speechiness</th>\n",
       "      <th>tempo</th>\n",
       "      <th>time_signature</th>\n",
       "      <th>track_href</th>\n",
       "      <th>type</th>\n",
       "      <th>uri</th>\n",
       "      <th>valence</th>\n",
       "      <th>year</th>\n",
       "    </tr>\n",
       "  </thead>\n",
       "  <tbody>\n",
       "    <tr>\n",
       "      <th>0</th>\n",
       "      <td>0</td>\n",
       "      <td>0.7360</td>\n",
       "      <td>https://api.spotify.com/v1/audio-analysis/1NCu...</td>\n",
       "      <td>0.780</td>\n",
       "      <td>322133</td>\n",
       "      <td>0.565</td>\n",
       "      <td>1NCuYqMc8hKMb4cpNTcJbD</td>\n",
       "      <td>0.002690</td>\n",
       "      <td>3</td>\n",
       "      <td>0.0630</td>\n",
       "      <td>-7.320</td>\n",
       "      <td>0</td>\n",
       "      <td>0.0306</td>\n",
       "      <td>101.967</td>\n",
       "      <td>4</td>\n",
       "      <td>https://api.spotify.com/v1/tracks/1NCuYqMc8hKM...</td>\n",
       "      <td>audio_features</td>\n",
       "      <td>spotify:track:1NCuYqMc8hKMb4cpNTcJbD</td>\n",
       "      <td>0.365</td>\n",
       "      <td>0</td>\n",
       "    </tr>\n",
       "    <tr>\n",
       "      <th>1</th>\n",
       "      <td>1</td>\n",
       "      <td>0.0561</td>\n",
       "      <td>https://api.spotify.com/v1/audio-analysis/51q3...</td>\n",
       "      <td>0.631</td>\n",
       "      <td>330933</td>\n",
       "      <td>0.935</td>\n",
       "      <td>51q3nDYWAqPY4hlgKEbP6j</td>\n",
       "      <td>0.152000</td>\n",
       "      <td>1</td>\n",
       "      <td>0.6340</td>\n",
       "      <td>-8.340</td>\n",
       "      <td>0</td>\n",
       "      <td>0.0587</td>\n",
       "      <td>109.122</td>\n",
       "      <td>4</td>\n",
       "      <td>https://api.spotify.com/v1/tracks/51q3nDYWAqPY...</td>\n",
       "      <td>audio_features</td>\n",
       "      <td>spotify:track:51q3nDYWAqPY4hlgKEbP6j</td>\n",
       "      <td>0.678</td>\n",
       "      <td>0</td>\n",
       "    </tr>\n",
       "    <tr>\n",
       "      <th>2</th>\n",
       "      <td>2</td>\n",
       "      <td>0.6570</td>\n",
       "      <td>https://api.spotify.com/v1/audio-analysis/5z3Z...</td>\n",
       "      <td>0.401</td>\n",
       "      <td>211973</td>\n",
       "      <td>0.285</td>\n",
       "      <td>5z3ZDMP02xF33yCvPFnct3</td>\n",
       "      <td>0.000011</td>\n",
       "      <td>11</td>\n",
       "      <td>0.1580</td>\n",
       "      <td>-11.005</td>\n",
       "      <td>1</td>\n",
       "      <td>0.0327</td>\n",
       "      <td>130.465</td>\n",
       "      <td>4</td>\n",
       "      <td>https://api.spotify.com/v1/tracks/5z3ZDMP02xF3...</td>\n",
       "      <td>audio_features</td>\n",
       "      <td>spotify:track:5z3ZDMP02xF33yCvPFnct3</td>\n",
       "      <td>0.267</td>\n",
       "      <td>0</td>\n",
       "    </tr>\n",
       "    <tr>\n",
       "      <th>3</th>\n",
       "      <td>3</td>\n",
       "      <td>0.0287</td>\n",
       "      <td>https://api.spotify.com/v1/audio-analysis/0UAE...</td>\n",
       "      <td>0.862</td>\n",
       "      <td>215040</td>\n",
       "      <td>0.918</td>\n",
       "      <td>0UAEHlFR79k9CJvknSGUNf</td>\n",
       "      <td>0.000001</td>\n",
       "      <td>10</td>\n",
       "      <td>0.0492</td>\n",
       "      <td>-7.325</td>\n",
       "      <td>0</td>\n",
       "      <td>0.1080</td>\n",
       "      <td>124.811</td>\n",
       "      <td>4</td>\n",
       "      <td>https://api.spotify.com/v1/tracks/0UAEHlFR79k9...</td>\n",
       "      <td>audio_features</td>\n",
       "      <td>spotify:track:0UAEHlFR79k9CJvknSGUNf</td>\n",
       "      <td>0.651</td>\n",
       "      <td>0</td>\n",
       "    </tr>\n",
       "    <tr>\n",
       "      <th>4</th>\n",
       "      <td>4</td>\n",
       "      <td>0.3340</td>\n",
       "      <td>https://api.spotify.com/v1/audio-analysis/1s12...</td>\n",
       "      <td>0.713</td>\n",
       "      <td>274093</td>\n",
       "      <td>0.432</td>\n",
       "      <td>1s12gYsPeTNQ6znow46nmp</td>\n",
       "      <td>0.000299</td>\n",
       "      <td>11</td>\n",
       "      <td>0.0674</td>\n",
       "      <td>-12.639</td>\n",
       "      <td>0</td>\n",
       "      <td>0.0300</td>\n",
       "      <td>118.955</td>\n",
       "      <td>4</td>\n",
       "      <td>https://api.spotify.com/v1/tracks/1s12gYsPeTNQ...</td>\n",
       "      <td>audio_features</td>\n",
       "      <td>spotify:track:1s12gYsPeTNQ6znow46nmp</td>\n",
       "      <td>0.445</td>\n",
       "      <td>0</td>\n",
       "    </tr>\n",
       "  </tbody>\n",
       "</table>\n",
       "</div>"
      ],
      "text/plain": [
       "   Unnamed: 0  acousticness  \\\n",
       "0           0        0.7360   \n",
       "1           1        0.0561   \n",
       "2           2        0.6570   \n",
       "3           3        0.0287   \n",
       "4           4        0.3340   \n",
       "\n",
       "                                        analysis_url  danceability  \\\n",
       "0  https://api.spotify.com/v1/audio-analysis/1NCu...         0.780   \n",
       "1  https://api.spotify.com/v1/audio-analysis/51q3...         0.631   \n",
       "2  https://api.spotify.com/v1/audio-analysis/5z3Z...         0.401   \n",
       "3  https://api.spotify.com/v1/audio-analysis/0UAE...         0.862   \n",
       "4  https://api.spotify.com/v1/audio-analysis/1s12...         0.713   \n",
       "\n",
       "   duration_ms  energy                      id  instrumentalness  key  \\\n",
       "0       322133   0.565  1NCuYqMc8hKMb4cpNTcJbD          0.002690    3   \n",
       "1       330933   0.935  51q3nDYWAqPY4hlgKEbP6j          0.152000    1   \n",
       "2       211973   0.285  5z3ZDMP02xF33yCvPFnct3          0.000011   11   \n",
       "3       215040   0.918  0UAEHlFR79k9CJvknSGUNf          0.000001   10   \n",
       "4       274093   0.432  1s12gYsPeTNQ6znow46nmp          0.000299   11   \n",
       "\n",
       "   liveness  loudness  mode  speechiness    tempo  time_signature  \\\n",
       "0    0.0630    -7.320     0       0.0306  101.967               4   \n",
       "1    0.6340    -8.340     0       0.0587  109.122               4   \n",
       "2    0.1580   -11.005     1       0.0327  130.465               4   \n",
       "3    0.0492    -7.325     0       0.1080  124.811               4   \n",
       "4    0.0674   -12.639     0       0.0300  118.955               4   \n",
       "\n",
       "                                          track_href            type  \\\n",
       "0  https://api.spotify.com/v1/tracks/1NCuYqMc8hKM...  audio_features   \n",
       "1  https://api.spotify.com/v1/tracks/51q3nDYWAqPY...  audio_features   \n",
       "2  https://api.spotify.com/v1/tracks/5z3ZDMP02xF3...  audio_features   \n",
       "3  https://api.spotify.com/v1/tracks/0UAEHlFR79k9...  audio_features   \n",
       "4  https://api.spotify.com/v1/tracks/1s12gYsPeTNQ...  audio_features   \n",
       "\n",
       "                                    uri  valence  year  \n",
       "0  spotify:track:1NCuYqMc8hKMb4cpNTcJbD    0.365     0  \n",
       "1  spotify:track:51q3nDYWAqPY4hlgKEbP6j    0.678     0  \n",
       "2  spotify:track:5z3ZDMP02xF33yCvPFnct3    0.267     0  \n",
       "3  spotify:track:0UAEHlFR79k9CJvknSGUNf    0.651     0  \n",
       "4  spotify:track:1s12gYsPeTNQ6znow46nmp    0.445     0  "
      ]
     },
     "execution_count": 6,
     "metadata": {},
     "output_type": "execute_result"
    }
   ],
   "source": [
    "# label all dfs by publish year\n",
    "data1990['year'] = 0\n",
    "data2000['year'] = 1\n",
    "data2010['year'] = 2\n",
    "data2019['year'] = 3\n",
    "data1990.head()"
   ]
  },
  {
   "cell_type": "code",
   "execution_count": 7,
   "metadata": {},
   "outputs": [],
   "source": [
    "# combine dfs into one\n",
    "df = pd.concat([data1990, data2000,data2010,data2019], ignore_index=True,sort=False)"
   ]
  },
  {
   "cell_type": "code",
   "execution_count": 8,
   "metadata": {},
   "outputs": [
    {
     "data": {
      "text/html": [
       "<div>\n",
       "<style scoped>\n",
       "    .dataframe tbody tr th:only-of-type {\n",
       "        vertical-align: middle;\n",
       "    }\n",
       "\n",
       "    .dataframe tbody tr th {\n",
       "        vertical-align: top;\n",
       "    }\n",
       "\n",
       "    .dataframe thead th {\n",
       "        text-align: right;\n",
       "    }\n",
       "</style>\n",
       "<table border=\"1\" class=\"dataframe\">\n",
       "  <thead>\n",
       "    <tr style=\"text-align: right;\">\n",
       "      <th></th>\n",
       "      <th>year</th>\n",
       "      <th>acousticness</th>\n",
       "      <th>danceability</th>\n",
       "      <th>duration_ms</th>\n",
       "      <th>energy</th>\n",
       "      <th>instrumentalness</th>\n",
       "      <th>key</th>\n",
       "      <th>liveness</th>\n",
       "      <th>loudness</th>\n",
       "      <th>mode</th>\n",
       "      <th>speechiness</th>\n",
       "      <th>tempo</th>\n",
       "      <th>time_signature</th>\n",
       "      <th>valence</th>\n",
       "    </tr>\n",
       "  </thead>\n",
       "  <tbody>\n",
       "    <tr>\n",
       "      <th>1564</th>\n",
       "      <td>3</td>\n",
       "      <td>0.1520</td>\n",
       "      <td>0.754</td>\n",
       "      <td>242573</td>\n",
       "      <td>0.646</td>\n",
       "      <td>0.000018</td>\n",
       "      <td>7</td>\n",
       "      <td>0.1080</td>\n",
       "      <td>-5.795</td>\n",
       "      <td>1</td>\n",
       "      <td>0.317</td>\n",
       "      <td>176.089</td>\n",
       "      <td>4</td>\n",
       "      <td>0.429</td>\n",
       "    </tr>\n",
       "    <tr>\n",
       "      <th>1565</th>\n",
       "      <td>3</td>\n",
       "      <td>0.4270</td>\n",
       "      <td>0.679</td>\n",
       "      <td>179973</td>\n",
       "      <td>0.443</td>\n",
       "      <td>0.000000</td>\n",
       "      <td>10</td>\n",
       "      <td>0.1060</td>\n",
       "      <td>-8.528</td>\n",
       "      <td>0</td>\n",
       "      <td>0.153</td>\n",
       "      <td>104.049</td>\n",
       "      <td>4</td>\n",
       "      <td>0.363</td>\n",
       "    </tr>\n",
       "    <tr>\n",
       "      <th>1566</th>\n",
       "      <td>3</td>\n",
       "      <td>0.0794</td>\n",
       "      <td>0.816</td>\n",
       "      <td>136366</td>\n",
       "      <td>0.582</td>\n",
       "      <td>0.000006</td>\n",
       "      <td>8</td>\n",
       "      <td>0.0916</td>\n",
       "      <td>-4.141</td>\n",
       "      <td>1</td>\n",
       "      <td>0.341</td>\n",
       "      <td>160.004</td>\n",
       "      <td>4</td>\n",
       "      <td>0.542</td>\n",
       "    </tr>\n",
       "    <tr>\n",
       "      <th>1567</th>\n",
       "      <td>3</td>\n",
       "      <td>0.3630</td>\n",
       "      <td>0.630</td>\n",
       "      <td>174333</td>\n",
       "      <td>0.671</td>\n",
       "      <td>0.000000</td>\n",
       "      <td>6</td>\n",
       "      <td>0.1130</td>\n",
       "      <td>-6.659</td>\n",
       "      <td>0</td>\n",
       "      <td>0.256</td>\n",
       "      <td>89.921</td>\n",
       "      <td>4</td>\n",
       "      <td>0.333</td>\n",
       "    </tr>\n",
       "    <tr>\n",
       "      <th>1568</th>\n",
       "      <td>3</td>\n",
       "      <td>0.5820</td>\n",
       "      <td>0.819</td>\n",
       "      <td>268893</td>\n",
       "      <td>0.458</td>\n",
       "      <td>0.173000</td>\n",
       "      <td>4</td>\n",
       "      <td>0.1280</td>\n",
       "      <td>-10.223</td>\n",
       "      <td>0</td>\n",
       "      <td>0.167</td>\n",
       "      <td>122.981</td>\n",
       "      <td>4</td>\n",
       "      <td>0.232</td>\n",
       "    </tr>\n",
       "  </tbody>\n",
       "</table>\n",
       "</div>"
      ],
      "text/plain": [
       "      year  acousticness  danceability  duration_ms  energy  instrumentalness  \\\n",
       "1564     3        0.1520         0.754       242573   0.646          0.000018   \n",
       "1565     3        0.4270         0.679       179973   0.443          0.000000   \n",
       "1566     3        0.0794         0.816       136366   0.582          0.000006   \n",
       "1567     3        0.3630         0.630       174333   0.671          0.000000   \n",
       "1568     3        0.5820         0.819       268893   0.458          0.173000   \n",
       "\n",
       "      key  liveness  loudness  mode  speechiness    tempo  time_signature  \\\n",
       "1564    7    0.1080    -5.795     1        0.317  176.089               4   \n",
       "1565   10    0.1060    -8.528     0        0.153  104.049               4   \n",
       "1566    8    0.0916    -4.141     1        0.341  160.004               4   \n",
       "1567    6    0.1130    -6.659     0        0.256   89.921               4   \n",
       "1568    4    0.1280   -10.223     0        0.167  122.981               4   \n",
       "\n",
       "      valence  \n",
       "1564    0.429  \n",
       "1565    0.363  \n",
       "1566    0.542  \n",
       "1567    0.333  \n",
       "1568    0.232  "
      ]
     },
     "execution_count": 8,
     "metadata": {},
     "output_type": "execute_result"
    }
   ],
   "source": [
    "# only use the feature columns\n",
    "df = df[['year','acousticness','danceability','duration_ms','energy','instrumentalness','key','liveness','loudness','mode','speechiness','tempo','time_signature','valence']]\n",
    "df = df.dropna(how = 'any')\n",
    "df.tail()"
   ]
  },
  {
   "cell_type": "code",
   "execution_count": 9,
   "metadata": {},
   "outputs": [
    {
     "name": "stdout",
     "output_type": "stream",
     "text": [
      "Shape:  (1569, 13) (1569,)\n"
     ]
    }
   ],
   "source": [
    "X = df[['acousticness','danceability','duration_ms','energy','instrumentalness','key','liveness','loudness','mode','speechiness','tempo','time_signature','valence']]\n",
    "y = df[\"year\"].values#.reshape(-1, 1)\n",
    "print(\"Shape: \", X.shape, y.shape)"
   ]
  },
  {
   "cell_type": "code",
   "execution_count": 10,
   "metadata": {},
   "outputs": [],
   "source": [
    "from sklearn.model_selection import train_test_split \n",
    "X_train, X_test, y_train, y_test = train_test_split(X, y, random_state=42)"
   ]
  },
  {
   "cell_type": "code",
   "execution_count": 11,
   "metadata": {},
   "outputs": [
    {
     "name": "stderr",
     "output_type": "stream",
     "text": [
      "C:\\Users\\Owner\\Anaconda3\\lib\\site-packages\\sklearn\\preprocessing\\data.py:645: DataConversionWarning: Data with input dtype int64, float64 were all converted to float64 by StandardScaler.\n",
      "  return self.partial_fit(X, y)\n",
      "C:\\Users\\Owner\\Anaconda3\\lib\\site-packages\\ipykernel_launcher.py:3: DataConversionWarning: Data with input dtype int64, float64 were all converted to float64 by StandardScaler.\n",
      "  This is separate from the ipykernel package so we can avoid doing imports until\n",
      "C:\\Users\\Owner\\Anaconda3\\lib\\site-packages\\ipykernel_launcher.py:4: DataConversionWarning: Data with input dtype int64, float64 were all converted to float64 by StandardScaler.\n",
      "  after removing the cwd from sys.path.\n"
     ]
    }
   ],
   "source": [
    "from sklearn.preprocessing import StandardScaler \n",
    "X_scaler = StandardScaler().fit(X_train)\n",
    "X_train_scaled = X_scaler.transform(X_train) \n",
    "X_test_scaled = X_scaler.transform(X_test)"
   ]
  },
  {
   "cell_type": "markdown",
   "metadata": {},
   "source": [
    "### Decision Tree Model"
   ]
  },
  {
   "cell_type": "code",
   "execution_count": 12,
   "metadata": {},
   "outputs": [],
   "source": [
    "from sklearn import tree \n",
    "clf = tree.DecisionTreeClassifier()"
   ]
  },
  {
   "cell_type": "code",
   "execution_count": 13,
   "metadata": {},
   "outputs": [
    {
     "data": {
      "text/plain": [
       "0.30788804071246817"
      ]
     },
     "execution_count": 13,
     "metadata": {},
     "output_type": "execute_result"
    }
   ],
   "source": [
    "clf = clf.fit(X_train_scaled, y_train)\n",
    "clf.score(X_test_scaled, y_test)\n"
   ]
  },
  {
   "cell_type": "code",
   "execution_count": 14,
   "metadata": {},
   "outputs": [],
   "source": [
    "predictions = clf.predict(X_test_scaled)"
   ]
  },
  {
   "cell_type": "code",
   "execution_count": 15,
   "metadata": {},
   "outputs": [
    {
     "data": {
      "text/html": [
       "<div>\n",
       "<style scoped>\n",
       "    .dataframe tbody tr th:only-of-type {\n",
       "        vertical-align: middle;\n",
       "    }\n",
       "\n",
       "    .dataframe tbody tr th {\n",
       "        vertical-align: top;\n",
       "    }\n",
       "\n",
       "    .dataframe thead th {\n",
       "        text-align: right;\n",
       "    }\n",
       "</style>\n",
       "<table border=\"1\" class=\"dataframe\">\n",
       "  <thead>\n",
       "    <tr style=\"text-align: right;\">\n",
       "      <th></th>\n",
       "      <th>Predicted</th>\n",
       "      <th>Actual</th>\n",
       "    </tr>\n",
       "  </thead>\n",
       "  <tbody>\n",
       "    <tr>\n",
       "      <th>0</th>\n",
       "      <td>3</td>\n",
       "      <td>1</td>\n",
       "    </tr>\n",
       "    <tr>\n",
       "      <th>1</th>\n",
       "      <td>2</td>\n",
       "      <td>1</td>\n",
       "    </tr>\n",
       "    <tr>\n",
       "      <th>2</th>\n",
       "      <td>0</td>\n",
       "      <td>1</td>\n",
       "    </tr>\n",
       "    <tr>\n",
       "      <th>3</th>\n",
       "      <td>2</td>\n",
       "      <td>1</td>\n",
       "    </tr>\n",
       "    <tr>\n",
       "      <th>4</th>\n",
       "      <td>2</td>\n",
       "      <td>2</td>\n",
       "    </tr>\n",
       "  </tbody>\n",
       "</table>\n",
       "</div>"
      ],
      "text/plain": [
       "   Predicted  Actual\n",
       "0          3       1\n",
       "1          2       1\n",
       "2          0       1\n",
       "3          2       1\n",
       "4          2       2"
      ]
     },
     "execution_count": 15,
     "metadata": {},
     "output_type": "execute_result"
    }
   ],
   "source": [
    "test_result_df = pd.DataFrame({\"Predicted\": y_test, \"Actual\": predictions})[[\"Predicted\", \"Actual\"]]\n",
    "test_result_df.head()"
   ]
  },
  {
   "cell_type": "code",
   "execution_count": 16,
   "metadata": {},
   "outputs": [
    {
     "data": {
      "text/plain": [
       "[(0.13260453812900372, 'loudness'),\n",
       " (0.11230641068131603, 'tempo'),\n",
       " (0.1118012921517546, 'duration_ms'),\n",
       " (0.1087621231852047, 'speechiness'),\n",
       " (0.09721004288403003, 'acousticness'),\n",
       " (0.09210750273510454, 'energy'),\n",
       " (0.08843748575456431, 'valence'),\n",
       " (0.08157654828591462, 'liveness'),\n",
       " (0.06922441643439481, 'danceability'),\n",
       " (0.04772324119970962, 'key'),\n",
       " (0.03932988902452284, 'instrumentalness'),\n",
       " (0.013550642178945775, 'mode'),\n",
       " (0.005365867355534341, 'time_signature')]"
      ]
     },
     "execution_count": 16,
     "metadata": {},
     "output_type": "execute_result"
    }
   ],
   "source": [
    "feature_names = X.columns\n",
    "sorted(zip(clf.feature_importances_, feature_names), reverse=True)"
   ]
  },
  {
   "cell_type": "code",
   "execution_count": 17,
   "metadata": {},
   "outputs": [
    {
     "ename": "InvocationException",
     "evalue": "GraphViz's executables not found",
     "output_type": "error",
     "traceback": [
      "\u001b[1;31m---------------------------------------------------------------------------\u001b[0m",
      "\u001b[1;31mInvocationException\u001b[0m                       Traceback (most recent call last)",
      "\u001b[1;32m<ipython-input-17-91fc5b26fab9>\u001b[0m in \u001b[0;36m<module>\u001b[1;34m\u001b[0m\n\u001b[0;32m      4\u001b[0m \u001b[1;32mimport\u001b[0m \u001b[0mpydotplus\u001b[0m\u001b[1;33m\u001b[0m\u001b[1;33m\u001b[0m\u001b[0m\n\u001b[0;32m      5\u001b[0m \u001b[0mgraph\u001b[0m \u001b[1;33m=\u001b[0m \u001b[0mpydotplus\u001b[0m\u001b[1;33m.\u001b[0m\u001b[0mgraph_from_dot_data\u001b[0m\u001b[1;33m(\u001b[0m\u001b[0mdot_data\u001b[0m\u001b[1;33m)\u001b[0m\u001b[1;33m\u001b[0m\u001b[1;33m\u001b[0m\u001b[0m\n\u001b[1;32m----> 6\u001b[1;33m \u001b[0mgraph\u001b[0m\u001b[1;33m.\u001b[0m\u001b[0mwrite_png\u001b[0m\u001b[1;33m(\u001b[0m\u001b[1;34m'music.png'\u001b[0m\u001b[1;33m)\u001b[0m\u001b[1;33m\u001b[0m\u001b[1;33m\u001b[0m\u001b[0m\n\u001b[0m\u001b[0;32m      7\u001b[0m \u001b[0mgraph\u001b[0m \u001b[1;33m=\u001b[0m \u001b[0mgraphviz\u001b[0m\u001b[1;33m.\u001b[0m\u001b[0mSource\u001b[0m\u001b[1;33m(\u001b[0m\u001b[0mdot_data\u001b[0m\u001b[1;33m)\u001b[0m\u001b[1;33m\u001b[0m\u001b[1;33m\u001b[0m\u001b[0m\n\u001b[0;32m      8\u001b[0m \u001b[0mgraph\u001b[0m\u001b[1;33m\u001b[0m\u001b[1;33m\u001b[0m\u001b[0m\n",
      "\u001b[1;32m~\\Anaconda3\\lib\\site-packages\\pydotplus\\graphviz.py\u001b[0m in \u001b[0;36m<lambda>\u001b[1;34m(path, f, prog)\u001b[0m\n\u001b[0;32m   1808\u001b[0m                 \u001b[1;32mlambda\u001b[0m \u001b[0mpath\u001b[0m\u001b[1;33m,\u001b[0m\u001b[1;33m\u001b[0m\u001b[1;33m\u001b[0m\u001b[0m\n\u001b[0;32m   1809\u001b[0m                 \u001b[0mf\u001b[0m\u001b[1;33m=\u001b[0m\u001b[0mfrmt\u001b[0m\u001b[1;33m,\u001b[0m\u001b[1;33m\u001b[0m\u001b[1;33m\u001b[0m\u001b[0m\n\u001b[1;32m-> 1810\u001b[1;33m                 \u001b[0mprog\u001b[0m\u001b[1;33m=\u001b[0m\u001b[0mself\u001b[0m\u001b[1;33m.\u001b[0m\u001b[0mprog\u001b[0m\u001b[1;33m:\u001b[0m \u001b[0mself\u001b[0m\u001b[1;33m.\u001b[0m\u001b[0mwrite\u001b[0m\u001b[1;33m(\u001b[0m\u001b[0mpath\u001b[0m\u001b[1;33m,\u001b[0m \u001b[0mformat\u001b[0m\u001b[1;33m=\u001b[0m\u001b[0mf\u001b[0m\u001b[1;33m,\u001b[0m \u001b[0mprog\u001b[0m\u001b[1;33m=\u001b[0m\u001b[0mprog\u001b[0m\u001b[1;33m)\u001b[0m\u001b[1;33m\u001b[0m\u001b[1;33m\u001b[0m\u001b[0m\n\u001b[0m\u001b[0;32m   1811\u001b[0m             )\n\u001b[0;32m   1812\u001b[0m \u001b[1;33m\u001b[0m\u001b[0m\n",
      "\u001b[1;32m~\\Anaconda3\\lib\\site-packages\\pydotplus\\graphviz.py\u001b[0m in \u001b[0;36mwrite\u001b[1;34m(self, path, prog, format)\u001b[0m\n\u001b[0;32m   1916\u001b[0m \u001b[1;33m\u001b[0m\u001b[0m\n\u001b[0;32m   1917\u001b[0m             \u001b[1;32melse\u001b[0m\u001b[1;33m:\u001b[0m\u001b[1;33m\u001b[0m\u001b[1;33m\u001b[0m\u001b[0m\n\u001b[1;32m-> 1918\u001b[1;33m                 \u001b[0mfobj\u001b[0m\u001b[1;33m.\u001b[0m\u001b[0mwrite\u001b[0m\u001b[1;33m(\u001b[0m\u001b[0mself\u001b[0m\u001b[1;33m.\u001b[0m\u001b[0mcreate\u001b[0m\u001b[1;33m(\u001b[0m\u001b[0mprog\u001b[0m\u001b[1;33m,\u001b[0m \u001b[0mformat\u001b[0m\u001b[1;33m)\u001b[0m\u001b[1;33m)\u001b[0m\u001b[1;33m\u001b[0m\u001b[1;33m\u001b[0m\u001b[0m\n\u001b[0m\u001b[0;32m   1919\u001b[0m         \u001b[1;32mfinally\u001b[0m\u001b[1;33m:\u001b[0m\u001b[1;33m\u001b[0m\u001b[1;33m\u001b[0m\u001b[0m\n\u001b[0;32m   1920\u001b[0m             \u001b[1;32mif\u001b[0m \u001b[0mclose\u001b[0m\u001b[1;33m:\u001b[0m\u001b[1;33m\u001b[0m\u001b[1;33m\u001b[0m\u001b[0m\n",
      "\u001b[1;32m~\\Anaconda3\\lib\\site-packages\\pydotplus\\graphviz.py\u001b[0m in \u001b[0;36mcreate\u001b[1;34m(self, prog, format)\u001b[0m\n\u001b[0;32m   1958\u001b[0m             \u001b[1;32mif\u001b[0m \u001b[0mself\u001b[0m\u001b[1;33m.\u001b[0m\u001b[0mprogs\u001b[0m \u001b[1;32mis\u001b[0m \u001b[1;32mNone\u001b[0m\u001b[1;33m:\u001b[0m\u001b[1;33m\u001b[0m\u001b[1;33m\u001b[0m\u001b[0m\n\u001b[0;32m   1959\u001b[0m                 raise InvocationException(\n\u001b[1;32m-> 1960\u001b[1;33m                     'GraphViz\\'s executables not found')\n\u001b[0m\u001b[0;32m   1961\u001b[0m \u001b[1;33m\u001b[0m\u001b[0m\n\u001b[0;32m   1962\u001b[0m         \u001b[1;32mif\u001b[0m \u001b[0mprog\u001b[0m \u001b[1;32mnot\u001b[0m \u001b[1;32min\u001b[0m \u001b[0mself\u001b[0m\u001b[1;33m.\u001b[0m\u001b[0mprogs\u001b[0m\u001b[1;33m:\u001b[0m\u001b[1;33m\u001b[0m\u001b[1;33m\u001b[0m\u001b[0m\n",
      "\u001b[1;31mInvocationException\u001b[0m: GraphViz's executables not found"
     ]
    }
   ],
   "source": [
    "import graphviz\n",
    "dot_data = tree.export_graphviz( clf, out_file=None, feature_names=feature_names, class_names=[\"1990\",\"2000\",\"2010\",\"2019\"], filled=True, rounded=True, special_characters=True)\n",
    "\n",
    "import pydotplus\n",
    "graph = pydotplus.graph_from_dot_data(dot_data)\n",
    "graph.write_png('music.png')\n",
    "graph = graphviz.Source(dot_data) \n",
    "graph\n"
   ]
  },
  {
   "cell_type": "markdown",
   "metadata": {},
   "source": [
    "### Random Forest"
   ]
  },
  {
   "cell_type": "code",
   "execution_count": 18,
   "metadata": {},
   "outputs": [
    {
     "data": {
      "text/plain": [
       "[(0.12324510734357155, 'loudness'),\n",
       " (0.12156671560609068, 'duration_ms'),\n",
       " (0.09977746458081216, 'speechiness'),\n",
       " (0.09238159854553105, 'energy'),\n",
       " (0.08900290098108064, 'valence'),\n",
       " (0.08839146467346365, 'tempo'),\n",
       " (0.08499604771784763, 'acousticness'),\n",
       " (0.08364395140165948, 'danceability'),\n",
       " (0.07938502966680465, 'liveness'),\n",
       " (0.0652040163894877, 'instrumentalness'),\n",
       " (0.05283306447168796, 'key'),\n",
       " (0.01438582477333663, 'mode'),\n",
       " (0.005186813848626096, 'time_signature')]"
      ]
     },
     "execution_count": 18,
     "metadata": {},
     "output_type": "execute_result"
    }
   ],
   "source": [
    "from sklearn.ensemble import RandomForestClassifier \n",
    "rf = RandomForestClassifier(n_estimators=200) \n",
    "rf = rf.fit(X_train_scaled, y_train) \n",
    "rf.score(X_test_scaled, y_test)\n",
    "feature_names = X.columns\n",
    "sorted(zip(rf.feature_importances_, feature_names), reverse=True)"
   ]
  },
  {
   "cell_type": "code",
   "execution_count": 19,
   "metadata": {},
   "outputs": [
    {
     "data": {
      "text/plain": [
       "0.44274809160305345"
      ]
     },
     "execution_count": 19,
     "metadata": {},
     "output_type": "execute_result"
    }
   ],
   "source": [
    "rf.score(X_test_scaled, y_test)"
   ]
  },
  {
   "cell_type": "markdown",
   "metadata": {},
   "source": [
    "### Neural Network"
   ]
  },
  {
   "cell_type": "code",
   "execution_count": 20,
   "metadata": {},
   "outputs": [],
   "source": [
    "from numpy.random import seed \n",
    "seed(42)"
   ]
  },
  {
   "cell_type": "code",
   "execution_count": 21,
   "metadata": {},
   "outputs": [
    {
     "name": "stderr",
     "output_type": "stream",
     "text": [
      "Using TensorFlow backend.\n"
     ]
    }
   ],
   "source": [
    "from keras.utils import to_categorical\n",
    "y_train_cate = to_categorical(y_train)\n",
    "y_test_cate = to_categorical(y_test)"
   ]
  },
  {
   "cell_type": "code",
   "execution_count": 22,
   "metadata": {},
   "outputs": [],
   "source": [
    "from tensorflow.keras.models import Sequential \n",
    "model_neural = Sequential()\n"
   ]
  },
  {
   "cell_type": "code",
   "execution_count": 23,
   "metadata": {
    "scrolled": true
   },
   "outputs": [
    {
     "name": "stdout",
     "output_type": "stream",
     "text": [
      "Model: \"sequential\"\n",
      "_________________________________________________________________\n",
      "Layer (type)                 Output Shape              Param #   \n",
      "=================================================================\n",
      "dense (Dense)                (None, 100)               1400      \n",
      "_________________________________________________________________\n",
      "dense_1 (Dense)              (None, 100)               10100     \n",
      "_________________________________________________________________\n",
      "dense_2 (Dense)              (None, 100)               10100     \n",
      "_________________________________________________________________\n",
      "dense_3 (Dense)              (None, 100)               10100     \n",
      "_________________________________________________________________\n",
      "dense_4 (Dense)              (None, 100)               10100     \n",
      "_________________________________________________________________\n",
      "dense_5 (Dense)              (None, 100)               10100     \n",
      "_________________________________________________________________\n",
      "dense_6 (Dense)              (None, 100)               10100     \n",
      "_________________________________________________________________\n",
      "dense_7 (Dense)              (None, 100)               10100     \n",
      "_________________________________________________________________\n",
      "dense_8 (Dense)              (None, 100)               10100     \n",
      "_________________________________________________________________\n",
      "dense_9 (Dense)              (None, 100)               10100     \n",
      "_________________________________________________________________\n",
      "dense_10 (Dense)             (None, 100)               10100     \n",
      "_________________________________________________________________\n",
      "dense_11 (Dense)             (None, 100)               10100     \n",
      "_________________________________________________________________\n",
      "dense_12 (Dense)             (None, 4)                 404       \n",
      "=================================================================\n",
      "Total params: 112,904\n",
      "Trainable params: 112,904\n",
      "Non-trainable params: 0\n",
      "_________________________________________________________________\n"
     ]
    }
   ],
   "source": [
    "from tensorflow.keras.layers import Dense \n",
    "number_inputs = 13 \n",
    "number_hidden_nodes = 100 \n",
    "model_neural.add(Dense(units=number_hidden_nodes, activation='relu', input_dim=number_inputs))\n",
    "\n",
    "for i in range(11):\n",
    "    model_neural.add(Dense(units=number_hidden_nodes, activation='relu')) \n",
    "\n",
    "number_classes = 4 \n",
    "model_neural.add(Dense(units=number_classes, activation='softmax'))\n",
    "model_neural.summary()\n"
   ]
  },
  {
   "cell_type": "code",
   "execution_count": 24,
   "metadata": {},
   "outputs": [],
   "source": [
    "model_neural.compile(optimizer='adam', loss='categorical_crossentropy', metrics=['accuracy'])"
   ]
  },
  {
   "cell_type": "code",
   "execution_count": 25,
   "metadata": {},
   "outputs": [
    {
     "name": "stdout",
     "output_type": "stream",
     "text": [
      "Train on 1176 samples\n",
      "Epoch 1/20\n",
      "1176/1176 - 2s - loss: 1.3714 - accuracy: 0.3112\n",
      "Epoch 2/20\n",
      "1176/1176 - 0s - loss: 1.2613 - accuracy: 0.3946\n",
      "Epoch 3/20\n",
      "1176/1176 - 0s - loss: 1.1945 - accuracy: 0.4651\n",
      "Epoch 4/20\n",
      "1176/1176 - 0s - loss: 1.1782 - accuracy: 0.4753\n",
      "Epoch 5/20\n",
      "1176/1176 - 0s - loss: 1.1534 - accuracy: 0.4974\n",
      "Epoch 6/20\n",
      "1176/1176 - 0s - loss: 1.1350 - accuracy: 0.4949\n",
      "Epoch 7/20\n",
      "1176/1176 - 0s - loss: 1.1116 - accuracy: 0.5213\n",
      "Epoch 8/20\n",
      "1176/1176 - 0s - loss: 1.0854 - accuracy: 0.5357\n",
      "Epoch 9/20\n",
      "1176/1176 - 0s - loss: 1.0688 - accuracy: 0.5357\n",
      "Epoch 10/20\n",
      "1176/1176 - 0s - loss: 1.0504 - accuracy: 0.5374\n",
      "Epoch 11/20\n",
      "1176/1176 - 0s - loss: 1.0428 - accuracy: 0.5340\n",
      "Epoch 12/20\n",
      "1176/1176 - 0s - loss: 1.0047 - accuracy: 0.5859\n",
      "Epoch 13/20\n",
      "1176/1176 - 0s - loss: 0.9634 - accuracy: 0.6037\n",
      "Epoch 14/20\n",
      "1176/1176 - 0s - loss: 0.9135 - accuracy: 0.6293\n",
      "Epoch 15/20\n",
      "1176/1176 - 0s - loss: 0.8667 - accuracy: 0.6480\n",
      "Epoch 16/20\n",
      "1176/1176 - 0s - loss: 0.8725 - accuracy: 0.6335\n",
      "Epoch 17/20\n",
      "1176/1176 - 0s - loss: 0.8336 - accuracy: 0.6573\n",
      "Epoch 18/20\n",
      "1176/1176 - 0s - loss: 0.7914 - accuracy: 0.6820\n",
      "Epoch 19/20\n",
      "1176/1176 - 0s - loss: 0.7911 - accuracy: 0.6837\n",
      "Epoch 20/20\n",
      "1176/1176 - 0s - loss: 0.7370 - accuracy: 0.6973\n",
      "393/1 - 0s - loss: 1.9327 - accuracy: 0.4020\n",
      "Loss: 2.2207860479524726, Accuracy: 0.4020356237888336\n"
     ]
    }
   ],
   "source": [
    "model_neural.fit( X_train_scaled, y_train_cate, epochs=20, shuffle=True, verbose=2 )\n",
    "model_loss, model_accuracy = model_neural.evaluate( X_test_scaled, y_test_cate, verbose=2) \n",
    "print(f\"Loss: {model_loss}, Accuracy: {model_accuracy}\")\n"
   ]
  },
  {
   "cell_type": "markdown",
   "metadata": {},
   "source": [
    "### K Nearest Neighbors"
   ]
  },
  {
   "cell_type": "code",
   "execution_count": 26,
   "metadata": {},
   "outputs": [
    {
     "name": "stdout",
     "output_type": "stream",
     "text": [
      "k: 1, Train/Test Score: 0.972/0.326\n",
      "k: 3, Train/Test Score: 0.656/0.313\n",
      "k: 5, Train/Test Score: 0.591/0.338\n",
      "k: 7, Train/Test Score: 0.565/0.364\n",
      "k: 9, Train/Test Score: 0.547/0.392\n",
      "k: 11, Train/Test Score: 0.560/0.402\n",
      "k: 13, Train/Test Score: 0.535/0.394\n",
      "k: 15, Train/Test Score: 0.520/0.397\n",
      "k: 17, Train/Test Score: 0.512/0.384\n",
      "k: 19, Train/Test Score: 0.516/0.394\n"
     ]
    }
   ],
   "source": [
    "from sklearn.neighbors import KNeighborsClassifier\n",
    "train_scores = [] \n",
    "test_scores = []\n",
    "for k in range(1, 20, 2):\n",
    "      knn = KNeighborsClassifier(n_neighbors=k)\n",
    "      knn.fit(X_train_scaled, y_train)  \n",
    "      train_score = knn.score(X_train_scaled, y_train)\n",
    "      test_score = knn.score(X_test_scaled, y_test) \n",
    "      train_scores.append(train_score) \n",
    "      test_scores.append(test_score)\n",
    "      print(f\"k: {k}, Train/Test Score: {train_score:.3f}/{test_score:.3f}\")\n"
   ]
  },
  {
   "cell_type": "code",
   "execution_count": 39,
   "metadata": {
    "scrolled": true
   },
   "outputs": [
    {
     "data": {
      "image/png": "[encoded data removed]",
      "text/plain": [
       "<Figure size 432x288 with 1 Axes>"
      ]
     },
     "metadata": {
      "needs_background": "light"
     },
     "output_type": "display_data"
    },
    {
     "data": {
      "text/plain": [
       "<Figure size 432x288 with 0 Axes>"
      ]
     },
     "metadata": {},
     "output_type": "display_data"
    }
   ],
   "source": [
    "plt.plot(range(1, 20, 2), train_scores, marker='o') \n",
    "plt.plot(range(1, 20, 2), test_scores, marker=\"x\") \n",
    "plt.xlabel(\"k neighbors\") \n",
    "plt.ylabel(\"Testing accuracy Score\")\n",
    "plt.show()\n",
    "plt.savefig(\"K_Neighbors.png\")"
   ]
  },
  {
   "cell_type": "code",
   "execution_count": 35,
   "metadata": {},
   "outputs": [
    {
     "data": {
      "text/plain": [
       "<Figure size 432x288 with 0 Axes>"
      ]
     },
     "metadata": {},
     "output_type": "display_data"
    }
   ],
   "source": []
  },
  {
   "cell_type": "code",
   "execution_count": 28,
   "metadata": {},
   "outputs": [
    {
     "name": "stdout",
     "output_type": "stream",
     "text": [
      "k=11 Test Acc: 0.402\n"
     ]
    }
   ],
   "source": [
    "knn = KNeighborsClassifier(n_neighbors=11)\n",
    "knn.fit(X_train_scaled, y_train) \n",
    "print('k=11 Test Acc: %.3f' % knn.score(X_test_scaled, y_test))\n"
   ]
  },
  {
   "cell_type": "markdown",
   "metadata": {},
   "source": [
    "### Gaussian Naive Bayes"
   ]
  },
  {
   "cell_type": "code",
   "execution_count": 29,
   "metadata": {},
   "outputs": [
    {
     "data": {
      "text/plain": [
       "0.37404580152671757"
      ]
     },
     "execution_count": 29,
     "metadata": {},
     "output_type": "execute_result"
    }
   ],
   "source": [
    "#from sklearn import datasets\n",
    "from sklearn.naive_bayes import GaussianNB\n",
    "gnb = GaussianNB()\n",
    "gnb.fit(X_train_scaled, y_train)\n",
    "gnb.score(X_test_scaled, y_test)"
   ]
  },
  {
   "cell_type": "markdown",
   "metadata": {},
   "source": [
    "### Support Vector Machine"
   ]
  },
  {
   "cell_type": "code",
   "execution_count": 30,
   "metadata": {},
   "outputs": [
    {
     "name": "stdout",
     "output_type": "stream",
     "text": [
      "              precision    recall  f1-score   support\n",
      "\n",
      "        1990       0.41      0.41      0.41       109\n",
      "        2000       0.32      0.26      0.29        88\n",
      "        2010       0.39      0.40      0.39       101\n",
      "        2019       0.48      0.55      0.51        95\n",
      "\n",
      "   micro avg       0.41      0.41      0.41       393\n",
      "   macro avg       0.40      0.40      0.40       393\n",
      "weighted avg       0.40      0.41      0.40       393\n",
      "\n"
     ]
    }
   ],
   "source": [
    "from sklearn.svm import SVC\n",
    "model_svc = SVC(kernel='linear') \n",
    "model_svc.fit(X_train_scaled, y_train)\n",
    "\n",
    "from sklearn.metrics import classification_report\n",
    "predictions = model_svc.predict(X_test_scaled)\n",
    "\n",
    "print(classification_report(y_test, predictions, target_names=[\"1990\", \"2000\",\"2010\",\"2019\"]))\n"
   ]
  },
  {
   "cell_type": "code",
   "execution_count": 31,
   "metadata": {},
   "outputs": [
    {
     "data": {
      "text/plain": [
       "array([[45, 22, 20, 22],\n",
       "       [27, 23, 24, 14],\n",
       "       [23, 18, 40, 20],\n",
       "       [14, 10, 19, 52]], dtype=int64)"
      ]
     },
     "execution_count": 31,
     "metadata": {},
     "output_type": "execute_result"
    }
   ],
   "source": [
    "svm_predictions = model_svc.predict(X_test_scaled) \n",
    "from sklearn.metrics import confusion_matrix \n",
    "cm = confusion_matrix(y_test, svm_predictions) \n",
    "cm"
   ]
  },
  {
   "cell_type": "markdown",
   "metadata": {},
   "source": [
    "### Logistic Regression"
   ]
  },
  {
   "cell_type": "code",
   "execution_count": 32,
   "metadata": {},
   "outputs": [
    {
     "name": "stderr",
     "output_type": "stream",
     "text": [
      "C:\\Users\\Owner\\Anaconda3\\lib\\site-packages\\sklearn\\linear_model\\logistic.py:433: FutureWarning: Default solver will be changed to 'lbfgs' in 0.22. Specify a solver to silence this warning.\n",
      "  FutureWarning)\n",
      "C:\\Users\\Owner\\Anaconda3\\lib\\site-packages\\sklearn\\linear_model\\logistic.py:460: FutureWarning: Default multi_class will be changed to 'auto' in 0.22. Specify the multi_class option to silence this warning.\n",
      "  \"this warning.\", FutureWarning)\n"
     ]
    },
    {
     "name": "stdout",
     "output_type": "stream",
     "text": [
      "Training Data Score: 0.46003401360544216\n",
      "Testing Data Score: 0.40458015267175573\n"
     ]
    }
   ],
   "source": [
    "from sklearn.linear_model import LogisticRegression \n",
    "classifier = LogisticRegression()\n",
    "classifier.fit(X_train_scaled, y_train)\n",
    "\n",
    "print(f\"Training Data Score: {classifier.score(X_train_scaled, y_train)}\")\n",
    "print(f\"Testing Data Score: {classifier.score(X_test_scaled, y_test)}\")\n"
   ]
  },
  {
   "cell_type": "code",
   "execution_count": 33,
   "metadata": {},
   "outputs": [
    {
     "name": "stderr",
     "output_type": "stream",
     "text": [
      "C:\\Users\\Owner\\Anaconda3\\lib\\site-packages\\sklearn\\model_selection\\_split.py:2053: FutureWarning: You should specify a value for 'cv' instead of relying on the default value. The default value will change from 3 to 5 in version 0.22.\n",
      "  warnings.warn(CV_WARNING, FutureWarning)\n"
     ]
    },
    {
     "name": "stdout",
     "output_type": "stream",
     "text": [
      "Training Data Score: 0.4685374149659864\n",
      "Testing Data Score: 0.3994910941475827\n"
     ]
    }
   ],
   "source": [
    "from sklearn.linear_model import LogisticRegressionCV \n",
    "classifier = LogisticRegressionCV(multi_class=\"multinomial\")\n",
    "classifier.fit(X_train_scaled, y_train)\n",
    "\n",
    "print(f\"Training Data Score: {classifier.score(X_train_scaled, y_train)}\")\n",
    "print(f\"Testing Data Score: {classifier.score(X_test_scaled, y_test)}\")"
   ]
  },
  {
   "cell_type": "code",
   "execution_count": 34,
   "metadata": {},
   "outputs": [
    {
     "name": "stdout",
     "output_type": "stream",
     "text": [
      "Training Data Score: 0.4549319727891156\n",
      "Testing Data Score: 0.40966921119592875\n"
     ]
    }
   ],
   "source": [
    "from sklearn.linear_model import RidgeClassifierCV\n",
    "classifier = RidgeClassifierCV()\n",
    "classifier.fit(X_train_scaled, y_train)\n",
    "\n",
    "print(f\"Training Data Score: {classifier.score(X_train_scaled, y_train)}\")\n",
    "print(f\"Testing Data Score: {classifier.score(X_test_scaled, y_test)}\")"
   ]
  }
 ],
 "metadata": {
  "kernelspec": {
   "display_name": "Python 3",
   "language": "python",
   "name": "python3"
  },
  "language_info": {
   "codemirror_mode": {
    "name": "ipython",
    "version": 3
   },
   "file_extension": ".py",
   "mimetype": "text/x-python",
   "name": "python",
   "nbconvert_exporter": "python",
   "pygments_lexer": "ipython3",
   "version": "3.7.3"
  }
 },
 "nbformat": 4,
 "nbformat_minor": 2
}
