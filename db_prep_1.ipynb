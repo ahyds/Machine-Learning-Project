{
 "cells": [
  {
   "cell_type": "markdown",
   "metadata": {
    "colab_type": "text",
    "id": "nYhVyo3763pd"
   },
   "source": [
    "## Import/Setup Spotify API"
   ]
  },
  {
   "cell_type": "code",
   "execution_count": null,
   "metadata": {},
   "outputs": [],
   "source": [
    "import spotipy\n",
    "import spotipy.util as util\n",
    "from spotipy.oauth2 import SpotifyClientCredentials\n",
    "import spotipy.oauth2 as oauth2"
   ]
  },
  {
   "cell_type": "code",
   "execution_count": null,
   "metadata": {},
   "outputs": [],
   "source": [
    "market = [ \"AD\", \"AR\", \"AT\", \"AU\", \"BE\", \"BG\", \"BO\", \"BR\", \"CA\", \"CH\", \"CL\", \"CO\", \"CR\", \"CY\", \n",
    "      \"CZ\", \"DE\", \"DK\", \"DO\", \"EC\", \"EE\", \"ES\", \"FI\", \"FR\", \"GB\", \"GR\", \"GT\", \"HK\", \"HN\", \"HU\", \n",
    "      \"ID\", \"IE\", \"IS\", \"IT\", \"JP\", \"LI\", \"LT\", \"LU\", \"LV\", \"MC\", \"MT\", \"MX\", \"MY\", \"NI\", \"NL\", \n",
    "      \"NO\", \"NZ\", \"PA\", \"PE\", \"PH\", \"PL\", \"PT\", \"PY\", \"SE\", \"SG\", \"SK\", \"SV\", \"TH\", \"TR\", \"TW\", \n",
    "      \"US\", \"UY\", \"VN\" ]\n",
    "\n",
    "CLIENT_ID = \"813f8f53f74c49ce8e253d531af8bb37\"\n",
    "CLIENT_SECRET = \"208916a495dc40f4b32b7d5e50a9a878\"\n",
    "\n",
    "credentials = oauth2.SpotifyClientCredentials(\n",
    "        client_id=CLIENT_ID,\n",
    "        client_secret=CLIENT_SECRET)\n",
    "\n",
    "token = credentials.get_access_token()\n",
    "spotify = spotipy.Spotify(auth=token)"
   ]
  },
  {
   "cell_type": "markdown",
   "metadata": {},
   "source": [
    "## Import Pandas"
   ]
  },
  {
   "cell_type": "code",
   "execution_count": null,
   "metadata": {},
   "outputs": [],
   "source": [
    "import pandas as pd"
   ]
  },
  {
   "cell_type": "markdown",
   "metadata": {},
   "source": [
    "## Billboard Ranking Extract"
   ]
  },
  {
   "cell_type": "code",
   "execution_count": 1,
   "metadata": {
    "colab": {},
    "colab_type": "code",
    "id": "k_XOpvxM68Oc"
   },
   "outputs": [],
   "source": [
    "import billboard\n",
    "from time import sleep"
   ]
  },
  {
   "cell_type": "markdown",
   "metadata": {},
   "source": [
    "### 1990 Hot 100 Chart"
   ]
  },
  {
   "cell_type": "code",
   "execution_count": 20,
   "metadata": {
    "colab": {},
    "colab_type": "code",
    "id": "-8aUPwJG7cqj"
   },
   "outputs": [
    {
     "name": "stdout",
     "output_type": "stream",
     "text": [
      "1990-01-01 chart appended.\n",
      "1990-02-01 chart appended.\n",
      "1990-03-01 chart appended.\n",
      "1990-04-01 chart appended.\n",
      "1990-05-01 chart appended.\n",
      "1990-06-01 chart appended.\n",
      "1990-07-01 chart appended.\n",
      "1990-08-01 chart appended.\n",
      "1990-09-01 chart appended.\n",
      "1990-10-01 chart appended.\n",
      "1990-11-01 chart appended.\n",
      "1990-12-01 chart appended.\n"
     ]
    }
   ],
   "source": [
    "i = 1\n",
    "charts1990 = []\n",
    "while i <= 12:\n",
    "\n",
    "  if i < 10:\n",
    "    date1990 = \"1990-0\" + str(i) +\"-01\"\n",
    "  else:\n",
    "    date1990 = \"1990-\" + str(i) +\"-01\"\n",
    "#   print(i)\n",
    "#   print(date1990)\n",
    "\n",
    "  charts = billboard.ChartData('hot-100', date=date1990, fetch=True, timeout=25)\n",
    "  # print(charts)\n",
    "  charts1990.append(charts)\n",
    "  print(f\"{date1990} chart appended.\")\n",
    "\n",
    "  i += 1\n",
    "  sleep(120)"
   ]
  },
  {
   "cell_type": "code",
   "execution_count": 21,
   "metadata": {},
   "outputs": [
    {
     "data": {
      "text/plain": [
       "[billboard.ChartData('hot-100', date='1990-01-06'),\n",
       " billboard.ChartData('hot-100', date='1990-02-03'),\n",
       " billboard.ChartData('hot-100', date='1990-03-03'),\n",
       " billboard.ChartData('hot-100', date='1990-04-07'),\n",
       " billboard.ChartData('hot-100', date='1990-05-05'),\n",
       " billboard.ChartData('hot-100', date='1990-06-02'),\n",
       " billboard.ChartData('hot-100', date='1990-07-07'),\n",
       " billboard.ChartData('hot-100', date='1990-08-04'),\n",
       " billboard.ChartData('hot-100', date='1990-09-01'),\n",
       " billboard.ChartData('hot-100', date='1990-10-06'),\n",
       " billboard.ChartData('hot-100', date='1990-11-03'),\n",
       " billboard.ChartData('hot-100', date='1990-12-01')]"
      ]
     },
     "execution_count": 21,
     "metadata": {},
     "output_type": "execute_result"
    }
   ],
   "source": [
    "charts1990"
   ]
  },
  {
   "cell_type": "markdown",
   "metadata": {},
   "source": [
    "### Get Song Titles for 1990's chart"
   ]
  },
  {
   "cell_type": "code",
   "execution_count": 22,
   "metadata": {},
   "outputs": [],
   "source": [
    "# Year 1990\n",
    "song_titles_1990 = []\n",
    "\n",
    "for chart in charts1990:\n",
    "    count = 0\n",
    "    while count < len(chart):\n",
    "        song_titles_1990.append(chart[count].title)\n",
    "        count += 1"
   ]
  },
  {
   "cell_type": "code",
   "execution_count": 23,
   "metadata": {},
   "outputs": [
    {
     "data": {
      "text/plain": [
       "1200"
      ]
     },
     "execution_count": 23,
     "metadata": {},
     "output_type": "execute_result"
    }
   ],
   "source": [
    "len(song_titles_1990)"
   ]
  },
  {
   "cell_type": "code",
   "execution_count": 24,
   "metadata": {},
   "outputs": [
    {
     "name": "stdout",
     "output_type": "stream",
     "text": [
      "retrying ...1secs\n",
      "retrying ...1secs\n",
      "retrying ...1secs\n"
     ]
    }
   ],
   "source": [
    "output_1990 = []\n",
    "for title in song_titles_1990:\n",
    "  output_1990.append(spotify.search(title, type=\"track\", market=market, limit=1))"
   ]
  },
  {
   "cell_type": "code",
   "execution_count": 25,
   "metadata": {},
   "outputs": [],
   "source": [
    "ids_1990 = []\n",
    "for track in output_1990:\n",
    "    # remove tracks that doesn't have corresponding id on Spotify\n",
    "    if len(track['tracks']['items']) >= 1: \n",
    "        ids_1990.append(track['tracks']['items'][0]['id'])"
   ]
  },
  {
   "cell_type": "code",
   "execution_count": 28,
   "metadata": {},
   "outputs": [
    {
     "data": {
      "text/plain": [
       "1185"
      ]
     },
     "execution_count": 28,
     "metadata": {},
     "output_type": "execute_result"
    }
   ],
   "source": [
    "len(ids_1990)"
   ]
  },
  {
   "cell_type": "code",
   "execution_count": 29,
   "metadata": {},
   "outputs": [],
   "source": [
    "features1 = spotify.audio_features(ids_1990[0:100])\n",
    "features2 = spotify.audio_features(ids_1990[100:200])\n",
    "features3 = spotify.audio_features(ids_1990[200:300])\n",
    "features4 = spotify.audio_features(ids_1990[300:400])\n",
    "features5 = spotify.audio_features(ids_1990[400:500])\n",
    "features6 = spotify.audio_features(ids_1990[500:600])\n",
    "features7 = spotify.audio_features(ids_1990[600:700])\n",
    "features8 = spotify.audio_features(ids_1990[700:800])\n",
    "features9 = spotify.audio_features(ids_1990[800:900])\n",
    "features10 = spotify.audio_features(ids_1990[900:1000])\n",
    "features11 = spotify.audio_features(ids_1990[1000:1100])\n",
    "features12 = spotify.audio_features(ids_1990[1100:])"
   ]
  },
  {
   "cell_type": "code",
   "execution_count": 31,
   "metadata": {},
   "outputs": [],
   "source": [
    "frames = [pd.DataFrame(features1),pd.DataFrame(features2),pd.DataFrame(features3),pd.DataFrame(features4),\n",
    "         pd.DataFrame(features5),pd.DataFrame(features6),pd.DataFrame(features7),pd.DataFrame(features8),\n",
    "         pd.DataFrame(features9),pd.DataFrame(features10),pd.DataFrame(features11),pd.DataFrame(features12)]"
   ]
  },
  {
   "cell_type": "code",
   "execution_count": 32,
   "metadata": {},
   "outputs": [],
   "source": [
    "df = pd.concat(frames)"
   ]
  },
  {
   "cell_type": "code",
   "execution_count": 34,
   "metadata": {},
   "outputs": [
    {
     "data": {
      "text/html": [
       "<div>\n",
       "<style scoped>\n",
       "    .dataframe tbody tr th:only-of-type {\n",
       "        vertical-align: middle;\n",
       "    }\n",
       "\n",
       "    .dataframe tbody tr th {\n",
       "        vertical-align: top;\n",
       "    }\n",
       "\n",
       "    .dataframe thead th {\n",
       "        text-align: right;\n",
       "    }\n",
       "</style>\n",
       "<table border=\"1\" class=\"dataframe\">\n",
       "  <thead>\n",
       "    <tr style=\"text-align: right;\">\n",
       "      <th></th>\n",
       "      <th>acousticness</th>\n",
       "      <th>analysis_url</th>\n",
       "      <th>danceability</th>\n",
       "      <th>duration_ms</th>\n",
       "      <th>energy</th>\n",
       "      <th>id</th>\n",
       "      <th>instrumentalness</th>\n",
       "      <th>key</th>\n",
       "      <th>liveness</th>\n",
       "      <th>loudness</th>\n",
       "      <th>mode</th>\n",
       "      <th>speechiness</th>\n",
       "      <th>tempo</th>\n",
       "      <th>time_signature</th>\n",
       "      <th>track_href</th>\n",
       "      <th>type</th>\n",
       "      <th>uri</th>\n",
       "      <th>valence</th>\n",
       "    </tr>\n",
       "  </thead>\n",
       "  <tbody>\n",
       "    <tr>\n",
       "      <th>0</th>\n",
       "      <td>0.7360</td>\n",
       "      <td>https://api.spotify.com/v1/audio-analysis/1NCu...</td>\n",
       "      <td>0.780</td>\n",
       "      <td>322133</td>\n",
       "      <td>0.565</td>\n",
       "      <td>1NCuYqMc8hKMb4cpNTcJbD</td>\n",
       "      <td>0.002690</td>\n",
       "      <td>3</td>\n",
       "      <td>0.0630</td>\n",
       "      <td>-7.320</td>\n",
       "      <td>0</td>\n",
       "      <td>0.0306</td>\n",
       "      <td>101.967</td>\n",
       "      <td>4</td>\n",
       "      <td>https://api.spotify.com/v1/tracks/1NCuYqMc8hKM...</td>\n",
       "      <td>audio_features</td>\n",
       "      <td>spotify:track:1NCuYqMc8hKMb4cpNTcJbD</td>\n",
       "      <td>0.365</td>\n",
       "    </tr>\n",
       "    <tr>\n",
       "      <th>1</th>\n",
       "      <td>0.0561</td>\n",
       "      <td>https://api.spotify.com/v1/audio-analysis/51q3...</td>\n",
       "      <td>0.631</td>\n",
       "      <td>330933</td>\n",
       "      <td>0.935</td>\n",
       "      <td>51q3nDYWAqPY4hlgKEbP6j</td>\n",
       "      <td>0.152000</td>\n",
       "      <td>1</td>\n",
       "      <td>0.6340</td>\n",
       "      <td>-8.340</td>\n",
       "      <td>0</td>\n",
       "      <td>0.0587</td>\n",
       "      <td>109.122</td>\n",
       "      <td>4</td>\n",
       "      <td>https://api.spotify.com/v1/tracks/51q3nDYWAqPY...</td>\n",
       "      <td>audio_features</td>\n",
       "      <td>spotify:track:51q3nDYWAqPY4hlgKEbP6j</td>\n",
       "      <td>0.678</td>\n",
       "    </tr>\n",
       "    <tr>\n",
       "      <th>2</th>\n",
       "      <td>0.6570</td>\n",
       "      <td>https://api.spotify.com/v1/audio-analysis/5z3Z...</td>\n",
       "      <td>0.401</td>\n",
       "      <td>211973</td>\n",
       "      <td>0.285</td>\n",
       "      <td>5z3ZDMP02xF33yCvPFnct3</td>\n",
       "      <td>0.000011</td>\n",
       "      <td>11</td>\n",
       "      <td>0.1580</td>\n",
       "      <td>-11.005</td>\n",
       "      <td>1</td>\n",
       "      <td>0.0327</td>\n",
       "      <td>130.465</td>\n",
       "      <td>4</td>\n",
       "      <td>https://api.spotify.com/v1/tracks/5z3ZDMP02xF3...</td>\n",
       "      <td>audio_features</td>\n",
       "      <td>spotify:track:5z3ZDMP02xF33yCvPFnct3</td>\n",
       "      <td>0.267</td>\n",
       "    </tr>\n",
       "    <tr>\n",
       "      <th>3</th>\n",
       "      <td>0.0287</td>\n",
       "      <td>https://api.spotify.com/v1/audio-analysis/0UAE...</td>\n",
       "      <td>0.862</td>\n",
       "      <td>215040</td>\n",
       "      <td>0.918</td>\n",
       "      <td>0UAEHlFR79k9CJvknSGUNf</td>\n",
       "      <td>0.000001</td>\n",
       "      <td>10</td>\n",
       "      <td>0.0492</td>\n",
       "      <td>-7.325</td>\n",
       "      <td>0</td>\n",
       "      <td>0.1080</td>\n",
       "      <td>124.811</td>\n",
       "      <td>4</td>\n",
       "      <td>https://api.spotify.com/v1/tracks/0UAEHlFR79k9...</td>\n",
       "      <td>audio_features</td>\n",
       "      <td>spotify:track:0UAEHlFR79k9CJvknSGUNf</td>\n",
       "      <td>0.651</td>\n",
       "    </tr>\n",
       "    <tr>\n",
       "      <th>4</th>\n",
       "      <td>0.3340</td>\n",
       "      <td>https://api.spotify.com/v1/audio-analysis/1s12...</td>\n",
       "      <td>0.713</td>\n",
       "      <td>274093</td>\n",
       "      <td>0.432</td>\n",
       "      <td>1s12gYsPeTNQ6znow46nmp</td>\n",
       "      <td>0.000299</td>\n",
       "      <td>11</td>\n",
       "      <td>0.0674</td>\n",
       "      <td>-12.639</td>\n",
       "      <td>0</td>\n",
       "      <td>0.0300</td>\n",
       "      <td>118.955</td>\n",
       "      <td>4</td>\n",
       "      <td>https://api.spotify.com/v1/tracks/1s12gYsPeTNQ...</td>\n",
       "      <td>audio_features</td>\n",
       "      <td>spotify:track:1s12gYsPeTNQ6znow46nmp</td>\n",
       "      <td>0.445</td>\n",
       "    </tr>\n",
       "  </tbody>\n",
       "</table>\n",
       "</div>"
      ],
      "text/plain": [
       "   acousticness                                       analysis_url  \\\n",
       "0        0.7360  https://api.spotify.com/v1/audio-analysis/1NCu...   \n",
       "1        0.0561  https://api.spotify.com/v1/audio-analysis/51q3...   \n",
       "2        0.6570  https://api.spotify.com/v1/audio-analysis/5z3Z...   \n",
       "3        0.0287  https://api.spotify.com/v1/audio-analysis/0UAE...   \n",
       "4        0.3340  https://api.spotify.com/v1/audio-analysis/1s12...   \n",
       "\n",
       "   danceability  duration_ms  energy                      id  \\\n",
       "0         0.780       322133   0.565  1NCuYqMc8hKMb4cpNTcJbD   \n",
       "1         0.631       330933   0.935  51q3nDYWAqPY4hlgKEbP6j   \n",
       "2         0.401       211973   0.285  5z3ZDMP02xF33yCvPFnct3   \n",
       "3         0.862       215040   0.918  0UAEHlFR79k9CJvknSGUNf   \n",
       "4         0.713       274093   0.432  1s12gYsPeTNQ6znow46nmp   \n",
       "\n",
       "   instrumentalness  key  liveness  loudness  mode  speechiness    tempo  \\\n",
       "0          0.002690    3    0.0630    -7.320     0       0.0306  101.967   \n",
       "1          0.152000    1    0.6340    -8.340     0       0.0587  109.122   \n",
       "2          0.000011   11    0.1580   -11.005     1       0.0327  130.465   \n",
       "3          0.000001   10    0.0492    -7.325     0       0.1080  124.811   \n",
       "4          0.000299   11    0.0674   -12.639     0       0.0300  118.955   \n",
       "\n",
       "   time_signature                                         track_href  \\\n",
       "0               4  https://api.spotify.com/v1/tracks/1NCuYqMc8hKM...   \n",
       "1               4  https://api.spotify.com/v1/tracks/51q3nDYWAqPY...   \n",
       "2               4  https://api.spotify.com/v1/tracks/5z3ZDMP02xF3...   \n",
       "3               4  https://api.spotify.com/v1/tracks/0UAEHlFR79k9...   \n",
       "4               4  https://api.spotify.com/v1/tracks/1s12gYsPeTNQ...   \n",
       "\n",
       "             type                                   uri  valence  \n",
       "0  audio_features  spotify:track:1NCuYqMc8hKMb4cpNTcJbD    0.365  \n",
       "1  audio_features  spotify:track:51q3nDYWAqPY4hlgKEbP6j    0.678  \n",
       "2  audio_features  spotify:track:5z3ZDMP02xF33yCvPFnct3    0.267  \n",
       "3  audio_features  spotify:track:0UAEHlFR79k9CJvknSGUNf    0.651  \n",
       "4  audio_features  spotify:track:1s12gYsPeTNQ6znow46nmp    0.445  "
      ]
     },
     "execution_count": 34,
     "metadata": {},
     "output_type": "execute_result"
    }
   ],
   "source": [
    "df.head()"
   ]
  },
  {
   "cell_type": "code",
   "execution_count": 36,
   "metadata": {},
   "outputs": [],
   "source": [
    "df.to_csv(\"1990data_redo.csv\")"
   ]
  },
  {
   "cell_type": "markdown",
   "metadata": {},
   "source": [
    "### 2000 Hot 100 Chart"
   ]
  },
  {
   "cell_type": "code",
   "execution_count": 37,
   "metadata": {},
   "outputs": [
    {
     "name": "stdout",
     "output_type": "stream",
     "text": [
      "2000-01-01 chart appended.\n",
      "2000-02-01 chart appended.\n",
      "2000-03-01 chart appended.\n",
      "2000-04-01 chart appended.\n",
      "2000-05-01 chart appended.\n",
      "2000-06-01 chart appended.\n",
      "2000-07-01 chart appended.\n",
      "2000-08-01 chart appended.\n",
      "2000-09-01 chart appended.\n",
      "2000-10-01 chart appended.\n",
      "2000-11-01 chart appended.\n",
      "2000-12-01 chart appended.\n"
     ]
    }
   ],
   "source": [
    "i = 1\n",
    "charts2000 = []\n",
    "while i <= 12:\n",
    "\n",
    "  if i < 10:\n",
    "    date2000 = \"2000-0\" + str(i) +\"-01\"\n",
    "  else:\n",
    "    date2000 = \"2000-\" + str(i) +\"-01\"\n",
    "\n",
    "  charts = billboard.ChartData('hot-100', date=date2000, fetch=True, timeout=25)\n",
    "  charts2000.append(charts)\n",
    "  print(f\"{date2000} chart appended.\")\n",
    "\n",
    "  i += 1\n",
    "  sleep(120)"
   ]
  },
  {
   "cell_type": "code",
   "execution_count": 38,
   "metadata": {},
   "outputs": [
    {
     "data": {
      "text/plain": [
       "[billboard.ChartData('hot-100', date='2000-01-01'),\n",
       " billboard.ChartData('hot-100', date='2000-02-05'),\n",
       " billboard.ChartData('hot-100', date='2000-03-04'),\n",
       " billboard.ChartData('hot-100', date='2000-04-01'),\n",
       " billboard.ChartData('hot-100', date='2000-05-06'),\n",
       " billboard.ChartData('hot-100', date='2000-06-03'),\n",
       " billboard.ChartData('hot-100', date='2000-07-01'),\n",
       " billboard.ChartData('hot-100', date='2000-08-05'),\n",
       " billboard.ChartData('hot-100', date='2000-09-02'),\n",
       " billboard.ChartData('hot-100', date='2000-10-07'),\n",
       " billboard.ChartData('hot-100', date='2000-11-04'),\n",
       " billboard.ChartData('hot-100', date='2000-12-02')]"
      ]
     },
     "execution_count": 38,
     "metadata": {},
     "output_type": "execute_result"
    }
   ],
   "source": [
    "charts2000"
   ]
  },
  {
   "cell_type": "markdown",
   "metadata": {},
   "source": [
    "### Get Song Titles for 2000's chart"
   ]
  },
  {
   "cell_type": "code",
   "execution_count": 39,
   "metadata": {},
   "outputs": [],
   "source": [
    "# Year 2000\n",
    "song_titles_2000 = []\n",
    "\n",
    "for chart in charts2000:\n",
    "    count = 0\n",
    "    while count < len(chart):\n",
    "        song_titles_2000.append(chart[count].title)\n",
    "        count += 1"
   ]
  },
  {
   "cell_type": "code",
   "execution_count": 40,
   "metadata": {},
   "outputs": [
    {
     "data": {
      "text/plain": [
       "1200"
      ]
     },
     "execution_count": 40,
     "metadata": {},
     "output_type": "execute_result"
    }
   ],
   "source": [
    "len(song_titles_2000)"
   ]
  },
  {
   "cell_type": "code",
   "execution_count": 43,
   "metadata": {},
   "outputs": [
    {
     "name": "stdout",
     "output_type": "stream",
     "text": [
      "retrying ...1secs\n",
      "retrying ...1secs\n"
     ]
    }
   ],
   "source": [
    "output_2000 = []\n",
    "for title in song_titles_2000:\n",
    "  output_2000.append(spotify.search(title, type=\"track\", market=market, limit=1))"
   ]
  },
  {
   "cell_type": "code",
   "execution_count": 44,
   "metadata": {},
   "outputs": [],
   "source": [
    "ids_2000 = []\n",
    "for track in output_2000:\n",
    "    # remove tracks that doesn't have corresponding id on Spotify\n",
    "    if len(track['tracks']['items']) >= 1: \n",
    "        ids_2000.append(track['tracks']['items'][0]['id'])"
   ]
  },
  {
   "cell_type": "code",
   "execution_count": 45,
   "metadata": {},
   "outputs": [
    {
     "data": {
      "text/plain": [
       "1191"
      ]
     },
     "execution_count": 45,
     "metadata": {},
     "output_type": "execute_result"
    }
   ],
   "source": [
    "len(ids_2000)"
   ]
  },
  {
   "cell_type": "code",
   "execution_count": 46,
   "metadata": {},
   "outputs": [],
   "source": [
    "features1 = spotify.audio_features(ids_2000[0:100])\n",
    "features2 = spotify.audio_features(ids_2000[100:200])\n",
    "features3 = spotify.audio_features(ids_2000[200:300])\n",
    "features4 = spotify.audio_features(ids_2000[300:400])\n",
    "features5 = spotify.audio_features(ids_2000[400:500])\n",
    "features6 = spotify.audio_features(ids_2000[500:600])\n",
    "features7 = spotify.audio_features(ids_2000[600:700])\n",
    "features8 = spotify.audio_features(ids_2000[700:800])\n",
    "features9 = spotify.audio_features(ids_2000[800:900])\n",
    "features10 = spotify.audio_features(ids_2000[900:1000])\n",
    "features11 = spotify.audio_features(ids_2000[1000:1100])\n",
    "features12 = spotify.audio_features(ids_2000[1100:])"
   ]
  },
  {
   "cell_type": "code",
   "execution_count": 47,
   "metadata": {},
   "outputs": [
    {
     "data": {
      "text/plain": [
       "91"
      ]
     },
     "execution_count": 47,
     "metadata": {},
     "output_type": "execute_result"
    }
   ],
   "source": [
    "len(features12)"
   ]
  },
  {
   "cell_type": "code",
   "execution_count": 48,
   "metadata": {},
   "outputs": [],
   "source": [
    "frames_2000 = [pd.DataFrame(features1),pd.DataFrame(features2),pd.DataFrame(features3),pd.DataFrame(features4),\n",
    "         pd.DataFrame(features5),pd.DataFrame(features6),pd.DataFrame(features7),pd.DataFrame(features8),\n",
    "         pd.DataFrame(features9),pd.DataFrame(features10),pd.DataFrame(features11),pd.DataFrame(features12)]"
   ]
  },
  {
   "cell_type": "code",
   "execution_count": 49,
   "metadata": {},
   "outputs": [],
   "source": [
    "df_2000 = pd.concat(frames_2000)"
   ]
  },
  {
   "cell_type": "code",
   "execution_count": 51,
   "metadata": {},
   "outputs": [
    {
     "data": {
      "text/html": [
       "<div>\n",
       "<style scoped>\n",
       "    .dataframe tbody tr th:only-of-type {\n",
       "        vertical-align: middle;\n",
       "    }\n",
       "\n",
       "    .dataframe tbody tr th {\n",
       "        vertical-align: top;\n",
       "    }\n",
       "\n",
       "    .dataframe thead th {\n",
       "        text-align: right;\n",
       "    }\n",
       "</style>\n",
       "<table border=\"1\" class=\"dataframe\">\n",
       "  <thead>\n",
       "    <tr style=\"text-align: right;\">\n",
       "      <th></th>\n",
       "      <th>acousticness</th>\n",
       "      <th>analysis_url</th>\n",
       "      <th>danceability</th>\n",
       "      <th>duration_ms</th>\n",
       "      <th>energy</th>\n",
       "      <th>id</th>\n",
       "      <th>instrumentalness</th>\n",
       "      <th>key</th>\n",
       "      <th>liveness</th>\n",
       "      <th>loudness</th>\n",
       "      <th>mode</th>\n",
       "      <th>speechiness</th>\n",
       "      <th>tempo</th>\n",
       "      <th>time_signature</th>\n",
       "      <th>track_href</th>\n",
       "      <th>type</th>\n",
       "      <th>uri</th>\n",
       "      <th>valence</th>\n",
       "    </tr>\n",
       "  </thead>\n",
       "  <tbody>\n",
       "    <tr>\n",
       "      <th>0</th>\n",
       "      <td>0.24700</td>\n",
       "      <td>https://api.spotify.com/v1/audio-analysis/2bCQ...</td>\n",
       "      <td>0.853</td>\n",
       "      <td>257760</td>\n",
       "      <td>0.981</td>\n",
       "      <td>2bCQHF9gdG5BNDVuEIEnNk</td>\n",
       "      <td>0.468000</td>\n",
       "      <td>8</td>\n",
       "      <td>0.3060</td>\n",
       "      <td>-3.947</td>\n",
       "      <td>1</td>\n",
       "      <td>0.0751</td>\n",
       "      <td>118.193</td>\n",
       "      <td>4</td>\n",
       "      <td>https://api.spotify.com/v1/tracks/2bCQHF9gdG5B...</td>\n",
       "      <td>audio_features</td>\n",
       "      <td>spotify:track:2bCQHF9gdG5BNDVuEIEnNk</td>\n",
       "      <td>0.5950</td>\n",
       "    </tr>\n",
       "    <tr>\n",
       "      <th>1</th>\n",
       "      <td>0.54200</td>\n",
       "      <td>https://api.spotify.com/v1/audio-analysis/6mwA...</td>\n",
       "      <td>0.649</td>\n",
       "      <td>263667</td>\n",
       "      <td>0.357</td>\n",
       "      <td>6mwA6YiKDjAUG8kWvRRUPh</td>\n",
       "      <td>0.000000</td>\n",
       "      <td>11</td>\n",
       "      <td>0.1510</td>\n",
       "      <td>-9.090</td>\n",
       "      <td>1</td>\n",
       "      <td>0.0307</td>\n",
       "      <td>129.798</td>\n",
       "      <td>4</td>\n",
       "      <td>https://api.spotify.com/v1/tracks/6mwA6YiKDjAU...</td>\n",
       "      <td>audio_features</td>\n",
       "      <td>spotify:track:6mwA6YiKDjAUG8kWvRRUPh</td>\n",
       "      <td>0.2410</td>\n",
       "    </tr>\n",
       "    <tr>\n",
       "      <th>2</th>\n",
       "      <td>0.15600</td>\n",
       "      <td>https://api.spotify.com/v1/audio-analysis/5gZE...</td>\n",
       "      <td>0.590</td>\n",
       "      <td>263800</td>\n",
       "      <td>0.666</td>\n",
       "      <td>5gZEhPrN1VLqTG1nIAXeNK</td>\n",
       "      <td>0.000000</td>\n",
       "      <td>4</td>\n",
       "      <td>0.1360</td>\n",
       "      <td>-4.047</td>\n",
       "      <td>0</td>\n",
       "      <td>0.0244</td>\n",
       "      <td>104.042</td>\n",
       "      <td>4</td>\n",
       "      <td>https://api.spotify.com/v1/tracks/5gZEhPrN1VLq...</td>\n",
       "      <td>audio_features</td>\n",
       "      <td>spotify:track:5gZEhPrN1VLqTG1nIAXeNK</td>\n",
       "      <td>0.0743</td>\n",
       "    </tr>\n",
       "    <tr>\n",
       "      <th>3</th>\n",
       "      <td>0.00681</td>\n",
       "      <td>https://api.spotify.com/v1/audio-analysis/6vc2...</td>\n",
       "      <td>0.826</td>\n",
       "      <td>187133</td>\n",
       "      <td>0.612</td>\n",
       "      <td>6vc2Jq2vaGu8z326kSrw92</td>\n",
       "      <td>0.000000</td>\n",
       "      <td>1</td>\n",
       "      <td>0.0889</td>\n",
       "      <td>-3.891</td>\n",
       "      <td>1</td>\n",
       "      <td>0.0982</td>\n",
       "      <td>120.057</td>\n",
       "      <td>4</td>\n",
       "      <td>https://api.spotify.com/v1/tracks/6vc2Jq2vaGu8...</td>\n",
       "      <td>audio_features</td>\n",
       "      <td>spotify:track:6vc2Jq2vaGu8z326kSrw92</td>\n",
       "      <td>0.7560</td>\n",
       "    </tr>\n",
       "    <tr>\n",
       "      <th>4</th>\n",
       "      <td>0.32000</td>\n",
       "      <td>https://api.spotify.com/v1/audio-analysis/6noz...</td>\n",
       "      <td>0.610</td>\n",
       "      <td>250360</td>\n",
       "      <td>0.497</td>\n",
       "      <td>6nozDLxeL0TE4MS9GqYU1v</td>\n",
       "      <td>0.000061</td>\n",
       "      <td>9</td>\n",
       "      <td>0.0884</td>\n",
       "      <td>-9.880</td>\n",
       "      <td>1</td>\n",
       "      <td>0.0279</td>\n",
       "      <td>85.031</td>\n",
       "      <td>4</td>\n",
       "      <td>https://api.spotify.com/v1/tracks/6nozDLxeL0TE...</td>\n",
       "      <td>audio_features</td>\n",
       "      <td>spotify:track:6nozDLxeL0TE4MS9GqYU1v</td>\n",
       "      <td>0.7390</td>\n",
       "    </tr>\n",
       "  </tbody>\n",
       "</table>\n",
       "</div>"
      ],
      "text/plain": [
       "   acousticness                                       analysis_url  \\\n",
       "0       0.24700  https://api.spotify.com/v1/audio-analysis/2bCQ...   \n",
       "1       0.54200  https://api.spotify.com/v1/audio-analysis/6mwA...   \n",
       "2       0.15600  https://api.spotify.com/v1/audio-analysis/5gZE...   \n",
       "3       0.00681  https://api.spotify.com/v1/audio-analysis/6vc2...   \n",
       "4       0.32000  https://api.spotify.com/v1/audio-analysis/6noz...   \n",
       "\n",
       "   danceability  duration_ms  energy                      id  \\\n",
       "0         0.853       257760   0.981  2bCQHF9gdG5BNDVuEIEnNk   \n",
       "1         0.649       263667   0.357  6mwA6YiKDjAUG8kWvRRUPh   \n",
       "2         0.590       263800   0.666  5gZEhPrN1VLqTG1nIAXeNK   \n",
       "3         0.826       187133   0.612  6vc2Jq2vaGu8z326kSrw92   \n",
       "4         0.610       250360   0.497  6nozDLxeL0TE4MS9GqYU1v   \n",
       "\n",
       "   instrumentalness  key  liveness  loudness  mode  speechiness    tempo  \\\n",
       "0          0.468000    8    0.3060    -3.947     1       0.0751  118.193   \n",
       "1          0.000000   11    0.1510    -9.090     1       0.0307  129.798   \n",
       "2          0.000000    4    0.1360    -4.047     0       0.0244  104.042   \n",
       "3          0.000000    1    0.0889    -3.891     1       0.0982  120.057   \n",
       "4          0.000061    9    0.0884    -9.880     1       0.0279   85.031   \n",
       "\n",
       "   time_signature                                         track_href  \\\n",
       "0               4  https://api.spotify.com/v1/tracks/2bCQHF9gdG5B...   \n",
       "1               4  https://api.spotify.com/v1/tracks/6mwA6YiKDjAU...   \n",
       "2               4  https://api.spotify.com/v1/tracks/5gZEhPrN1VLq...   \n",
       "3               4  https://api.spotify.com/v1/tracks/6vc2Jq2vaGu8...   \n",
       "4               4  https://api.spotify.com/v1/tracks/6nozDLxeL0TE...   \n",
       "\n",
       "             type                                   uri  valence  \n",
       "0  audio_features  spotify:track:2bCQHF9gdG5BNDVuEIEnNk   0.5950  \n",
       "1  audio_features  spotify:track:6mwA6YiKDjAUG8kWvRRUPh   0.2410  \n",
       "2  audio_features  spotify:track:5gZEhPrN1VLqTG1nIAXeNK   0.0743  \n",
       "3  audio_features  spotify:track:6vc2Jq2vaGu8z326kSrw92   0.7560  \n",
       "4  audio_features  spotify:track:6nozDLxeL0TE4MS9GqYU1v   0.7390  "
      ]
     },
     "execution_count": 51,
     "metadata": {},
     "output_type": "execute_result"
    }
   ],
   "source": [
    "df_2000.head()"
   ]
  },
  {
   "cell_type": "code",
   "execution_count": 52,
   "metadata": {},
   "outputs": [],
   "source": [
    "df_2000.to_csv(\"2000data_redo.csv\")"
   ]
  },
  {
   "cell_type": "markdown",
   "metadata": {},
   "source": [
    "### 2010 Hot 100 Chart"
   ]
  },
  {
   "cell_type": "code",
   "execution_count": 54,
   "metadata": {},
   "outputs": [
    {
     "name": "stdout",
     "output_type": "stream",
     "text": [
      "2010-01-01 chart appended.\n",
      "2010-02-01 chart appended.\n",
      "2010-03-01 chart appended.\n",
      "2010-04-01 chart appended.\n",
      "2010-05-01 chart appended.\n",
      "2010-06-01 chart appended.\n",
      "2010-07-01 chart appended.\n",
      "2010-08-01 chart appended.\n",
      "2010-09-01 chart appended.\n",
      "2010-10-01 chart appended.\n",
      "2010-11-01 chart appended.\n",
      "2010-12-01 chart appended.\n"
     ]
    }
   ],
   "source": [
    "i = 1\n",
    "charts2010 = []\n",
    "while i <= 12:\n",
    "\n",
    "  if i < 10:\n",
    "    date2010 = \"2010-0\" + str(i) +\"-01\"\n",
    "  else:\n",
    "    date2010 = \"2010-\" + str(i) +\"-01\"\n",
    "\n",
    "  charts = billboard.ChartData('hot-100', date=date2010, fetch=True, timeout=25)\n",
    "  charts2010.append(charts)\n",
    "  print(f\"{date2010} chart appended.\")\n",
    "\n",
    "  i += 1\n",
    "  sleep(120)"
   ]
  },
  {
   "cell_type": "code",
   "execution_count": 55,
   "metadata": {},
   "outputs": [
    {
     "data": {
      "text/plain": [
       "[billboard.ChartData('hot-100', date='2010-01-02'),\n",
       " billboard.ChartData('hot-100', date='2010-02-06'),\n",
       " billboard.ChartData('hot-100', date='2010-03-06'),\n",
       " billboard.ChartData('hot-100', date='2010-04-03'),\n",
       " billboard.ChartData('hot-100', date='2010-05-01'),\n",
       " billboard.ChartData('hot-100', date='2010-06-05'),\n",
       " billboard.ChartData('hot-100', date='2010-07-03'),\n",
       " billboard.ChartData('hot-100', date='2010-08-07'),\n",
       " billboard.ChartData('hot-100', date='2010-09-04'),\n",
       " billboard.ChartData('hot-100', date='2010-10-02'),\n",
       " billboard.ChartData('hot-100', date='2010-11-06'),\n",
       " billboard.ChartData('hot-100', date='2010-12-04')]"
      ]
     },
     "execution_count": 55,
     "metadata": {},
     "output_type": "execute_result"
    }
   ],
   "source": [
    "charts2010"
   ]
  },
  {
   "cell_type": "markdown",
   "metadata": {},
   "source": [
    "### Get Song Titles for 2010's chart"
   ]
  },
  {
   "cell_type": "code",
   "execution_count": 56,
   "metadata": {},
   "outputs": [],
   "source": [
    "# Year 2010\n",
    "song_titles_2010 = []\n",
    "\n",
    "for chart in charts2010:\n",
    "    count = 0\n",
    "    while count < len(chart):\n",
    "        song_titles_2010.append(chart[count].title)\n",
    "        count += 1"
   ]
  },
  {
   "cell_type": "code",
   "execution_count": 60,
   "metadata": {},
   "outputs": [],
   "source": [
    "output_2010 = []\n",
    "for title in song_titles_2010:\n",
    "  output_2010.append(spotify.search(title, type=\"track\", market=market, limit=1))"
   ]
  },
  {
   "cell_type": "code",
   "execution_count": 65,
   "metadata": {},
   "outputs": [
    {
     "data": {
      "text/plain": [
       "1199"
      ]
     },
     "execution_count": 65,
     "metadata": {},
     "output_type": "execute_result"
    }
   ],
   "source": [
    "ids_2010 = []\n",
    "for track in output_2010:\n",
    "    # remove tracks that doesn't have corresponding id on Spotify\n",
    "    if len(track['tracks']['items']) >= 1: \n",
    "        ids_2010.append(track['tracks']['items'][0]['id'])\n",
    "        \n",
    "len(ids_2010)"
   ]
  },
  {
   "cell_type": "code",
   "execution_count": 66,
   "metadata": {},
   "outputs": [],
   "source": [
    "features1 = spotify.audio_features(ids_2010[0:100])\n",
    "features2 = spotify.audio_features(ids_2010[100:200])\n",
    "features3 = spotify.audio_features(ids_2010[200:300])\n",
    "features4 = spotify.audio_features(ids_2010[300:400])\n",
    "features5 = spotify.audio_features(ids_2010[400:500])\n",
    "features6 = spotify.audio_features(ids_2010[500:600])\n",
    "features7 = spotify.audio_features(ids_2010[600:700])\n",
    "features8 = spotify.audio_features(ids_2010[700:800])\n",
    "features9 = spotify.audio_features(ids_2010[800:900])\n",
    "features10 = spotify.audio_features(ids_2010[900:1000])\n",
    "features11 = spotify.audio_features(ids_2010[1000:1100])\n",
    "features12 = spotify.audio_features(ids_2010[1100:])"
   ]
  },
  {
   "cell_type": "code",
   "execution_count": 67,
   "metadata": {},
   "outputs": [],
   "source": [
    "frames_2010 = [pd.DataFrame(features1),pd.DataFrame(features2),pd.DataFrame(features3),pd.DataFrame(features4),\n",
    "         pd.DataFrame(features5),pd.DataFrame(features6),pd.DataFrame(features7),pd.DataFrame(features8),\n",
    "         pd.DataFrame(features9),pd.DataFrame(features10),pd.DataFrame(features11),pd.DataFrame(features12)]"
   ]
  },
  {
   "cell_type": "code",
   "execution_count": 68,
   "metadata": {},
   "outputs": [],
   "source": [
    "df_2010 = pd.concat(frames_2010)"
   ]
  },
  {
   "cell_type": "code",
   "execution_count": 69,
   "metadata": {},
   "outputs": [
    {
     "data": {
      "text/html": [
       "<div>\n",
       "<style scoped>\n",
       "    .dataframe tbody tr th:only-of-type {\n",
       "        vertical-align: middle;\n",
       "    }\n",
       "\n",
       "    .dataframe tbody tr th {\n",
       "        vertical-align: top;\n",
       "    }\n",
       "\n",
       "    .dataframe thead th {\n",
       "        text-align: right;\n",
       "    }\n",
       "</style>\n",
       "<table border=\"1\" class=\"dataframe\">\n",
       "  <thead>\n",
       "    <tr style=\"text-align: right;\">\n",
       "      <th></th>\n",
       "      <th>acousticness</th>\n",
       "      <th>analysis_url</th>\n",
       "      <th>danceability</th>\n",
       "      <th>duration_ms</th>\n",
       "      <th>energy</th>\n",
       "      <th>id</th>\n",
       "      <th>instrumentalness</th>\n",
       "      <th>key</th>\n",
       "      <th>liveness</th>\n",
       "      <th>loudness</th>\n",
       "      <th>mode</th>\n",
       "      <th>speechiness</th>\n",
       "      <th>tempo</th>\n",
       "      <th>time_signature</th>\n",
       "      <th>track_href</th>\n",
       "      <th>type</th>\n",
       "      <th>uri</th>\n",
       "      <th>valence</th>\n",
       "    </tr>\n",
       "  </thead>\n",
       "  <tbody>\n",
       "    <tr>\n",
       "      <th>0</th>\n",
       "      <td>0.099100</td>\n",
       "      <td>https://api.spotify.com/v1/audio-analysis/0HPD...</td>\n",
       "      <td>0.755</td>\n",
       "      <td>199693</td>\n",
       "      <td>0.837</td>\n",
       "      <td>0HPD5WQqrq7wPWR7P7Dw1i</td>\n",
       "      <td>0.000000</td>\n",
       "      <td>2</td>\n",
       "      <td>0.2890</td>\n",
       "      <td>-2.718</td>\n",
       "      <td>0</td>\n",
       "      <td>0.1420</td>\n",
       "      <td>120.028</td>\n",
       "      <td>4</td>\n",
       "      <td>https://api.spotify.com/v1/tracks/0HPD5WQqrq7w...</td>\n",
       "      <td>audio_features</td>\n",
       "      <td>spotify:track:0HPD5WQqrq7wPWR7P7Dw1i</td>\n",
       "      <td>0.714</td>\n",
       "    </tr>\n",
       "    <tr>\n",
       "      <th>1</th>\n",
       "      <td>0.739000</td>\n",
       "      <td>https://api.spotify.com/v1/audio-analysis/5sra...</td>\n",
       "      <td>0.479</td>\n",
       "      <td>216480</td>\n",
       "      <td>0.368</td>\n",
       "      <td>5sra5UY6sD658OabHL3QtI</td>\n",
       "      <td>0.000041</td>\n",
       "      <td>6</td>\n",
       "      <td>0.1180</td>\n",
       "      <td>-7.784</td>\n",
       "      <td>1</td>\n",
       "      <td>0.0341</td>\n",
       "      <td>92.959</td>\n",
       "      <td>4</td>\n",
       "      <td>https://api.spotify.com/v1/tracks/5sra5UY6sD65...</td>\n",
       "      <td>audio_features</td>\n",
       "      <td>spotify:track:5sra5UY6sD658OabHL3QtI</td>\n",
       "      <td>0.142</td>\n",
       "    </tr>\n",
       "    <tr>\n",
       "      <th>2</th>\n",
       "      <td>0.003140</td>\n",
       "      <td>https://api.spotify.com/v1/audio-analysis/0Siy...</td>\n",
       "      <td>0.696</td>\n",
       "      <td>294573</td>\n",
       "      <td>0.921</td>\n",
       "      <td>0SiywuOBRcynK0uKGWdCnn</td>\n",
       "      <td>0.000052</td>\n",
       "      <td>0</td>\n",
       "      <td>0.0842</td>\n",
       "      <td>-3.755</td>\n",
       "      <td>1</td>\n",
       "      <td>0.0363</td>\n",
       "      <td>119.001</td>\n",
       "      <td>4</td>\n",
       "      <td>https://api.spotify.com/v1/tracks/0SiywuOBRcyn...</td>\n",
       "      <td>audio_features</td>\n",
       "      <td>spotify:track:0SiywuOBRcynK0uKGWdCnn</td>\n",
       "      <td>0.714</td>\n",
       "    </tr>\n",
       "    <tr>\n",
       "      <th>3</th>\n",
       "      <td>0.000155</td>\n",
       "      <td>https://api.spotify.com/v1/audio-analysis/4Tsm...</td>\n",
       "      <td>0.779</td>\n",
       "      <td>246960</td>\n",
       "      <td>0.640</td>\n",
       "      <td>4TsmezEQVSZNNPv5RJ65Ov</td>\n",
       "      <td>0.000770</td>\n",
       "      <td>7</td>\n",
       "      <td>0.1010</td>\n",
       "      <td>-8.415</td>\n",
       "      <td>1</td>\n",
       "      <td>0.1590</td>\n",
       "      <td>99.019</td>\n",
       "      <td>4</td>\n",
       "      <td>https://api.spotify.com/v1/tracks/4TsmezEQVSZN...</td>\n",
       "      <td>audio_features</td>\n",
       "      <td>spotify:track:4TsmezEQVSZNNPv5RJ65Ov</td>\n",
       "      <td>0.498</td>\n",
       "    </tr>\n",
       "    <tr>\n",
       "      <th>4</th>\n",
       "      <td>0.029400</td>\n",
       "      <td>https://api.spotify.com/v1/audio-analysis/3Dam...</td>\n",
       "      <td>0.591</td>\n",
       "      <td>228347</td>\n",
       "      <td>0.649</td>\n",
       "      <td>3DamFFqW32WihKkTVlwTYQ</td>\n",
       "      <td>0.000000</td>\n",
       "      <td>3</td>\n",
       "      <td>0.1330</td>\n",
       "      <td>-6.720</td>\n",
       "      <td>1</td>\n",
       "      <td>0.0417</td>\n",
       "      <td>90.002</td>\n",
       "      <td>4</td>\n",
       "      <td>https://api.spotify.com/v1/tracks/3DamFFqW32Wi...</td>\n",
       "      <td>audio_features</td>\n",
       "      <td>spotify:track:3DamFFqW32WihKkTVlwTYQ</td>\n",
       "      <td>0.489</td>\n",
       "    </tr>\n",
       "  </tbody>\n",
       "</table>\n",
       "</div>"
      ],
      "text/plain": [
       "   acousticness                                       analysis_url  \\\n",
       "0      0.099100  https://api.spotify.com/v1/audio-analysis/0HPD...   \n",
       "1      0.739000  https://api.spotify.com/v1/audio-analysis/5sra...   \n",
       "2      0.003140  https://api.spotify.com/v1/audio-analysis/0Siy...   \n",
       "3      0.000155  https://api.spotify.com/v1/audio-analysis/4Tsm...   \n",
       "4      0.029400  https://api.spotify.com/v1/audio-analysis/3Dam...   \n",
       "\n",
       "   danceability  duration_ms  energy                      id  \\\n",
       "0         0.755       199693   0.837  0HPD5WQqrq7wPWR7P7Dw1i   \n",
       "1         0.479       216480   0.368  5sra5UY6sD658OabHL3QtI   \n",
       "2         0.696       294573   0.921  0SiywuOBRcynK0uKGWdCnn   \n",
       "3         0.779       246960   0.640  4TsmezEQVSZNNPv5RJ65Ov   \n",
       "4         0.591       228347   0.649  3DamFFqW32WihKkTVlwTYQ   \n",
       "\n",
       "   instrumentalness  key  liveness  loudness  mode  speechiness    tempo  \\\n",
       "0          0.000000    2    0.2890    -2.718     0       0.1420  120.028   \n",
       "1          0.000041    6    0.1180    -7.784     1       0.0341   92.959   \n",
       "2          0.000052    0    0.0842    -3.755     1       0.0363  119.001   \n",
       "3          0.000770    7    0.1010    -8.415     1       0.1590   99.019   \n",
       "4          0.000000    3    0.1330    -6.720     1       0.0417   90.002   \n",
       "\n",
       "   time_signature                                         track_href  \\\n",
       "0               4  https://api.spotify.com/v1/tracks/0HPD5WQqrq7w...   \n",
       "1               4  https://api.spotify.com/v1/tracks/5sra5UY6sD65...   \n",
       "2               4  https://api.spotify.com/v1/tracks/0SiywuOBRcyn...   \n",
       "3               4  https://api.spotify.com/v1/tracks/4TsmezEQVSZN...   \n",
       "4               4  https://api.spotify.com/v1/tracks/3DamFFqW32Wi...   \n",
       "\n",
       "             type                                   uri  valence  \n",
       "0  audio_features  spotify:track:0HPD5WQqrq7wPWR7P7Dw1i    0.714  \n",
       "1  audio_features  spotify:track:5sra5UY6sD658OabHL3QtI    0.142  \n",
       "2  audio_features  spotify:track:0SiywuOBRcynK0uKGWdCnn    0.714  \n",
       "3  audio_features  spotify:track:4TsmezEQVSZNNPv5RJ65Ov    0.498  \n",
       "4  audio_features  spotify:track:3DamFFqW32WihKkTVlwTYQ    0.489  "
      ]
     },
     "execution_count": 69,
     "metadata": {},
     "output_type": "execute_result"
    }
   ],
   "source": [
    "df_2010.head()"
   ]
  },
  {
   "cell_type": "code",
   "execution_count": 70,
   "metadata": {},
   "outputs": [],
   "source": [
    "df_2010.to_csv(\"2010data_redo.csv\")"
   ]
  },
  {
   "cell_type": "markdown",
   "metadata": {},
   "source": [
    "### 2019 Hot 100 Chart"
   ]
  },
  {
   "cell_type": "code",
   "execution_count": 3,
   "metadata": {},
   "outputs": [
    {
     "name": "stdout",
     "output_type": "stream",
     "text": [
      "2019-01-01 chart appended.\n",
      "2019-02-01 chart appended.\n",
      "2019-03-01 chart appended.\n",
      "2019-04-01 chart appended.\n",
      "2019-05-01 chart appended.\n",
      "2019-06-01 chart appended.\n",
      "2019-07-01 chart appended.\n",
      "2019-08-01 chart appended.\n",
      "2019-09-01 chart appended.\n",
      "2019-10-01 chart appended.\n",
      "2019-11-01 chart appended.\n"
     ]
    }
   ],
   "source": [
    "i = 1\n",
    "charts2019 = []\n",
    "while i <= 11:\n",
    "\n",
    "  if i < 10:\n",
    "    date2019 = \"2019-0\" + str(i) +\"-01\"\n",
    "  else:\n",
    "    date2019 = \"2019-\" + str(i) +\"-01\"\n",
    "\n",
    "  charts = billboard.ChartData('hot-100', date=date2019, fetch=True, timeout=25)\n",
    "  charts2019.append(charts)\n",
    "  print(f\"{date2019} chart appended.\")\n",
    "\n",
    "  i += 1\n",
    "  sleep(120)"
   ]
  },
  {
   "cell_type": "markdown",
   "metadata": {},
   "source": [
    "### Get Song Titles for 2019's chart"
   ]
  },
  {
   "cell_type": "code",
   "execution_count": 4,
   "metadata": {},
   "outputs": [],
   "source": [
    "# Year 2019\n",
    "song_titles_2019 = []\n",
    "\n",
    "for chart in charts2019:\n",
    "    count = 0\n",
    "    while count < len(chart):\n",
    "        song_titles_2019.append(chart[count].title)\n",
    "        count += 1"
   ]
  },
  {
   "cell_type": "code",
   "execution_count": 5,
   "metadata": {},
   "outputs": [
    {
     "data": {
      "text/plain": [
       "1100"
      ]
     },
     "execution_count": 5,
     "metadata": {},
     "output_type": "execute_result"
    }
   ],
   "source": [
    "len(song_titles_2019)"
   ]
  },
  {
   "cell_type": "code",
   "execution_count": 8,
   "metadata": {},
   "outputs": [
    {
     "name": "stdout",
     "output_type": "stream",
     "text": [
      "retrying ...1secs\n",
      "retrying ...1secs\n"
     ]
    }
   ],
   "source": [
    "output_2019 = []\n",
    "for title in song_titles_2019:\n",
    "  output_2019.append(spotify.search(title, type=\"track\", market=market, limit=1))"
   ]
  },
  {
   "cell_type": "code",
   "execution_count": 9,
   "metadata": {},
   "outputs": [],
   "source": [
    "ids_2019 = []\n",
    "for track in output_2019:\n",
    "    # remove tracks that doesn't have corresponding id on Spotify\n",
    "    if len(track['tracks']['items']) >= 1: \n",
    "        ids_2019.append(track['tracks']['items'][0]['id'])"
   ]
  },
  {
   "cell_type": "code",
   "execution_count": 10,
   "metadata": {},
   "outputs": [
    {
     "data": {
      "text/plain": [
       "1100"
      ]
     },
     "execution_count": 10,
     "metadata": {},
     "output_type": "execute_result"
    }
   ],
   "source": [
    "# final number of songs after cleaning\n",
    "len(ids_2019)"
   ]
  },
  {
   "cell_type": "code",
   "execution_count": 73,
   "metadata": {},
   "outputs": [],
   "source": [
    "# audio_features\n",
    "features1 = spotify.audio_features(ids_2019[0:100])\n",
    "features2 = spotify.audio_features(ids_2019[100:200])\n",
    "features3 = spotify.audio_features(ids_2019[200:300])\n",
    "features4 = spotify.audio_features(ids_2019[300:400])\n",
    "features5 = spotify.audio_features(ids_2019[400:500])\n",
    "features6 = spotify.audio_features(ids_2019[500:600])\n",
    "features7 = spotify.audio_features(ids_2019[600:700])\n",
    "features8 = spotify.audio_features(ids_2019[700:800])\n",
    "features9 = spotify.audio_features(ids_2019[800:900])\n",
    "features10 = spotify.audio_features(ids_2019[900:1000])\n",
    "features11 = spotify.audio_features(ids_2019[1000:1100])\n",
    "#features12 = spotify.audio_features(ids_2019[1100:])"
   ]
  },
  {
   "cell_type": "code",
   "execution_count": 74,
   "metadata": {},
   "outputs": [],
   "source": [
    "frames_2019 = [pd.DataFrame(features1),pd.DataFrame(features2),pd.DataFrame(features3),pd.DataFrame(features4),\n",
    "         pd.DataFrame(features5),pd.DataFrame(features6),pd.DataFrame(features7),pd.DataFrame(features8),\n",
    "         pd.DataFrame(features9),pd.DataFrame(features10),pd.DataFrame(features11),pd.DataFrame(features12)]"
   ]
  },
  {
   "cell_type": "code",
   "execution_count": 75,
   "metadata": {},
   "outputs": [],
   "source": [
    "df_2019 = pd.concat(frames_2019)"
   ]
  },
  {
   "cell_type": "code",
   "execution_count": 76,
   "metadata": {},
   "outputs": [
    {
     "data": {
      "text/html": [
       "<div>\n",
       "<style scoped>\n",
       "    .dataframe tbody tr th:only-of-type {\n",
       "        vertical-align: middle;\n",
       "    }\n",
       "\n",
       "    .dataframe tbody tr th {\n",
       "        vertical-align: top;\n",
       "    }\n",
       "\n",
       "    .dataframe thead th {\n",
       "        text-align: right;\n",
       "    }\n",
       "</style>\n",
       "<table border=\"1\" class=\"dataframe\">\n",
       "  <thead>\n",
       "    <tr style=\"text-align: right;\">\n",
       "      <th></th>\n",
       "      <th>acousticness</th>\n",
       "      <th>analysis_url</th>\n",
       "      <th>danceability</th>\n",
       "      <th>duration_ms</th>\n",
       "      <th>energy</th>\n",
       "      <th>id</th>\n",
       "      <th>instrumentalness</th>\n",
       "      <th>key</th>\n",
       "      <th>liveness</th>\n",
       "      <th>loudness</th>\n",
       "      <th>mode</th>\n",
       "      <th>speechiness</th>\n",
       "      <th>tempo</th>\n",
       "      <th>time_signature</th>\n",
       "      <th>track_href</th>\n",
       "      <th>type</th>\n",
       "      <th>uri</th>\n",
       "      <th>valence</th>\n",
       "      <th>0</th>\n",
       "    </tr>\n",
       "  </thead>\n",
       "  <tbody>\n",
       "    <tr>\n",
       "      <th>0</th>\n",
       "      <td>0.22900</td>\n",
       "      <td>https://api.spotify.com/v1/audio-analysis/3e9H...</td>\n",
       "      <td>0.717</td>\n",
       "      <td>207320.0</td>\n",
       "      <td>0.653</td>\n",
       "      <td>3e9HZxeyfWwjeyPAMmWSSQ</td>\n",
       "      <td>0.000000</td>\n",
       "      <td>1.0</td>\n",
       "      <td>0.1010</td>\n",
       "      <td>-5.634</td>\n",
       "      <td>1.0</td>\n",
       "      <td>0.0658</td>\n",
       "      <td>106.966</td>\n",
       "      <td>4.0</td>\n",
       "      <td>https://api.spotify.com/v1/tracks/3e9HZxeyfWwj...</td>\n",
       "      <td>audio_features</td>\n",
       "      <td>spotify:track:3e9HZxeyfWwjeyPAMmWSSQ</td>\n",
       "      <td>0.412</td>\n",
       "      <td>NaN</td>\n",
       "    </tr>\n",
       "    <tr>\n",
       "      <th>1</th>\n",
       "      <td>0.29700</td>\n",
       "      <td>https://api.spotify.com/v1/audio-analysis/5p7u...</td>\n",
       "      <td>0.752</td>\n",
       "      <td>201661.0</td>\n",
       "      <td>0.488</td>\n",
       "      <td>5p7ujcrUXASCNwRaWNHR1C</td>\n",
       "      <td>0.000009</td>\n",
       "      <td>6.0</td>\n",
       "      <td>0.0936</td>\n",
       "      <td>-7.050</td>\n",
       "      <td>1.0</td>\n",
       "      <td>0.0705</td>\n",
       "      <td>136.041</td>\n",
       "      <td>4.0</td>\n",
       "      <td>https://api.spotify.com/v1/tracks/5p7ujcrUXASC...</td>\n",
       "      <td>audio_features</td>\n",
       "      <td>spotify:track:5p7ujcrUXASCNwRaWNHR1C</td>\n",
       "      <td>0.533</td>\n",
       "      <td>NaN</td>\n",
       "    </tr>\n",
       "    <tr>\n",
       "      <th>2</th>\n",
       "      <td>0.16400</td>\n",
       "      <td>https://api.spotify.com/v1/audio-analysis/0bYg...</td>\n",
       "      <td>0.335</td>\n",
       "      <td>241107.0</td>\n",
       "      <td>0.625</td>\n",
       "      <td>0bYg9bo50gSsH3LtXe2SQn</td>\n",
       "      <td>0.000000</td>\n",
       "      <td>7.0</td>\n",
       "      <td>0.0708</td>\n",
       "      <td>-7.462</td>\n",
       "      <td>1.0</td>\n",
       "      <td>0.0386</td>\n",
       "      <td>150.277</td>\n",
       "      <td>4.0</td>\n",
       "      <td>https://api.spotify.com/v1/tracks/0bYg9bo50gSs...</td>\n",
       "      <td>audio_features</td>\n",
       "      <td>spotify:track:0bYg9bo50gSsH3LtXe2SQn</td>\n",
       "      <td>0.346</td>\n",
       "      <td>NaN</td>\n",
       "    </tr>\n",
       "    <tr>\n",
       "      <th>3</th>\n",
       "      <td>0.00513</td>\n",
       "      <td>https://api.spotify.com/v1/audio-analysis/2xLM...</td>\n",
       "      <td>0.834</td>\n",
       "      <td>312820.0</td>\n",
       "      <td>0.730</td>\n",
       "      <td>2xLMifQCjDGFmkHkpNLD9h</td>\n",
       "      <td>0.000000</td>\n",
       "      <td>8.0</td>\n",
       "      <td>0.1240</td>\n",
       "      <td>-3.714</td>\n",
       "      <td>1.0</td>\n",
       "      <td>0.2220</td>\n",
       "      <td>155.008</td>\n",
       "      <td>4.0</td>\n",
       "      <td>https://api.spotify.com/v1/tracks/2xLMifQCjDGF...</td>\n",
       "      <td>audio_features</td>\n",
       "      <td>spotify:track:2xLMifQCjDGFmkHkpNLD9h</td>\n",
       "      <td>0.446</td>\n",
       "      <td>NaN</td>\n",
       "    </tr>\n",
       "    <tr>\n",
       "      <th>4</th>\n",
       "      <td>0.55600</td>\n",
       "      <td>https://api.spotify.com/v1/audio-analysis/3KkX...</td>\n",
       "      <td>0.760</td>\n",
       "      <td>158040.0</td>\n",
       "      <td>0.479</td>\n",
       "      <td>3KkXRkHbMCARz0aVfEt68P</td>\n",
       "      <td>0.000000</td>\n",
       "      <td>2.0</td>\n",
       "      <td>0.0703</td>\n",
       "      <td>-5.574</td>\n",
       "      <td>1.0</td>\n",
       "      <td>0.0466</td>\n",
       "      <td>89.911</td>\n",
       "      <td>4.0</td>\n",
       "      <td>https://api.spotify.com/v1/tracks/3KkXRkHbMCAR...</td>\n",
       "      <td>audio_features</td>\n",
       "      <td>spotify:track:3KkXRkHbMCARz0aVfEt68P</td>\n",
       "      <td>0.913</td>\n",
       "      <td>NaN</td>\n",
       "    </tr>\n",
       "    <tr>\n",
       "      <th>5</th>\n",
       "      <td>0.19300</td>\n",
       "      <td>https://api.spotify.com/v1/audio-analysis/1rqq...</td>\n",
       "      <td>0.579</td>\n",
       "      <td>190947.0</td>\n",
       "      <td>0.904</td>\n",
       "      <td>1rqqCSm0Qe4I9rUvWncaom</td>\n",
       "      <td>0.000000</td>\n",
       "      <td>5.0</td>\n",
       "      <td>0.0640</td>\n",
       "      <td>-2.729</td>\n",
       "      <td>1.0</td>\n",
       "      <td>0.0618</td>\n",
       "      <td>82.014</td>\n",
       "      <td>4.0</td>\n",
       "      <td>https://api.spotify.com/v1/tracks/1rqqCSm0Qe4I...</td>\n",
       "      <td>audio_features</td>\n",
       "      <td>spotify:track:1rqqCSm0Qe4I9rUvWncaom</td>\n",
       "      <td>0.681</td>\n",
       "      <td>NaN</td>\n",
       "    </tr>\n",
       "    <tr>\n",
       "      <th>6</th>\n",
       "      <td>0.19100</td>\n",
       "      <td>https://api.spotify.com/v1/audio-analysis/2dpa...</td>\n",
       "      <td>0.687</td>\n",
       "      <td>214290.0</td>\n",
       "      <td>0.792</td>\n",
       "      <td>2dpaYNEQHiRxtZbfNsse99</td>\n",
       "      <td>0.000000</td>\n",
       "      <td>5.0</td>\n",
       "      <td>0.1670</td>\n",
       "      <td>-2.749</td>\n",
       "      <td>1.0</td>\n",
       "      <td>0.0452</td>\n",
       "      <td>100.015</td>\n",
       "      <td>4.0</td>\n",
       "      <td>https://api.spotify.com/v1/tracks/2dpaYNEQHiRx...</td>\n",
       "      <td>audio_features</td>\n",
       "      <td>spotify:track:2dpaYNEQHiRxtZbfNsse99</td>\n",
       "      <td>0.671</td>\n",
       "      <td>NaN</td>\n",
       "    </tr>\n",
       "    <tr>\n",
       "      <th>7</th>\n",
       "      <td>0.64300</td>\n",
       "      <td>https://api.spotify.com/v1/audio-analysis/3hBX...</td>\n",
       "      <td>0.754</td>\n",
       "      <td>130973.0</td>\n",
       "      <td>0.424</td>\n",
       "      <td>3hBXvHLlTHvnbwrPbeoyAj</td>\n",
       "      <td>0.000000</td>\n",
       "      <td>2.0</td>\n",
       "      <td>0.0652</td>\n",
       "      <td>-8.463</td>\n",
       "      <td>1.0</td>\n",
       "      <td>0.0363</td>\n",
       "      <td>119.705</td>\n",
       "      <td>4.0</td>\n",
       "      <td>https://api.spotify.com/v1/tracks/3hBXvHLlTHvn...</td>\n",
       "      <td>audio_features</td>\n",
       "      <td>spotify:track:3hBXvHLlTHvnbwrPbeoyAj</td>\n",
       "      <td>0.806</td>\n",
       "      <td>NaN</td>\n",
       "    </tr>\n",
       "    <tr>\n",
       "      <th>8</th>\n",
       "      <td>0.61400</td>\n",
       "      <td>https://api.spotify.com/v1/audio-analysis/2EjX...</td>\n",
       "      <td>0.589</td>\n",
       "      <td>126267.0</td>\n",
       "      <td>0.472</td>\n",
       "      <td>2EjXfH91m7f8HiJN1yQg97</td>\n",
       "      <td>0.000000</td>\n",
       "      <td>8.0</td>\n",
       "      <td>0.5050</td>\n",
       "      <td>-8.749</td>\n",
       "      <td>1.0</td>\n",
       "      <td>0.0502</td>\n",
       "      <td>67.196</td>\n",
       "      <td>4.0</td>\n",
       "      <td>https://api.spotify.com/v1/tracks/2EjXfH91m7f8...</td>\n",
       "      <td>audio_features</td>\n",
       "      <td>spotify:track:2EjXfH91m7f8HiJN1yQg97</td>\n",
       "      <td>0.898</td>\n",
       "      <td>NaN</td>\n",
       "    </tr>\n",
       "    <tr>\n",
       "      <th>9</th>\n",
       "      <td>0.59100</td>\n",
       "      <td>https://api.spotify.com/v1/audio-analysis/6Xzp...</td>\n",
       "      <td>0.675</td>\n",
       "      <td>133093.0</td>\n",
       "      <td>0.369</td>\n",
       "      <td>6XzpeMXDvLC86GvAfnUsIA</td>\n",
       "      <td>0.000000</td>\n",
       "      <td>0.0</td>\n",
       "      <td>0.0971</td>\n",
       "      <td>-13.004</td>\n",
       "      <td>1.0</td>\n",
       "      <td>0.0299</td>\n",
       "      <td>140.573</td>\n",
       "      <td>4.0</td>\n",
       "      <td>https://api.spotify.com/v1/tracks/6XzpeMXDvLC8...</td>\n",
       "      <td>audio_features</td>\n",
       "      <td>spotify:track:6XzpeMXDvLC86GvAfnUsIA</td>\n",
       "      <td>0.869</td>\n",
       "      <td>NaN</td>\n",
       "    </tr>\n",
       "  </tbody>\n",
       "</table>\n",
       "</div>"
      ],
      "text/plain": [
       "   acousticness                                       analysis_url  \\\n",
       "0       0.22900  https://api.spotify.com/v1/audio-analysis/3e9H...   \n",
       "1       0.29700  https://api.spotify.com/v1/audio-analysis/5p7u...   \n",
       "2       0.16400  https://api.spotify.com/v1/audio-analysis/0bYg...   \n",
       "3       0.00513  https://api.spotify.com/v1/audio-analysis/2xLM...   \n",
       "4       0.55600  https://api.spotify.com/v1/audio-analysis/3KkX...   \n",
       "5       0.19300  https://api.spotify.com/v1/audio-analysis/1rqq...   \n",
       "6       0.19100  https://api.spotify.com/v1/audio-analysis/2dpa...   \n",
       "7       0.64300  https://api.spotify.com/v1/audio-analysis/3hBX...   \n",
       "8       0.61400  https://api.spotify.com/v1/audio-analysis/2EjX...   \n",
       "9       0.59100  https://api.spotify.com/v1/audio-analysis/6Xzp...   \n",
       "\n",
       "   danceability  duration_ms  energy                      id  \\\n",
       "0         0.717     207320.0   0.653  3e9HZxeyfWwjeyPAMmWSSQ   \n",
       "1         0.752     201661.0   0.488  5p7ujcrUXASCNwRaWNHR1C   \n",
       "2         0.335     241107.0   0.625  0bYg9bo50gSsH3LtXe2SQn   \n",
       "3         0.834     312820.0   0.730  2xLMifQCjDGFmkHkpNLD9h   \n",
       "4         0.760     158040.0   0.479  3KkXRkHbMCARz0aVfEt68P   \n",
       "5         0.579     190947.0   0.904  1rqqCSm0Qe4I9rUvWncaom   \n",
       "6         0.687     214290.0   0.792  2dpaYNEQHiRxtZbfNsse99   \n",
       "7         0.754     130973.0   0.424  3hBXvHLlTHvnbwrPbeoyAj   \n",
       "8         0.589     126267.0   0.472  2EjXfH91m7f8HiJN1yQg97   \n",
       "9         0.675     133093.0   0.369  6XzpeMXDvLC86GvAfnUsIA   \n",
       "\n",
       "   instrumentalness  key  liveness  loudness  mode  speechiness    tempo  \\\n",
       "0          0.000000  1.0    0.1010    -5.634   1.0       0.0658  106.966   \n",
       "1          0.000009  6.0    0.0936    -7.050   1.0       0.0705  136.041   \n",
       "2          0.000000  7.0    0.0708    -7.462   1.0       0.0386  150.277   \n",
       "3          0.000000  8.0    0.1240    -3.714   1.0       0.2220  155.008   \n",
       "4          0.000000  2.0    0.0703    -5.574   1.0       0.0466   89.911   \n",
       "5          0.000000  5.0    0.0640    -2.729   1.0       0.0618   82.014   \n",
       "6          0.000000  5.0    0.1670    -2.749   1.0       0.0452  100.015   \n",
       "7          0.000000  2.0    0.0652    -8.463   1.0       0.0363  119.705   \n",
       "8          0.000000  8.0    0.5050    -8.749   1.0       0.0502   67.196   \n",
       "9          0.000000  0.0    0.0971   -13.004   1.0       0.0299  140.573   \n",
       "\n",
       "   time_signature                                         track_href  \\\n",
       "0             4.0  https://api.spotify.com/v1/tracks/3e9HZxeyfWwj...   \n",
       "1             4.0  https://api.spotify.com/v1/tracks/5p7ujcrUXASC...   \n",
       "2             4.0  https://api.spotify.com/v1/tracks/0bYg9bo50gSs...   \n",
       "3             4.0  https://api.spotify.com/v1/tracks/2xLMifQCjDGF...   \n",
       "4             4.0  https://api.spotify.com/v1/tracks/3KkXRkHbMCAR...   \n",
       "5             4.0  https://api.spotify.com/v1/tracks/1rqqCSm0Qe4I...   \n",
       "6             4.0  https://api.spotify.com/v1/tracks/2dpaYNEQHiRx...   \n",
       "7             4.0  https://api.spotify.com/v1/tracks/3hBXvHLlTHvn...   \n",
       "8             4.0  https://api.spotify.com/v1/tracks/2EjXfH91m7f8...   \n",
       "9             4.0  https://api.spotify.com/v1/tracks/6XzpeMXDvLC8...   \n",
       "\n",
       "             type                                   uri  valence    0  \n",
       "0  audio_features  spotify:track:3e9HZxeyfWwjeyPAMmWSSQ    0.412  NaN  \n",
       "1  audio_features  spotify:track:5p7ujcrUXASCNwRaWNHR1C    0.533  NaN  \n",
       "2  audio_features  spotify:track:0bYg9bo50gSsH3LtXe2SQn    0.346  NaN  \n",
       "3  audio_features  spotify:track:2xLMifQCjDGFmkHkpNLD9h    0.446  NaN  \n",
       "4  audio_features  spotify:track:3KkXRkHbMCARz0aVfEt68P    0.913  NaN  \n",
       "5  audio_features  spotify:track:1rqqCSm0Qe4I9rUvWncaom    0.681  NaN  \n",
       "6  audio_features  spotify:track:2dpaYNEQHiRxtZbfNsse99    0.671  NaN  \n",
       "7  audio_features  spotify:track:3hBXvHLlTHvnbwrPbeoyAj    0.806  NaN  \n",
       "8  audio_features  spotify:track:2EjXfH91m7f8HiJN1yQg97    0.898  NaN  \n",
       "9  audio_features  spotify:track:6XzpeMXDvLC86GvAfnUsIA    0.869  NaN  "
      ]
     },
     "execution_count": 76,
     "metadata": {},
     "output_type": "execute_result"
    }
   ],
   "source": [
    "df_2019.head(10)"
   ]
  },
  {
   "cell_type": "code",
   "execution_count": 78,
   "metadata": {},
   "outputs": [],
   "source": [
    "df.to_csv(\"2019data_redo.csv\")"
   ]
  },
  {
   "cell_type": "code",
   "execution_count": null,
   "metadata": {},
   "outputs": [],
   "source": [
    "# need to write a loop for the above cell to run automatically\n",
    "# count2 = 0\n",
    "# features = []\n",
    "\n",
    "# while count2 < len(ids):\n",
    "    \n",
    "#     if count2+100 < len(ids):\n",
    "#         features.append(spotify.audio_features(ids[count2:(count2+100)]))   \n",
    "#         count2 += 100\n",
    "#     else:                   \n",
    "#         features.append(spotify.audio_features(ids[count2:]))"
   ]
  }
 ],
 "metadata": {
  "colab": {
   "collapsed_sections": [],
   "name": "db_preparation.ipynb",
   "provenance": []
  },
  "kernelspec": {
   "display_name": "Python 3",
   "language": "python",
   "name": "python3"
  },
  "language_info": {
   "codemirror_mode": {
    "name": "ipython",
    "version": 3
   },
   "file_extension": ".py",
   "mimetype": "text/x-python",
   "name": "python",
   "nbconvert_exporter": "python",
   "pygments_lexer": "ipython3",
   "version": "3.7.3"
  }
 },
 "nbformat": 4,
 "nbformat_minor": 1
}
