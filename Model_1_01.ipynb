{
 "cells": [
  {
   "cell_type": "code",
   "execution_count": 40,
   "metadata": {},
   "outputs": [],
   "source": [
    "import pandas as pd\n",
    "%matplotlib inline\n",
    "import matplotlib.pyplot as plt\n",
    "import numpy as np\n"
   ]
  },
  {
   "cell_type": "code",
   "execution_count": 41,
   "metadata": {},
   "outputs": [],
   "source": [
    "data1990 = pd.read_csv('1990data.csv')\n",
    "data2000 = pd.read_csv('2000data.csv')\n",
    "data2010 = pd.read_csv('2010data.csv')"
   ]
  },
  {
   "cell_type": "code",
   "execution_count": 42,
   "metadata": {},
   "outputs": [
    {
     "data": {
      "text/html": [
       "<div>\n",
       "<style scoped>\n",
       "    .dataframe tbody tr th:only-of-type {\n",
       "        vertical-align: middle;\n",
       "    }\n",
       "\n",
       "    .dataframe tbody tr th {\n",
       "        vertical-align: top;\n",
       "    }\n",
       "\n",
       "    .dataframe thead th {\n",
       "        text-align: right;\n",
       "    }\n",
       "</style>\n",
       "<table border=\"1\" class=\"dataframe\">\n",
       "  <thead>\n",
       "    <tr style=\"text-align: right;\">\n",
       "      <th></th>\n",
       "      <th>Unnamed: 0</th>\n",
       "      <th>acousticness</th>\n",
       "      <th>analysis_url</th>\n",
       "      <th>danceability</th>\n",
       "      <th>duration_ms</th>\n",
       "      <th>energy</th>\n",
       "      <th>id</th>\n",
       "      <th>instrumentalness</th>\n",
       "      <th>key</th>\n",
       "      <th>liveness</th>\n",
       "      <th>loudness</th>\n",
       "      <th>mode</th>\n",
       "      <th>speechiness</th>\n",
       "      <th>tempo</th>\n",
       "      <th>time_signature</th>\n",
       "      <th>track_href</th>\n",
       "      <th>type</th>\n",
       "      <th>uri</th>\n",
       "      <th>valence</th>\n",
       "      <th>year</th>\n",
       "    </tr>\n",
       "  </thead>\n",
       "  <tbody>\n",
       "    <tr>\n",
       "      <th>0</th>\n",
       "      <td>0</td>\n",
       "      <td>0.7360</td>\n",
       "      <td>https://api.spotify.com/v1/audio-analysis/1NCu...</td>\n",
       "      <td>0.780</td>\n",
       "      <td>322133</td>\n",
       "      <td>0.565</td>\n",
       "      <td>1NCuYqMc8hKMb4cpNTcJbD</td>\n",
       "      <td>0.002690</td>\n",
       "      <td>3</td>\n",
       "      <td>0.0630</td>\n",
       "      <td>-7.320</td>\n",
       "      <td>0</td>\n",
       "      <td>0.0306</td>\n",
       "      <td>101.967</td>\n",
       "      <td>4</td>\n",
       "      <td>https://api.spotify.com/v1/tracks/1NCuYqMc8hKM...</td>\n",
       "      <td>audio_features</td>\n",
       "      <td>spotify:track:1NCuYqMc8hKMb4cpNTcJbD</td>\n",
       "      <td>0.365</td>\n",
       "      <td>0</td>\n",
       "    </tr>\n",
       "    <tr>\n",
       "      <th>1</th>\n",
       "      <td>1</td>\n",
       "      <td>0.0561</td>\n",
       "      <td>https://api.spotify.com/v1/audio-analysis/51q3...</td>\n",
       "      <td>0.631</td>\n",
       "      <td>330933</td>\n",
       "      <td>0.935</td>\n",
       "      <td>51q3nDYWAqPY4hlgKEbP6j</td>\n",
       "      <td>0.152000</td>\n",
       "      <td>1</td>\n",
       "      <td>0.6340</td>\n",
       "      <td>-8.340</td>\n",
       "      <td>0</td>\n",
       "      <td>0.0587</td>\n",
       "      <td>109.122</td>\n",
       "      <td>4</td>\n",
       "      <td>https://api.spotify.com/v1/tracks/51q3nDYWAqPY...</td>\n",
       "      <td>audio_features</td>\n",
       "      <td>spotify:track:51q3nDYWAqPY4hlgKEbP6j</td>\n",
       "      <td>0.678</td>\n",
       "      <td>0</td>\n",
       "    </tr>\n",
       "    <tr>\n",
       "      <th>2</th>\n",
       "      <td>2</td>\n",
       "      <td>0.6570</td>\n",
       "      <td>https://api.spotify.com/v1/audio-analysis/5z3Z...</td>\n",
       "      <td>0.401</td>\n",
       "      <td>211973</td>\n",
       "      <td>0.285</td>\n",
       "      <td>5z3ZDMP02xF33yCvPFnct3</td>\n",
       "      <td>0.000011</td>\n",
       "      <td>11</td>\n",
       "      <td>0.1580</td>\n",
       "      <td>-11.005</td>\n",
       "      <td>1</td>\n",
       "      <td>0.0327</td>\n",
       "      <td>130.465</td>\n",
       "      <td>4</td>\n",
       "      <td>https://api.spotify.com/v1/tracks/5z3ZDMP02xF3...</td>\n",
       "      <td>audio_features</td>\n",
       "      <td>spotify:track:5z3ZDMP02xF33yCvPFnct3</td>\n",
       "      <td>0.267</td>\n",
       "      <td>0</td>\n",
       "    </tr>\n",
       "    <tr>\n",
       "      <th>3</th>\n",
       "      <td>3</td>\n",
       "      <td>0.0287</td>\n",
       "      <td>https://api.spotify.com/v1/audio-analysis/0UAE...</td>\n",
       "      <td>0.862</td>\n",
       "      <td>215040</td>\n",
       "      <td>0.918</td>\n",
       "      <td>0UAEHlFR79k9CJvknSGUNf</td>\n",
       "      <td>0.000001</td>\n",
       "      <td>10</td>\n",
       "      <td>0.0492</td>\n",
       "      <td>-7.325</td>\n",
       "      <td>0</td>\n",
       "      <td>0.1080</td>\n",
       "      <td>124.811</td>\n",
       "      <td>4</td>\n",
       "      <td>https://api.spotify.com/v1/tracks/0UAEHlFR79k9...</td>\n",
       "      <td>audio_features</td>\n",
       "      <td>spotify:track:0UAEHlFR79k9CJvknSGUNf</td>\n",
       "      <td>0.651</td>\n",
       "      <td>0</td>\n",
       "    </tr>\n",
       "    <tr>\n",
       "      <th>4</th>\n",
       "      <td>4</td>\n",
       "      <td>0.3340</td>\n",
       "      <td>https://api.spotify.com/v1/audio-analysis/1s12...</td>\n",
       "      <td>0.713</td>\n",
       "      <td>274093</td>\n",
       "      <td>0.432</td>\n",
       "      <td>1s12gYsPeTNQ6znow46nmp</td>\n",
       "      <td>0.000299</td>\n",
       "      <td>11</td>\n",
       "      <td>0.0674</td>\n",
       "      <td>-12.639</td>\n",
       "      <td>0</td>\n",
       "      <td>0.0300</td>\n",
       "      <td>118.955</td>\n",
       "      <td>4</td>\n",
       "      <td>https://api.spotify.com/v1/tracks/1s12gYsPeTNQ...</td>\n",
       "      <td>audio_features</td>\n",
       "      <td>spotify:track:1s12gYsPeTNQ6znow46nmp</td>\n",
       "      <td>0.445</td>\n",
       "      <td>0</td>\n",
       "    </tr>\n",
       "  </tbody>\n",
       "</table>\n",
       "</div>"
      ],
      "text/plain": [
       "   Unnamed: 0  acousticness  \\\n",
       "0           0        0.7360   \n",
       "1           1        0.0561   \n",
       "2           2        0.6570   \n",
       "3           3        0.0287   \n",
       "4           4        0.3340   \n",
       "\n",
       "                                        analysis_url  danceability  \\\n",
       "0  https://api.spotify.com/v1/audio-analysis/1NCu...         0.780   \n",
       "1  https://api.spotify.com/v1/audio-analysis/51q3...         0.631   \n",
       "2  https://api.spotify.com/v1/audio-analysis/5z3Z...         0.401   \n",
       "3  https://api.spotify.com/v1/audio-analysis/0UAE...         0.862   \n",
       "4  https://api.spotify.com/v1/audio-analysis/1s12...         0.713   \n",
       "\n",
       "   duration_ms  energy                      id  instrumentalness  key  \\\n",
       "0       322133   0.565  1NCuYqMc8hKMb4cpNTcJbD          0.002690    3   \n",
       "1       330933   0.935  51q3nDYWAqPY4hlgKEbP6j          0.152000    1   \n",
       "2       211973   0.285  5z3ZDMP02xF33yCvPFnct3          0.000011   11   \n",
       "3       215040   0.918  0UAEHlFR79k9CJvknSGUNf          0.000001   10   \n",
       "4       274093   0.432  1s12gYsPeTNQ6znow46nmp          0.000299   11   \n",
       "\n",
       "   liveness  loudness  mode  speechiness    tempo  time_signature  \\\n",
       "0    0.0630    -7.320     0       0.0306  101.967               4   \n",
       "1    0.6340    -8.340     0       0.0587  109.122               4   \n",
       "2    0.1580   -11.005     1       0.0327  130.465               4   \n",
       "3    0.0492    -7.325     0       0.1080  124.811               4   \n",
       "4    0.0674   -12.639     0       0.0300  118.955               4   \n",
       "\n",
       "                                          track_href            type  \\\n",
       "0  https://api.spotify.com/v1/tracks/1NCuYqMc8hKM...  audio_features   \n",
       "1  https://api.spotify.com/v1/tracks/51q3nDYWAqPY...  audio_features   \n",
       "2  https://api.spotify.com/v1/tracks/5z3ZDMP02xF3...  audio_features   \n",
       "3  https://api.spotify.com/v1/tracks/0UAEHlFR79k9...  audio_features   \n",
       "4  https://api.spotify.com/v1/tracks/1s12gYsPeTNQ...  audio_features   \n",
       "\n",
       "                                    uri  valence  year  \n",
       "0  spotify:track:1NCuYqMc8hKMb4cpNTcJbD    0.365     0  \n",
       "1  spotify:track:51q3nDYWAqPY4hlgKEbP6j    0.678     0  \n",
       "2  spotify:track:5z3ZDMP02xF33yCvPFnct3    0.267     0  \n",
       "3  spotify:track:0UAEHlFR79k9CJvknSGUNf    0.651     0  \n",
       "4  spotify:track:1s12gYsPeTNQ6znow46nmp    0.445     0  "
      ]
     },
     "execution_count": 42,
     "metadata": {},
     "output_type": "execute_result"
    }
   ],
   "source": [
    "data1990['year'] = 0\n",
    "data2000['year'] = 1\n",
    "data2010['year'] = 2\n",
    "data1990.head()"
   ]
  },
  {
   "cell_type": "code",
   "execution_count": 43,
   "metadata": {},
   "outputs": [],
   "source": [
    "df = pd.concat([data1990, data2000,data2010], ignore_index=True,sort=False)"
   ]
  },
  {
   "cell_type": "code",
   "execution_count": 44,
   "metadata": {},
   "outputs": [
    {
     "data": {
      "text/html": [
       "<div>\n",
       "<style scoped>\n",
       "    .dataframe tbody tr th:only-of-type {\n",
       "        vertical-align: middle;\n",
       "    }\n",
       "\n",
       "    .dataframe tbody tr th {\n",
       "        vertical-align: top;\n",
       "    }\n",
       "\n",
       "    .dataframe thead th {\n",
       "        text-align: right;\n",
       "    }\n",
       "</style>\n",
       "<table border=\"1\" class=\"dataframe\">\n",
       "  <thead>\n",
       "    <tr style=\"text-align: right;\">\n",
       "      <th></th>\n",
       "      <th>year</th>\n",
       "      <th>acousticness</th>\n",
       "      <th>danceability</th>\n",
       "      <th>duration_ms</th>\n",
       "      <th>energy</th>\n",
       "      <th>instrumentalness</th>\n",
       "      <th>key</th>\n",
       "      <th>liveness</th>\n",
       "      <th>loudness</th>\n",
       "      <th>mode</th>\n",
       "      <th>speechiness</th>\n",
       "      <th>tempo</th>\n",
       "      <th>time_signature</th>\n",
       "      <th>valence</th>\n",
       "    </tr>\n",
       "  </thead>\n",
       "  <tbody>\n",
       "    <tr>\n",
       "      <th>3385</th>\n",
       "      <td>2</td>\n",
       "      <td>0.0206</td>\n",
       "      <td>0.770</td>\n",
       "      <td>191333</td>\n",
       "      <td>0.641</td>\n",
       "      <td>0.000230</td>\n",
       "      <td>10</td>\n",
       "      <td>0.1060</td>\n",
       "      <td>-6.077</td>\n",
       "      <td>0</td>\n",
       "      <td>0.0350</td>\n",
       "      <td>96.980</td>\n",
       "      <td>4</td>\n",
       "      <td>0.639</td>\n",
       "    </tr>\n",
       "    <tr>\n",
       "      <th>3386</th>\n",
       "      <td>2</td>\n",
       "      <td>0.2070</td>\n",
       "      <td>0.637</td>\n",
       "      <td>186173</td>\n",
       "      <td>0.804</td>\n",
       "      <td>0.000000</td>\n",
       "      <td>2</td>\n",
       "      <td>0.1150</td>\n",
       "      <td>-6.141</td>\n",
       "      <td>1</td>\n",
       "      <td>0.0448</td>\n",
       "      <td>129.261</td>\n",
       "      <td>3</td>\n",
       "      <td>0.732</td>\n",
       "    </tr>\n",
       "    <tr>\n",
       "      <th>3387</th>\n",
       "      <td>2</td>\n",
       "      <td>0.0196</td>\n",
       "      <td>0.519</td>\n",
       "      <td>221013</td>\n",
       "      <td>0.810</td>\n",
       "      <td>0.000000</td>\n",
       "      <td>8</td>\n",
       "      <td>0.1630</td>\n",
       "      <td>-5.629</td>\n",
       "      <td>1</td>\n",
       "      <td>0.1790</td>\n",
       "      <td>148.094</td>\n",
       "      <td>4</td>\n",
       "      <td>0.515</td>\n",
       "    </tr>\n",
       "    <tr>\n",
       "      <th>3388</th>\n",
       "      <td>2</td>\n",
       "      <td>0.0415</td>\n",
       "      <td>0.487</td>\n",
       "      <td>231680</td>\n",
       "      <td>0.961</td>\n",
       "      <td>0.000001</td>\n",
       "      <td>4</td>\n",
       "      <td>0.5530</td>\n",
       "      <td>-4.139</td>\n",
       "      <td>1</td>\n",
       "      <td>0.1320</td>\n",
       "      <td>170.005</td>\n",
       "      <td>4</td>\n",
       "      <td>0.323</td>\n",
       "    </tr>\n",
       "    <tr>\n",
       "      <th>3389</th>\n",
       "      <td>2</td>\n",
       "      <td>0.1030</td>\n",
       "      <td>0.786</td>\n",
       "      <td>235493</td>\n",
       "      <td>0.714</td>\n",
       "      <td>0.000008</td>\n",
       "      <td>11</td>\n",
       "      <td>0.0746</td>\n",
       "      <td>-4.159</td>\n",
       "      <td>0</td>\n",
       "      <td>0.0389</td>\n",
       "      <td>125.922</td>\n",
       "      <td>4</td>\n",
       "      <td>0.710</td>\n",
       "    </tr>\n",
       "  </tbody>\n",
       "</table>\n",
       "</div>"
      ],
      "text/plain": [
       "      year  acousticness  danceability  duration_ms  energy  instrumentalness  \\\n",
       "3385     2        0.0206         0.770       191333   0.641          0.000230   \n",
       "3386     2        0.2070         0.637       186173   0.804          0.000000   \n",
       "3387     2        0.0196         0.519       221013   0.810          0.000000   \n",
       "3388     2        0.0415         0.487       231680   0.961          0.000001   \n",
       "3389     2        0.1030         0.786       235493   0.714          0.000008   \n",
       "\n",
       "      key  liveness  loudness  mode  speechiness    tempo  time_signature  \\\n",
       "3385   10    0.1060    -6.077     0       0.0350   96.980               4   \n",
       "3386    2    0.1150    -6.141     1       0.0448  129.261               3   \n",
       "3387    8    0.1630    -5.629     1       0.1790  148.094               4   \n",
       "3388    4    0.5530    -4.139     1       0.1320  170.005               4   \n",
       "3389   11    0.0746    -4.159     0       0.0389  125.922               4   \n",
       "\n",
       "      valence  \n",
       "3385    0.639  \n",
       "3386    0.732  \n",
       "3387    0.515  \n",
       "3388    0.323  \n",
       "3389    0.710  "
      ]
     },
     "execution_count": 44,
     "metadata": {},
     "output_type": "execute_result"
    }
   ],
   "source": [
    "df = df[['year','acousticness','danceability','duration_ms','energy','instrumentalness','key','liveness','loudness','mode','speechiness','tempo','time_signature','valence']]\n",
    "df.tail()"
   ]
  },
  {
   "cell_type": "code",
   "execution_count": 45,
   "metadata": {},
   "outputs": [
    {
     "name": "stdout",
     "output_type": "stream",
     "text": [
      "Shape:  (3390, 13) (3390,)\n"
     ]
    }
   ],
   "source": [
    "X = df[['acousticness','danceability','duration_ms','energy','instrumentalness','key','liveness','loudness','mode','speechiness','tempo','time_signature','valence']]\n",
    "y = df[\"year\"].values#.reshape(-1, 1)\n",
    "print(\"Shape: \", X.shape, y.shape)\n"
   ]
  },
  {
   "cell_type": "code",
   "execution_count": 46,
   "metadata": {},
   "outputs": [],
   "source": [
    "from sklearn.model_selection import train_test_split \n",
    "X_train, X_test, y_train, y_test = train_test_split(X, y, random_state=42)"
   ]
  },
  {
   "cell_type": "code",
   "execution_count": 47,
   "metadata": {},
   "outputs": [
    {
     "name": "stderr",
     "output_type": "stream",
     "text": [
      "C:\\Users\\Owner\\Anaconda3\\lib\\site-packages\\sklearn\\preprocessing\\data.py:645: DataConversionWarning: Data with input dtype int64, float64 were all converted to float64 by StandardScaler.\n",
      "  return self.partial_fit(X, y)\n",
      "C:\\Users\\Owner\\Anaconda3\\lib\\site-packages\\ipykernel_launcher.py:3: DataConversionWarning: Data with input dtype int64, float64 were all converted to float64 by StandardScaler.\n",
      "  This is separate from the ipykernel package so we can avoid doing imports until\n",
      "C:\\Users\\Owner\\Anaconda3\\lib\\site-packages\\ipykernel_launcher.py:4: DataConversionWarning: Data with input dtype int64, float64 were all converted to float64 by StandardScaler.\n",
      "  after removing the cwd from sys.path.\n"
     ]
    }
   ],
   "source": [
    "from sklearn.preprocessing import StandardScaler \n",
    "X_scaler = StandardScaler().fit(X_train)\n",
    "X_train_scaled = X_scaler.transform(X_train) \n",
    "X_test_scaled = X_scaler.transform(X_test)"
   ]
  },
  {
   "cell_type": "markdown",
   "metadata": {},
   "source": [
    "### Decision Tree Model"
   ]
  },
  {
   "cell_type": "code",
   "execution_count": 48,
   "metadata": {},
   "outputs": [],
   "source": [
    "from sklearn import tree \n",
    "clf = tree.DecisionTreeClassifier()"
   ]
  },
  {
   "cell_type": "code",
   "execution_count": 49,
   "metadata": {},
   "outputs": [
    {
     "data": {
      "text/plain": [
       "0.8974056603773585"
      ]
     },
     "execution_count": 49,
     "metadata": {},
     "output_type": "execute_result"
    }
   ],
   "source": [
    "clf = clf.fit(X_train_scaled, y_train)\n",
    "clf.score(X_test_scaled, y_test)\n"
   ]
  },
  {
   "cell_type": "code",
   "execution_count": 50,
   "metadata": {},
   "outputs": [],
   "source": [
    "predictions = clf.predict(X_test_scaled)\n"
   ]
  },
  {
   "cell_type": "code",
   "execution_count": 51,
   "metadata": {},
   "outputs": [
    {
     "data": {
      "text/html": [
       "<div>\n",
       "<style scoped>\n",
       "    .dataframe tbody tr th:only-of-type {\n",
       "        vertical-align: middle;\n",
       "    }\n",
       "\n",
       "    .dataframe tbody tr th {\n",
       "        vertical-align: top;\n",
       "    }\n",
       "\n",
       "    .dataframe thead th {\n",
       "        text-align: right;\n",
       "    }\n",
       "</style>\n",
       "<table border=\"1\" class=\"dataframe\">\n",
       "  <thead>\n",
       "    <tr style=\"text-align: right;\">\n",
       "      <th></th>\n",
       "      <th>Predicted</th>\n",
       "      <th>Actual</th>\n",
       "    </tr>\n",
       "  </thead>\n",
       "  <tbody>\n",
       "    <tr>\n",
       "      <th>0</th>\n",
       "      <td>0</td>\n",
       "      <td>0</td>\n",
       "    </tr>\n",
       "    <tr>\n",
       "      <th>1</th>\n",
       "      <td>1</td>\n",
       "      <td>1</td>\n",
       "    </tr>\n",
       "    <tr>\n",
       "      <th>2</th>\n",
       "      <td>2</td>\n",
       "      <td>2</td>\n",
       "    </tr>\n",
       "    <tr>\n",
       "      <th>3</th>\n",
       "      <td>1</td>\n",
       "      <td>1</td>\n",
       "    </tr>\n",
       "    <tr>\n",
       "      <th>4</th>\n",
       "      <td>1</td>\n",
       "      <td>1</td>\n",
       "    </tr>\n",
       "  </tbody>\n",
       "</table>\n",
       "</div>"
      ],
      "text/plain": [
       "   Predicted  Actual\n",
       "0          0       0\n",
       "1          1       1\n",
       "2          2       2\n",
       "3          1       1\n",
       "4          1       1"
      ]
     },
     "execution_count": 51,
     "metadata": {},
     "output_type": "execute_result"
    }
   ],
   "source": [
    "test_result_df = pd.DataFrame({\"Predicted\": predictions, \"Actual\": predictions})[[\"Predicted\", \"Actual\"]]\n",
    "test_result_df.head()"
   ]
  },
  {
   "cell_type": "code",
   "execution_count": 75,
   "metadata": {},
   "outputs": [
    {
     "data": {
      "text/plain": [
       "[(0.1810519538295956, 'loudness'),\n",
       " (0.10428385727911511, 'acousticness'),\n",
       " (0.09988440563635809, 'tempo'),\n",
       " (0.09847695848425764, 'energy'),\n",
       " (0.09510154864836567, 'duration_ms'),\n",
       " (0.0859286303276571, 'liveness'),\n",
       " (0.08315989984062144, 'valence'),\n",
       " (0.07697596566402563, 'speechiness'),\n",
       " (0.07466897671551491, 'instrumentalness'),\n",
       " (0.06730628036696343, 'danceability'),\n",
       " (0.022974923898707478, 'key'),\n",
       " (0.010186599308817811, 'mode'),\n",
       " (0.0, 'time_signature')]"
      ]
     },
     "execution_count": 75,
     "metadata": {},
     "output_type": "execute_result"
    }
   ],
   "source": [
    "feature_names = X.columns\n",
    "sorted(zip(clf.feature_importances_, feature_names), reverse=True)\n"
   ]
  },
  {
   "cell_type": "markdown",
   "metadata": {},
   "source": [
    "### Random Forest"
   ]
  },
  {
   "cell_type": "code",
   "execution_count": 76,
   "metadata": {},
   "outputs": [
    {
     "data": {
      "text/plain": [
       "[(0.14608093574200134, 'loudness'),\n",
       " (0.10916470357815763, 'tempo'),\n",
       " (0.1000630320635842, 'duration_ms'),\n",
       " (0.08923498367525826, 'energy'),\n",
       " (0.08873011765969578, 'valence'),\n",
       " (0.08758144482283053, 'acousticness'),\n",
       " (0.08617690402513171, 'liveness'),\n",
       " (0.08370550629873572, 'danceability'),\n",
       " (0.08289044609855754, 'speechiness'),\n",
       " (0.05967852957082001, 'instrumentalness'),\n",
       " (0.049678165206729255, 'key'),\n",
       " (0.012340791093429983, 'mode'),\n",
       " (0.004674440165067893, 'time_signature')]"
      ]
     },
     "execution_count": 76,
     "metadata": {},
     "output_type": "execute_result"
    }
   ],
   "source": [
    "from sklearn.ensemble import RandomForestClassifier \n",
    "rf = RandomForestClassifier(n_estimators=200) \n",
    "rf = rf.fit(X_train_scaled, y_train) \n",
    "rf.score(X_test_scaled, y_test)\n",
    "feature_names = X.columns\n",
    "sorted(zip(rf.feature_importances_, feature_names), reverse=True)\n"
   ]
  },
  {
   "cell_type": "code",
   "execution_count": 77,
   "metadata": {},
   "outputs": [
    {
     "data": {
      "text/plain": [
       "0.9009433962264151"
      ]
     },
     "execution_count": 77,
     "metadata": {},
     "output_type": "execute_result"
    }
   ],
   "source": [
    "rf.score(X_test_scaled, y_test)"
   ]
  },
  {
   "cell_type": "code",
   "execution_count": null,
   "metadata": {},
   "outputs": [],
   "source": []
  },
  {
   "cell_type": "markdown",
   "metadata": {},
   "source": [
    "### Neural Network"
   ]
  },
  {
   "cell_type": "code",
   "execution_count": 52,
   "metadata": {},
   "outputs": [],
   "source": [
    "from numpy.random import seed \n",
    "seed(42)"
   ]
  },
  {
   "cell_type": "code",
   "execution_count": 53,
   "metadata": {},
   "outputs": [],
   "source": [
    "from keras.utils import to_categorical\n",
    "y_train_cate = to_categorical(y_train)\n",
    "y_test_cate = to_categorical(y_test)"
   ]
  },
  {
   "cell_type": "code",
   "execution_count": 71,
   "metadata": {},
   "outputs": [],
   "source": [
    "from tensorflow.keras.models import Sequential \n",
    "model_neural = Sequential()\n"
   ]
  },
  {
   "cell_type": "code",
   "execution_count": 72,
   "metadata": {
    "scrolled": true
   },
   "outputs": [
    {
     "name": "stdout",
     "output_type": "stream",
     "text": [
      "Model: \"sequential_6\"\n",
      "_________________________________________________________________\n",
      "Layer (type)                 Output Shape              Param #   \n",
      "=================================================================\n",
      "dense_47 (Dense)             (None, 100)               1400      \n",
      "_________________________________________________________________\n",
      "dense_48 (Dense)             (None, 100)               10100     \n",
      "_________________________________________________________________\n",
      "dense_49 (Dense)             (None, 100)               10100     \n",
      "_________________________________________________________________\n",
      "dense_50 (Dense)             (None, 100)               10100     \n",
      "_________________________________________________________________\n",
      "dense_51 (Dense)             (None, 100)               10100     \n",
      "_________________________________________________________________\n",
      "dense_52 (Dense)             (None, 100)               10100     \n",
      "_________________________________________________________________\n",
      "dense_53 (Dense)             (None, 100)               10100     \n",
      "_________________________________________________________________\n",
      "dense_54 (Dense)             (None, 100)               10100     \n",
      "_________________________________________________________________\n",
      "dense_55 (Dense)             (None, 100)               10100     \n",
      "_________________________________________________________________\n",
      "dense_56 (Dense)             (None, 100)               10100     \n",
      "_________________________________________________________________\n",
      "dense_57 (Dense)             (None, 100)               10100     \n",
      "_________________________________________________________________\n",
      "dense_58 (Dense)             (None, 3)                 303       \n",
      "=================================================================\n",
      "Total params: 102,703\n",
      "Trainable params: 102,703\n",
      "Non-trainable params: 0\n",
      "_________________________________________________________________\n"
     ]
    }
   ],
   "source": [
    "from tensorflow.keras.layers import Dense \n",
    "number_inputs = 13 \n",
    "number_hidden_nodes = 100 \n",
    "model_neural.add(Dense(units=number_hidden_nodes, activation='relu', input_dim=number_inputs))\n",
    "\n",
    "for i in range(10):\n",
    "    model_neural.add(Dense(units=number_hidden_nodes, activation='relu')) \n",
    "\n",
    "number_classes = 3 \n",
    "model_neural.add(Dense(units=number_classes, activation='softmax'))\n",
    "model_neural.summary()\n"
   ]
  },
  {
   "cell_type": "code",
   "execution_count": 73,
   "metadata": {},
   "outputs": [],
   "source": [
    "model_neural.compile(optimizer='adam', loss='categorical_crossentropy', metrics=['accuracy'])\n"
   ]
  },
  {
   "cell_type": "code",
   "execution_count": 74,
   "metadata": {},
   "outputs": [
    {
     "name": "stdout",
     "output_type": "stream",
     "text": [
      "Train on 2542 samples\n",
      "Epoch 1/20\n",
      "2542/2542 - 2s - loss: 1.0578 - accuracy: 0.4142\n",
      "Epoch 2/20\n",
      "2542/2542 - 0s - loss: 0.9665 - accuracy: 0.5319\n",
      "Epoch 3/20\n",
      "2542/2542 - 0s - loss: 0.8810 - accuracy: 0.6031\n",
      "Epoch 4/20\n",
      "2542/2542 - 0s - loss: 0.7754 - accuracy: 0.6637\n",
      "Epoch 5/20\n",
      "2542/2542 - 0s - loss: 0.7031 - accuracy: 0.7191\n",
      "Epoch 6/20\n",
      "2542/2542 - 0s - loss: 0.6357 - accuracy: 0.7396\n",
      "Epoch 7/20\n",
      "2542/2542 - 0s - loss: 0.5391 - accuracy: 0.7864\n",
      "Epoch 8/20\n",
      "2542/2542 - 0s - loss: 0.4943 - accuracy: 0.8041\n",
      "Epoch 9/20\n",
      "2542/2542 - 0s - loss: 0.4187 - accuracy: 0.8458\n",
      "Epoch 10/20\n",
      "2542/2542 - 0s - loss: 0.3854 - accuracy: 0.8552\n",
      "Epoch 11/20\n",
      "2542/2542 - 0s - loss: 0.3332 - accuracy: 0.8839\n",
      "Epoch 12/20\n",
      "2542/2542 - 0s - loss: 0.2603 - accuracy: 0.9064\n",
      "Epoch 13/20\n",
      "2542/2542 - 0s - loss: 0.2505 - accuracy: 0.9162\n",
      "Epoch 14/20\n",
      "2542/2542 - 0s - loss: 0.2180 - accuracy: 0.9245\n",
      "Epoch 15/20\n",
      "2542/2542 - 0s - loss: 0.2053 - accuracy: 0.9253\n",
      "Epoch 16/20\n",
      "2542/2542 - 0s - loss: 0.2110 - accuracy: 0.9288\n",
      "Epoch 17/20\n",
      "2542/2542 - 0s - loss: 0.1815 - accuracy: 0.9367\n",
      "Epoch 18/20\n",
      "2542/2542 - 0s - loss: 0.1640 - accuracy: 0.9453\n",
      "Epoch 19/20\n",
      "2542/2542 - 0s - loss: 0.1317 - accuracy: 0.9552\n",
      "Epoch 20/20\n",
      "2542/2542 - 0s - loss: 0.1170 - accuracy: 0.9583\n",
      "848/1 - 0s - loss: 0.5750 - accuracy: 0.8585\n",
      "Loss: 0.5861532744371666, Accuracy: 0.8584905862808228\n"
     ]
    }
   ],
   "source": [
    "model_neural.fit( X_train_scaled, y_train_cate, epochs=20, shuffle=True, verbose=2 )\n",
    "model_loss, model_accuracy = model_neural.evaluate( X_test_scaled, y_test_cate, verbose=2) \n",
    "print(f\"Loss: {model_loss}, Accuracy: {model_accuracy}\")\n"
   ]
  },
  {
   "cell_type": "markdown",
   "metadata": {},
   "source": [
    "### K Nearest Neighbors"
   ]
  },
  {
   "cell_type": "code",
   "execution_count": 30,
   "metadata": {},
   "outputs": [
    {
     "name": "stdout",
     "output_type": "stream",
     "text": [
      "k: 1, Train/Test Score: 0.984/0.894\n",
      "k: 3, Train/Test Score: 0.923/0.787\n",
      "k: 5, Train/Test Score: 0.843/0.692\n",
      "k: 7, Train/Test Score: 0.763/0.634\n",
      "k: 9, Train/Test Score: 0.708/0.573\n",
      "k: 11, Train/Test Score: 0.668/0.557\n",
      "k: 13, Train/Test Score: 0.648/0.565\n",
      "k: 15, Train/Test Score: 0.629/0.547\n",
      "k: 17, Train/Test Score: 0.613/0.535\n",
      "k: 19, Train/Test Score: 0.600/0.524\n"
     ]
    }
   ],
   "source": [
    "from sklearn.neighbors import KNeighborsClassifier\n",
    "train_scores = [] \n",
    "test_scores = []\n",
    "for k in range(1, 20, 2):\n",
    "      knn = KNeighborsClassifier(n_neighbors=k)\n",
    "      knn.fit(X_train_scaled, y_train)  \n",
    "      train_score = knn.score(X_train_scaled, y_train)\n",
    "      test_score = knn.score(X_test_scaled, y_test) \n",
    "      train_scores.append(train_score) \n",
    "      test_scores.append(test_score)\n",
    "      print(f\"k: {k}, Train/Test Score: {train_score:.3f}/{test_score:.3f}\")\n"
   ]
  },
  {
   "cell_type": "code",
   "execution_count": 32,
   "metadata": {
    "scrolled": true
   },
   "outputs": [
    {
     "data": {
      "image/png": "[encoded data removed]",
      "text/plain": [
       "<Figure size 432x288 with 1 Axes>"
      ]
     },
     "metadata": {
      "needs_background": "light"
     },
     "output_type": "display_data"
    }
   ],
   "source": [
    "plt.plot(range(1, 20, 2), train_scores, marker='o') \n",
    "plt.plot(range(1, 20, 2), test_scores, marker=\"x\") \n",
    "plt.xlabel(\"k neighbors\") \n",
    "plt.ylabel(\"Testing accuracy Score\")\n",
    "plt.show()\n"
   ]
  },
  {
   "cell_type": "code",
   "execution_count": 34,
   "metadata": {},
   "outputs": [
    {
     "name": "stdout",
     "output_type": "stream",
     "text": [
      "k=1 Test Acc: 0.894\n"
     ]
    }
   ],
   "source": [
    "knn = KNeighborsClassifier(n_neighbors=1)\n",
    "knn.fit(X_train_scaled, y_train) \n",
    "print('k=1 Test Acc: %.3f' % knn.score(X_test_scaled, y_test))\n"
   ]
  },
  {
   "cell_type": "code",
   "execution_count": null,
   "metadata": {},
   "outputs": [],
   "source": []
  }
 ],
 "metadata": {
  "kernelspec": {
   "display_name": "Python 3",
   "language": "python",
   "name": "python3"
  },
  "language_info": {
   "codemirror_mode": {
    "name": "ipython",
    "version": 3
   },
   "file_extension": ".py",
   "mimetype": "text/x-python",
   "name": "python",
   "nbconvert_exporter": "python",
   "pygments_lexer": "ipython3",
   "version": "3.7.3"
  }
 },
 "nbformat": 4,
 "nbformat_minor": 2
}
