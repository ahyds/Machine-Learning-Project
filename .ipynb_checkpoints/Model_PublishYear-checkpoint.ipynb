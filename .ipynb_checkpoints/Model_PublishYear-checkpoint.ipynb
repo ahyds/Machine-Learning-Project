{
 "cells": [
  {
   "cell_type": "code",
   "execution_count": 1,
   "metadata": {},
   "outputs": [],
   "source": [
    "import pandas as pd\n",
    "%matplotlib inline\n",
    "import matplotlib.pyplot as plt\n",
    "import numpy as np\n"
   ]
  },
  {
   "cell_type": "code",
   "execution_count": 2,
   "metadata": {},
   "outputs": [],
   "source": [
    "data1990 = pd.read_csv('Resources/1990data_redo.csv')\n",
    "data2000 = pd.read_csv('Resources/2000data_redo.csv')\n",
    "data2010 = pd.read_csv('Resources/2010data.csv')\n",
    "data2019 = pd.read_csv('Resources/2019data.csv')"
   ]
  },
  {
   "cell_type": "code",
   "execution_count": 3,
   "metadata": {},
   "outputs": [
    {
     "data": {
      "text/html": [
       "<div>\n",
       "<style scoped>\n",
       "    .dataframe tbody tr th:only-of-type {\n",
       "        vertical-align: middle;\n",
       "    }\n",
       "\n",
       "    .dataframe tbody tr th {\n",
       "        vertical-align: top;\n",
       "    }\n",
       "\n",
       "    .dataframe thead th {\n",
       "        text-align: right;\n",
       "    }\n",
       "</style>\n",
       "<table border=\"1\" class=\"dataframe\">\n",
       "  <thead>\n",
       "    <tr style=\"text-align: right;\">\n",
       "      <th></th>\n",
       "      <th>Unnamed: 0</th>\n",
       "      <th>acousticness</th>\n",
       "      <th>analysis_url</th>\n",
       "      <th>danceability</th>\n",
       "      <th>duration_ms</th>\n",
       "      <th>energy</th>\n",
       "      <th>id</th>\n",
       "      <th>instrumentalness</th>\n",
       "      <th>key</th>\n",
       "      <th>liveness</th>\n",
       "      <th>loudness</th>\n",
       "      <th>mode</th>\n",
       "      <th>speechiness</th>\n",
       "      <th>tempo</th>\n",
       "      <th>time_signature</th>\n",
       "      <th>track_href</th>\n",
       "      <th>type</th>\n",
       "      <th>uri</th>\n",
       "      <th>valence</th>\n",
       "      <th>year</th>\n",
       "    </tr>\n",
       "  </thead>\n",
       "  <tbody>\n",
       "    <tr>\n",
       "      <th>0</th>\n",
       "      <td>0</td>\n",
       "      <td>0.7360</td>\n",
       "      <td>https://api.spotify.com/v1/audio-analysis/1NCu...</td>\n",
       "      <td>0.780</td>\n",
       "      <td>322133</td>\n",
       "      <td>0.565</td>\n",
       "      <td>1NCuYqMc8hKMb4cpNTcJbD</td>\n",
       "      <td>0.002690</td>\n",
       "      <td>3</td>\n",
       "      <td>0.0630</td>\n",
       "      <td>-7.320</td>\n",
       "      <td>0</td>\n",
       "      <td>0.0306</td>\n",
       "      <td>101.967</td>\n",
       "      <td>4</td>\n",
       "      <td>https://api.spotify.com/v1/tracks/1NCuYqMc8hKM...</td>\n",
       "      <td>audio_features</td>\n",
       "      <td>spotify:track:1NCuYqMc8hKMb4cpNTcJbD</td>\n",
       "      <td>0.365</td>\n",
       "      <td>0</td>\n",
       "    </tr>\n",
       "    <tr>\n",
       "      <th>1</th>\n",
       "      <td>1</td>\n",
       "      <td>0.0561</td>\n",
       "      <td>https://api.spotify.com/v1/audio-analysis/51q3...</td>\n",
       "      <td>0.631</td>\n",
       "      <td>330933</td>\n",
       "      <td>0.935</td>\n",
       "      <td>51q3nDYWAqPY4hlgKEbP6j</td>\n",
       "      <td>0.152000</td>\n",
       "      <td>1</td>\n",
       "      <td>0.6340</td>\n",
       "      <td>-8.340</td>\n",
       "      <td>0</td>\n",
       "      <td>0.0587</td>\n",
       "      <td>109.122</td>\n",
       "      <td>4</td>\n",
       "      <td>https://api.spotify.com/v1/tracks/51q3nDYWAqPY...</td>\n",
       "      <td>audio_features</td>\n",
       "      <td>spotify:track:51q3nDYWAqPY4hlgKEbP6j</td>\n",
       "      <td>0.678</td>\n",
       "      <td>0</td>\n",
       "    </tr>\n",
       "    <tr>\n",
       "      <th>2</th>\n",
       "      <td>2</td>\n",
       "      <td>0.6570</td>\n",
       "      <td>https://api.spotify.com/v1/audio-analysis/5z3Z...</td>\n",
       "      <td>0.401</td>\n",
       "      <td>211973</td>\n",
       "      <td>0.285</td>\n",
       "      <td>5z3ZDMP02xF33yCvPFnct3</td>\n",
       "      <td>0.000011</td>\n",
       "      <td>11</td>\n",
       "      <td>0.1580</td>\n",
       "      <td>-11.005</td>\n",
       "      <td>1</td>\n",
       "      <td>0.0327</td>\n",
       "      <td>130.465</td>\n",
       "      <td>4</td>\n",
       "      <td>https://api.spotify.com/v1/tracks/5z3ZDMP02xF3...</td>\n",
       "      <td>audio_features</td>\n",
       "      <td>spotify:track:5z3ZDMP02xF33yCvPFnct3</td>\n",
       "      <td>0.267</td>\n",
       "      <td>0</td>\n",
       "    </tr>\n",
       "    <tr>\n",
       "      <th>3</th>\n",
       "      <td>3</td>\n",
       "      <td>0.0287</td>\n",
       "      <td>https://api.spotify.com/v1/audio-analysis/0UAE...</td>\n",
       "      <td>0.862</td>\n",
       "      <td>215040</td>\n",
       "      <td>0.918</td>\n",
       "      <td>0UAEHlFR79k9CJvknSGUNf</td>\n",
       "      <td>0.000001</td>\n",
       "      <td>10</td>\n",
       "      <td>0.0492</td>\n",
       "      <td>-7.325</td>\n",
       "      <td>0</td>\n",
       "      <td>0.1080</td>\n",
       "      <td>124.811</td>\n",
       "      <td>4</td>\n",
       "      <td>https://api.spotify.com/v1/tracks/0UAEHlFR79k9...</td>\n",
       "      <td>audio_features</td>\n",
       "      <td>spotify:track:0UAEHlFR79k9CJvknSGUNf</td>\n",
       "      <td>0.651</td>\n",
       "      <td>0</td>\n",
       "    </tr>\n",
       "    <tr>\n",
       "      <th>4</th>\n",
       "      <td>4</td>\n",
       "      <td>0.3340</td>\n",
       "      <td>https://api.spotify.com/v1/audio-analysis/1s12...</td>\n",
       "      <td>0.713</td>\n",
       "      <td>274093</td>\n",
       "      <td>0.432</td>\n",
       "      <td>1s12gYsPeTNQ6znow46nmp</td>\n",
       "      <td>0.000299</td>\n",
       "      <td>11</td>\n",
       "      <td>0.0674</td>\n",
       "      <td>-12.639</td>\n",
       "      <td>0</td>\n",
       "      <td>0.0300</td>\n",
       "      <td>118.955</td>\n",
       "      <td>4</td>\n",
       "      <td>https://api.spotify.com/v1/tracks/1s12gYsPeTNQ...</td>\n",
       "      <td>audio_features</td>\n",
       "      <td>spotify:track:1s12gYsPeTNQ6znow46nmp</td>\n",
       "      <td>0.445</td>\n",
       "      <td>0</td>\n",
       "    </tr>\n",
       "  </tbody>\n",
       "</table>\n",
       "</div>"
      ],
      "text/plain": [
       "   Unnamed: 0  acousticness  \\\n",
       "0           0        0.7360   \n",
       "1           1        0.0561   \n",
       "2           2        0.6570   \n",
       "3           3        0.0287   \n",
       "4           4        0.3340   \n",
       "\n",
       "                                        analysis_url  danceability  \\\n",
       "0  https://api.spotify.com/v1/audio-analysis/1NCu...         0.780   \n",
       "1  https://api.spotify.com/v1/audio-analysis/51q3...         0.631   \n",
       "2  https://api.spotify.com/v1/audio-analysis/5z3Z...         0.401   \n",
       "3  https://api.spotify.com/v1/audio-analysis/0UAE...         0.862   \n",
       "4  https://api.spotify.com/v1/audio-analysis/1s12...         0.713   \n",
       "\n",
       "   duration_ms  energy                      id  instrumentalness  key  \\\n",
       "0       322133   0.565  1NCuYqMc8hKMb4cpNTcJbD          0.002690    3   \n",
       "1       330933   0.935  51q3nDYWAqPY4hlgKEbP6j          0.152000    1   \n",
       "2       211973   0.285  5z3ZDMP02xF33yCvPFnct3          0.000011   11   \n",
       "3       215040   0.918  0UAEHlFR79k9CJvknSGUNf          0.000001   10   \n",
       "4       274093   0.432  1s12gYsPeTNQ6znow46nmp          0.000299   11   \n",
       "\n",
       "   liveness  loudness  mode  speechiness    tempo  time_signature  \\\n",
       "0    0.0630    -7.320     0       0.0306  101.967               4   \n",
       "1    0.6340    -8.340     0       0.0587  109.122               4   \n",
       "2    0.1580   -11.005     1       0.0327  130.465               4   \n",
       "3    0.0492    -7.325     0       0.1080  124.811               4   \n",
       "4    0.0674   -12.639     0       0.0300  118.955               4   \n",
       "\n",
       "                                          track_href            type  \\\n",
       "0  https://api.spotify.com/v1/tracks/1NCuYqMc8hKM...  audio_features   \n",
       "1  https://api.spotify.com/v1/tracks/51q3nDYWAqPY...  audio_features   \n",
       "2  https://api.spotify.com/v1/tracks/5z3ZDMP02xF3...  audio_features   \n",
       "3  https://api.spotify.com/v1/tracks/0UAEHlFR79k9...  audio_features   \n",
       "4  https://api.spotify.com/v1/tracks/1s12gYsPeTNQ...  audio_features   \n",
       "\n",
       "                                    uri  valence  year  \n",
       "0  spotify:track:1NCuYqMc8hKMb4cpNTcJbD    0.365     0  \n",
       "1  spotify:track:51q3nDYWAqPY4hlgKEbP6j    0.678     0  \n",
       "2  spotify:track:5z3ZDMP02xF33yCvPFnct3    0.267     0  \n",
       "3  spotify:track:0UAEHlFR79k9CJvknSGUNf    0.651     0  \n",
       "4  spotify:track:1s12gYsPeTNQ6znow46nmp    0.445     0  "
      ]
     },
     "execution_count": 3,
     "metadata": {},
     "output_type": "execute_result"
    }
   ],
   "source": [
    "data1990['year'] = 0\n",
    "data2000['year'] = 1\n",
    "data2010['year'] = 2\n",
    "data2019['year'] = 3\n",
    "data1990.head()"
   ]
  },
  {
   "cell_type": "code",
   "execution_count": 4,
   "metadata": {},
   "outputs": [],
   "source": [
    "df = pd.concat([data1990, data2000,data2010,data2019], ignore_index=True,sort=False)"
   ]
  },
  {
   "cell_type": "code",
   "execution_count": 5,
   "metadata": {},
   "outputs": [
    {
     "data": {
      "text/html": [
       "<div>\n",
       "<style scoped>\n",
       "    .dataframe tbody tr th:only-of-type {\n",
       "        vertical-align: middle;\n",
       "    }\n",
       "\n",
       "    .dataframe tbody tr th {\n",
       "        vertical-align: top;\n",
       "    }\n",
       "\n",
       "    .dataframe thead th {\n",
       "        text-align: right;\n",
       "    }\n",
       "</style>\n",
       "<table border=\"1\" class=\"dataframe\">\n",
       "  <thead>\n",
       "    <tr style=\"text-align: right;\">\n",
       "      <th></th>\n",
       "      <th>year</th>\n",
       "      <th>acousticness</th>\n",
       "      <th>danceability</th>\n",
       "      <th>duration_ms</th>\n",
       "      <th>energy</th>\n",
       "      <th>instrumentalness</th>\n",
       "      <th>key</th>\n",
       "      <th>liveness</th>\n",
       "      <th>loudness</th>\n",
       "      <th>mode</th>\n",
       "      <th>speechiness</th>\n",
       "      <th>tempo</th>\n",
       "      <th>time_signature</th>\n",
       "      <th>valence</th>\n",
       "    </tr>\n",
       "  </thead>\n",
       "  <tbody>\n",
       "    <tr>\n",
       "      <th>4571</th>\n",
       "      <td>3</td>\n",
       "      <td>0.0794</td>\n",
       "      <td>0.816</td>\n",
       "      <td>136366.0</td>\n",
       "      <td>0.582</td>\n",
       "      <td>0.000006</td>\n",
       "      <td>8.0</td>\n",
       "      <td>0.0916</td>\n",
       "      <td>-4.141</td>\n",
       "      <td>1.0</td>\n",
       "      <td>0.341</td>\n",
       "      <td>160.004</td>\n",
       "      <td>4.0</td>\n",
       "      <td>0.542</td>\n",
       "    </tr>\n",
       "    <tr>\n",
       "      <th>4572</th>\n",
       "      <td>3</td>\n",
       "      <td>0.3630</td>\n",
       "      <td>0.630</td>\n",
       "      <td>174333.0</td>\n",
       "      <td>0.671</td>\n",
       "      <td>0.000000</td>\n",
       "      <td>6.0</td>\n",
       "      <td>0.1130</td>\n",
       "      <td>-6.659</td>\n",
       "      <td>0.0</td>\n",
       "      <td>0.256</td>\n",
       "      <td>89.921</td>\n",
       "      <td>4.0</td>\n",
       "      <td>0.333</td>\n",
       "    </tr>\n",
       "    <tr>\n",
       "      <th>4573</th>\n",
       "      <td>3</td>\n",
       "      <td>0.5820</td>\n",
       "      <td>0.819</td>\n",
       "      <td>268893.0</td>\n",
       "      <td>0.458</td>\n",
       "      <td>0.173000</td>\n",
       "      <td>4.0</td>\n",
       "      <td>0.1280</td>\n",
       "      <td>-10.223</td>\n",
       "      <td>0.0</td>\n",
       "      <td>0.167</td>\n",
       "      <td>122.981</td>\n",
       "      <td>4.0</td>\n",
       "      <td>0.232</td>\n",
       "    </tr>\n",
       "    <tr>\n",
       "      <th>4574</th>\n",
       "      <td>3</td>\n",
       "      <td>0.1190</td>\n",
       "      <td>0.400</td>\n",
       "      <td>186107.0</td>\n",
       "      <td>0.795</td>\n",
       "      <td>0.000000</td>\n",
       "      <td>10.0</td>\n",
       "      <td>0.1590</td>\n",
       "      <td>-3.731</td>\n",
       "      <td>0.0</td>\n",
       "      <td>0.461</td>\n",
       "      <td>190.097</td>\n",
       "      <td>4.0</td>\n",
       "      <td>0.702</td>\n",
       "    </tr>\n",
       "    <tr>\n",
       "      <th>4575</th>\n",
       "      <td>3</td>\n",
       "      <td>0.3900</td>\n",
       "      <td>0.853</td>\n",
       "      <td>221543.0</td>\n",
       "      <td>0.351</td>\n",
       "      <td>0.000009</td>\n",
       "      <td>7.0</td>\n",
       "      <td>0.7520</td>\n",
       "      <td>-10.198</td>\n",
       "      <td>1.0</td>\n",
       "      <td>0.241</td>\n",
       "      <td>118.028</td>\n",
       "      <td>4.0</td>\n",
       "      <td>0.282</td>\n",
       "    </tr>\n",
       "  </tbody>\n",
       "</table>\n",
       "</div>"
      ],
      "text/plain": [
       "      year  acousticness  danceability  duration_ms  energy  instrumentalness  \\\n",
       "4571     3        0.0794         0.816     136366.0   0.582          0.000006   \n",
       "4572     3        0.3630         0.630     174333.0   0.671          0.000000   \n",
       "4573     3        0.5820         0.819     268893.0   0.458          0.173000   \n",
       "4574     3        0.1190         0.400     186107.0   0.795          0.000000   \n",
       "4575     3        0.3900         0.853     221543.0   0.351          0.000009   \n",
       "\n",
       "       key  liveness  loudness  mode  speechiness    tempo  time_signature  \\\n",
       "4571   8.0    0.0916    -4.141   1.0        0.341  160.004             4.0   \n",
       "4572   6.0    0.1130    -6.659   0.0        0.256   89.921             4.0   \n",
       "4573   4.0    0.1280   -10.223   0.0        0.167  122.981             4.0   \n",
       "4574  10.0    0.1590    -3.731   0.0        0.461  190.097             4.0   \n",
       "4575   7.0    0.7520   -10.198   1.0        0.241  118.028             4.0   \n",
       "\n",
       "      valence  \n",
       "4571    0.542  \n",
       "4572    0.333  \n",
       "4573    0.232  \n",
       "4574    0.702  \n",
       "4575    0.282  "
      ]
     },
     "execution_count": 5,
     "metadata": {},
     "output_type": "execute_result"
    }
   ],
   "source": [
    "df = df[['year','acousticness','danceability','duration_ms','energy','instrumentalness','key','liveness','loudness','mode','speechiness','tempo','time_signature','valence']]\n",
    "df = df.dropna(how = 'any')\n",
    "df.tail()"
   ]
  },
  {
   "cell_type": "code",
   "execution_count": 6,
   "metadata": {},
   "outputs": [
    {
     "name": "stdout",
     "output_type": "stream",
     "text": [
      "Shape:  (4576, 13) (4576,)\n"
     ]
    }
   ],
   "source": [
    "X = df[['acousticness','danceability','duration_ms','energy','instrumentalness','key','liveness','loudness','mode','speechiness','tempo','time_signature','valence']]\n",
    "y = df[\"year\"].values#.reshape(-1, 1)\n",
    "print(\"Shape: \", X.shape, y.shape)\n"
   ]
  },
  {
   "cell_type": "code",
   "execution_count": 7,
   "metadata": {},
   "outputs": [],
   "source": [
    "from sklearn.model_selection import train_test_split \n",
    "X_train, X_test, y_train, y_test = train_test_split(X, y, random_state=42)"
   ]
  },
  {
   "cell_type": "code",
   "execution_count": 8,
   "metadata": {},
   "outputs": [],
   "source": [
    "from sklearn.preprocessing import StandardScaler \n",
    "X_scaler = StandardScaler().fit(X_train)\n",
    "X_train_scaled = X_scaler.transform(X_train) \n",
    "X_test_scaled = X_scaler.transform(X_test)"
   ]
  },
  {
   "cell_type": "markdown",
   "metadata": {},
   "source": [
    "### Decision Tree Model"
   ]
  },
  {
   "cell_type": "code",
   "execution_count": 9,
   "metadata": {},
   "outputs": [],
   "source": [
    "from sklearn import tree \n",
    "clf = tree.DecisionTreeClassifier()"
   ]
  },
  {
   "cell_type": "code",
   "execution_count": 10,
   "metadata": {},
   "outputs": [
    {
     "data": {
      "text/plain": [
       "0.8671328671328671"
      ]
     },
     "execution_count": 10,
     "metadata": {},
     "output_type": "execute_result"
    }
   ],
   "source": [
    "clf = clf.fit(X_train_scaled, y_train)\n",
    "clf.score(X_test_scaled, y_test)\n"
   ]
  },
  {
   "cell_type": "code",
   "execution_count": 11,
   "metadata": {},
   "outputs": [],
   "source": [
    "predictions = clf.predict(X_test_scaled)\n"
   ]
  },
  {
   "cell_type": "code",
   "execution_count": 12,
   "metadata": {},
   "outputs": [
    {
     "data": {
      "text/html": [
       "<div>\n",
       "<style scoped>\n",
       "    .dataframe tbody tr th:only-of-type {\n",
       "        vertical-align: middle;\n",
       "    }\n",
       "\n",
       "    .dataframe tbody tr th {\n",
       "        vertical-align: top;\n",
       "    }\n",
       "\n",
       "    .dataframe thead th {\n",
       "        text-align: right;\n",
       "    }\n",
       "</style>\n",
       "<table border=\"1\" class=\"dataframe\">\n",
       "  <thead>\n",
       "    <tr style=\"text-align: right;\">\n",
       "      <th></th>\n",
       "      <th>Predicted</th>\n",
       "      <th>Actual</th>\n",
       "    </tr>\n",
       "  </thead>\n",
       "  <tbody>\n",
       "    <tr>\n",
       "      <th>0</th>\n",
       "      <td>1</td>\n",
       "      <td>1</td>\n",
       "    </tr>\n",
       "    <tr>\n",
       "      <th>1</th>\n",
       "      <td>1</td>\n",
       "      <td>1</td>\n",
       "    </tr>\n",
       "    <tr>\n",
       "      <th>2</th>\n",
       "      <td>1</td>\n",
       "      <td>1</td>\n",
       "    </tr>\n",
       "    <tr>\n",
       "      <th>3</th>\n",
       "      <td>3</td>\n",
       "      <td>3</td>\n",
       "    </tr>\n",
       "    <tr>\n",
       "      <th>4</th>\n",
       "      <td>0</td>\n",
       "      <td>0</td>\n",
       "    </tr>\n",
       "  </tbody>\n",
       "</table>\n",
       "</div>"
      ],
      "text/plain": [
       "   Predicted  Actual\n",
       "0          1       1\n",
       "1          1       1\n",
       "2          1       1\n",
       "3          3       3\n",
       "4          0       0"
      ]
     },
     "execution_count": 12,
     "metadata": {},
     "output_type": "execute_result"
    }
   ],
   "source": [
    "test_result_df = pd.DataFrame({\"Predicted\": predictions, \"Actual\": predictions})[[\"Predicted\", \"Actual\"]]\n",
    "test_result_df.head()"
   ]
  },
  {
   "cell_type": "code",
   "execution_count": 13,
   "metadata": {},
   "outputs": [
    {
     "data": {
      "text/plain": [
       "[(0.13926490272192343, 'duration_ms'),\n",
       " (0.1224338581385533, 'loudness'),\n",
       " (0.09915947012699673, 'energy'),\n",
       " (0.0979233911697202, 'danceability'),\n",
       " (0.09268691157612152, 'valence'),\n",
       " (0.09229130771025226, 'tempo'),\n",
       " (0.08805827779518113, 'acousticness'),\n",
       " (0.0828984402187735, 'liveness'),\n",
       " (0.06962285661032946, 'speechiness'),\n",
       " (0.050882069997211093, 'instrumentalness'),\n",
       " (0.04476540528589532, 'key'),\n",
       " (0.012448348198755534, 'mode'),\n",
       " (0.007564760450286444, 'time_signature')]"
      ]
     },
     "execution_count": 13,
     "metadata": {},
     "output_type": "execute_result"
    }
   ],
   "source": [
    "feature_names = X.columns\n",
    "sorted(zip(clf.feature_importances_, feature_names), reverse=True)\n"
   ]
  },
  {
   "cell_type": "markdown",
   "metadata": {},
   "source": [
    "### Random Forest"
   ]
  },
  {
   "cell_type": "code",
   "execution_count": 14,
   "metadata": {},
   "outputs": [
    {
     "data": {
      "text/plain": [
       "[(0.13005504412874244, 'duration_ms'),\n",
       " (0.12651422121255737, 'loudness'),\n",
       " (0.09066596575369455, 'energy'),\n",
       " (0.09019465823490432, 'speechiness'),\n",
       " (0.08897978492551588, 'tempo'),\n",
       " (0.08772371898113583, 'valence'),\n",
       " (0.08745137127109334, 'danceability'),\n",
       " (0.08490032578998634, 'acousticness'),\n",
       " (0.08192569848237632, 'liveness'),\n",
       " (0.06349978622052377, 'instrumentalness'),\n",
       " (0.04925060952621654, 'key'),\n",
       " (0.013383697500299776, 'mode'),\n",
       " (0.005455117972953564, 'time_signature')]"
      ]
     },
     "execution_count": 14,
     "metadata": {},
     "output_type": "execute_result"
    }
   ],
   "source": [
    "from sklearn.ensemble import RandomForestClassifier \n",
    "rf = RandomForestClassifier(n_estimators=200) \n",
    "rf = rf.fit(X_train_scaled, y_train) \n",
    "rf.score(X_test_scaled, y_test)\n",
    "feature_names = X.columns\n",
    "sorted(zip(rf.feature_importances_, feature_names), reverse=True)\n"
   ]
  },
  {
   "cell_type": "code",
   "execution_count": 15,
   "metadata": {},
   "outputs": [
    {
     "data": {
      "text/plain": [
       "0.8863636363636364"
      ]
     },
     "execution_count": 15,
     "metadata": {},
     "output_type": "execute_result"
    }
   ],
   "source": [
    "rf.score(X_test_scaled, y_test)"
   ]
  },
  {
   "cell_type": "code",
   "execution_count": null,
   "metadata": {},
   "outputs": [],
   "source": []
  },
  {
   "cell_type": "markdown",
   "metadata": {},
   "source": [
    "### Neural Network"
   ]
  },
  {
   "cell_type": "code",
   "execution_count": 16,
   "metadata": {},
   "outputs": [],
   "source": [
    "from numpy.random import seed \n",
    "seed(42)"
   ]
  },
  {
   "cell_type": "code",
   "execution_count": 17,
   "metadata": {},
   "outputs": [
    {
     "name": "stderr",
     "output_type": "stream",
     "text": [
      "Using TensorFlow backend.\n"
     ]
    }
   ],
   "source": [
    "from keras.utils import to_categorical\n",
    "y_train_cate = to_categorical(y_train)\n",
    "y_test_cate = to_categorical(y_test)"
   ]
  },
  {
   "cell_type": "code",
   "execution_count": 65,
   "metadata": {},
   "outputs": [],
   "source": [
    "from tensorflow.keras.models import Sequential \n",
    "model_neural = Sequential()\n"
   ]
  },
  {
   "cell_type": "code",
   "execution_count": 66,
   "metadata": {
    "scrolled": true
   },
   "outputs": [
    {
     "name": "stdout",
     "output_type": "stream",
     "text": [
      "Model: \"sequential_9\"\n",
      "_________________________________________________________________\n",
      "Layer (type)                 Output Shape              Param #   \n",
      "=================================================================\n",
      "dense_193 (Dense)            (None, 100)               1400      \n",
      "_________________________________________________________________\n",
      "dense_194 (Dense)            (None, 100)               10100     \n",
      "_________________________________________________________________\n",
      "dense_195 (Dense)            (None, 100)               10100     \n",
      "_________________________________________________________________\n",
      "dense_196 (Dense)            (None, 100)               10100     \n",
      "_________________________________________________________________\n",
      "dense_197 (Dense)            (None, 100)               10100     \n",
      "_________________________________________________________________\n",
      "dense_198 (Dense)            (None, 100)               10100     \n",
      "_________________________________________________________________\n",
      "dense_199 (Dense)            (None, 100)               10100     \n",
      "_________________________________________________________________\n",
      "dense_200 (Dense)            (None, 100)               10100     \n",
      "_________________________________________________________________\n",
      "dense_201 (Dense)            (None, 100)               10100     \n",
      "_________________________________________________________________\n",
      "dense_202 (Dense)            (None, 100)               10100     \n",
      "_________________________________________________________________\n",
      "dense_203 (Dense)            (None, 100)               10100     \n",
      "_________________________________________________________________\n",
      "dense_204 (Dense)            (None, 100)               10100     \n",
      "_________________________________________________________________\n",
      "dense_205 (Dense)            (None, 4)                 404       \n",
      "=================================================================\n",
      "Total params: 112,904\n",
      "Trainable params: 112,904\n",
      "Non-trainable params: 0\n",
      "_________________________________________________________________\n"
     ]
    }
   ],
   "source": [
    "from tensorflow.keras.layers import Dense \n",
    "number_inputs = 13 \n",
    "number_hidden_nodes = 100 \n",
    "model_neural.add(Dense(units=number_hidden_nodes, activation='relu', input_dim=number_inputs))\n",
    "\n",
    "for i in range(11):\n",
    "    model_neural.add(Dense(units=number_hidden_nodes, activation='relu')) \n",
    "\n",
    "number_classes = 4 \n",
    "model_neural.add(Dense(units=number_classes, activation='softmax'))\n",
    "model_neural.summary()\n"
   ]
  },
  {
   "cell_type": "code",
   "execution_count": 67,
   "metadata": {},
   "outputs": [],
   "source": [
    "model_neural.compile(optimizer='adam', loss='categorical_crossentropy', metrics=['accuracy'])\n"
   ]
  },
  {
   "cell_type": "code",
   "execution_count": 68,
   "metadata": {},
   "outputs": [
    {
     "name": "stdout",
     "output_type": "stream",
     "text": [
      "Train on 3432 samples\n",
      "Epoch 1/20\n",
      "3432/3432 - 2s - loss: 1.2907 - accuracy: 0.3782\n",
      "Epoch 2/20\n",
      "3432/3432 - 1s - loss: 1.1775 - accuracy: 0.4682\n",
      "Epoch 3/20\n",
      "3432/3432 - 0s - loss: 1.1033 - accuracy: 0.5271\n",
      "Epoch 4/20\n",
      "3432/3432 - 0s - loss: 1.0593 - accuracy: 0.5600\n",
      "Epoch 5/20\n",
      "3432/3432 - 0s - loss: 0.9861 - accuracy: 0.6072\n",
      "Epoch 6/20\n",
      "3432/3432 - 0s - loss: 0.9264 - accuracy: 0.6428\n",
      "Epoch 7/20\n",
      "3432/3432 - 0s - loss: 0.8521 - accuracy: 0.6897\n",
      "Epoch 8/20\n",
      "3432/3432 - 0s - loss: 0.7689 - accuracy: 0.7232\n",
      "Epoch 9/20\n",
      "3432/3432 - 0s - loss: 0.6903 - accuracy: 0.7602\n",
      "Epoch 10/20\n",
      "3432/3432 - 0s - loss: 0.6514 - accuracy: 0.7686\n",
      "Epoch 11/20\n",
      "3432/3432 - 0s - loss: 0.5792 - accuracy: 0.8033\n",
      "Epoch 12/20\n",
      "3432/3432 - 0s - loss: 0.5216 - accuracy: 0.8156\n",
      "Epoch 13/20\n",
      "3432/3432 - 0s - loss: 0.4735 - accuracy: 0.8371\n",
      "Epoch 14/20\n",
      "3432/3432 - 0s - loss: 0.4262 - accuracy: 0.8564\n",
      "Epoch 15/20\n",
      "3432/3432 - 0s - loss: 0.3993 - accuracy: 0.8639\n",
      "Epoch 16/20\n",
      "3432/3432 - 0s - loss: 0.3691 - accuracy: 0.8700\n",
      "Epoch 17/20\n",
      "3432/3432 - 0s - loss: 0.3499 - accuracy: 0.8750\n",
      "Epoch 18/20\n",
      "3432/3432 - 0s - loss: 0.3818 - accuracy: 0.8700\n",
      "Epoch 19/20\n",
      "3432/3432 - 0s - loss: 0.3228 - accuracy: 0.8869\n",
      "Epoch 20/20\n",
      "3432/3432 - 0s - loss: 0.2758 - accuracy: 0.9050\n",
      "1144/1 - 0s - loss: 0.9246 - accuracy: 0.8051\n",
      "Loss: 0.7620475575640485, Accuracy: 0.8050699234008789\n"
     ]
    }
   ],
   "source": [
    "model_neural.fit( X_train_scaled, y_train_cate, epochs=20, shuffle=True, verbose=2 )\n",
    "model_loss, model_accuracy = model_neural.evaluate( X_test_scaled, y_test_cate, verbose=2) \n",
    "print(f\"Loss: {model_loss}, Accuracy: {model_accuracy}\")\n"
   ]
  },
  {
   "cell_type": "markdown",
   "metadata": {},
   "source": [
    "### K Nearest Neighbors"
   ]
  },
  {
   "cell_type": "code",
   "execution_count": 22,
   "metadata": {},
   "outputs": [
    {
     "name": "stdout",
     "output_type": "stream",
     "text": [
      "k: 1, Train/Test Score: 0.962/0.872\n",
      "k: 3, Train/Test Score: 0.896/0.757\n",
      "k: 5, Train/Test Score: 0.818/0.675\n",
      "k: 7, Train/Test Score: 0.739/0.608\n",
      "k: 9, Train/Test Score: 0.687/0.574\n",
      "k: 11, Train/Test Score: 0.649/0.556\n",
      "k: 13, Train/Test Score: 0.623/0.552\n",
      "k: 15, Train/Test Score: 0.620/0.542\n",
      "k: 17, Train/Test Score: 0.605/0.526\n",
      "k: 19, Train/Test Score: 0.585/0.530\n"
     ]
    }
   ],
   "source": [
    "from sklearn.neighbors import KNeighborsClassifier\n",
    "train_scores = [] \n",
    "test_scores = []\n",
    "for k in range(1, 20, 2):\n",
    "      knn = KNeighborsClassifier(n_neighbors=k)\n",
    "      knn.fit(X_train_scaled, y_train)  \n",
    "      train_score = knn.score(X_train_scaled, y_train)\n",
    "      test_score = knn.score(X_test_scaled, y_test) \n",
    "      train_scores.append(train_score) \n",
    "      test_scores.append(test_score)\n",
    "      print(f\"k: {k}, Train/Test Score: {train_score:.3f}/{test_score:.3f}\")\n"
   ]
  },
  {
   "cell_type": "code",
   "execution_count": 23,
   "metadata": {
    "scrolled": true
   },
   "outputs": [
    {
     "data": {
      "image/png": "[encoded data removed]",
      "text/plain": [
       "<Figure size 432x288 with 1 Axes>"
      ]
     },
     "metadata": {
      "needs_background": "light"
     },
     "output_type": "display_data"
    }
   ],
   "source": [
    "plt.plot(range(1, 20, 2), train_scores, marker='o') \n",
    "plt.plot(range(1, 20, 2), test_scores, marker=\"x\") \n",
    "plt.xlabel(\"k neighbors\") \n",
    "plt.ylabel(\"Testing accuracy Score\")\n",
    "plt.show()\n"
   ]
  },
  {
   "cell_type": "code",
   "execution_count": 24,
   "metadata": {},
   "outputs": [
    {
     "name": "stdout",
     "output_type": "stream",
     "text": [
      "k=1 Test Acc: 0.872\n"
     ]
    }
   ],
   "source": [
    "knn = KNeighborsClassifier(n_neighbors=1)\n",
    "knn.fit(X_train_scaled, y_train) \n",
    "print('k=1 Test Acc: %.3f' % knn.score(X_test_scaled, y_test))\n"
   ]
  },
  {
   "cell_type": "code",
   "execution_count": null,
   "metadata": {},
   "outputs": [],
   "source": []
  }
 ],
 "metadata": {
  "kernelspec": {
   "display_name": "Python 3",
   "language": "python",
   "name": "python3"
  },
  "language_info": {
   "codemirror_mode": {
    "name": "ipython",
    "version": 3
   },
   "file_extension": ".py",
   "mimetype": "text/x-python",
   "name": "python",
   "nbconvert_exporter": "python",
   "pygments_lexer": "ipython3",
   "version": "3.7.3"
  }
 },
 "nbformat": 4,
 "nbformat_minor": 2
}
