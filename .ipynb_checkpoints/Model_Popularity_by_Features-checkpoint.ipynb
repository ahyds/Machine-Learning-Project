{
 "cells": [
  {
   "cell_type": "code",
   "execution_count": 1,
   "metadata": {},
   "outputs": [],
   "source": [
    "import pandas as pd\n",
    "%matplotlib inline\n",
    "import matplotlib.pyplot as plt\n",
    "import numpy as np"
   ]
  },
  {
   "cell_type": "code",
   "execution_count": 2,
   "metadata": {},
   "outputs": [],
   "source": [
    "unpopular = pd.read_csv(\"Resources/unpopulardata.csv\")\n",
    "popular = pd.read_csv(\"Resources/2019data_cleaned.csv\")"
   ]
  },
  {
   "cell_type": "code",
   "execution_count": 3,
   "metadata": {},
   "outputs": [
    {
     "data": {
      "text/html": [
       "<div>\n",
       "<style scoped>\n",
       "    .dataframe tbody tr th:only-of-type {\n",
       "        vertical-align: middle;\n",
       "    }\n",
       "\n",
       "    .dataframe tbody tr th {\n",
       "        vertical-align: top;\n",
       "    }\n",
       "\n",
       "    .dataframe thead th {\n",
       "        text-align: right;\n",
       "    }\n",
       "</style>\n",
       "<table border=\"1\" class=\"dataframe\">\n",
       "  <thead>\n",
       "    <tr style=\"text-align: right;\">\n",
       "      <th></th>\n",
       "      <th>Unnamed: 0</th>\n",
       "      <th>acousticness</th>\n",
       "      <th>analysis_url</th>\n",
       "      <th>danceability</th>\n",
       "      <th>duration_ms</th>\n",
       "      <th>energy</th>\n",
       "      <th>id</th>\n",
       "      <th>instrumentalness</th>\n",
       "      <th>key</th>\n",
       "      <th>liveness</th>\n",
       "      <th>loudness</th>\n",
       "      <th>mode</th>\n",
       "      <th>speechiness</th>\n",
       "      <th>tempo</th>\n",
       "      <th>time_signature</th>\n",
       "      <th>track_href</th>\n",
       "      <th>type</th>\n",
       "      <th>uri</th>\n",
       "      <th>valence</th>\n",
       "      <th>popularity</th>\n",
       "    </tr>\n",
       "  </thead>\n",
       "  <tbody>\n",
       "    <tr>\n",
       "      <th>0</th>\n",
       "      <td>0</td>\n",
       "      <td>0.170000</td>\n",
       "      <td>https://api.spotify.com/v1/audio-analysis/5hTp...</td>\n",
       "      <td>0.941</td>\n",
       "      <td>209640</td>\n",
       "      <td>0.335</td>\n",
       "      <td>5hTpBe8h35rJ67eAWHQsJx</td>\n",
       "      <td>0.000000</td>\n",
       "      <td>5</td>\n",
       "      <td>0.2620</td>\n",
       "      <td>-10.179</td>\n",
       "      <td>0</td>\n",
       "      <td>0.5050</td>\n",
       "      <td>120.041</td>\n",
       "      <td>4</td>\n",
       "      <td>https://api.spotify.com/v1/tracks/5hTpBe8h35rJ...</td>\n",
       "      <td>audio_features</td>\n",
       "      <td>spotify:track:5hTpBe8h35rJ67eAWHQsJx</td>\n",
       "      <td>0.707</td>\n",
       "      <td>0</td>\n",
       "    </tr>\n",
       "    <tr>\n",
       "      <th>1</th>\n",
       "      <td>1</td>\n",
       "      <td>0.189000</td>\n",
       "      <td>https://api.spotify.com/v1/audio-analysis/75rn...</td>\n",
       "      <td>0.740</td>\n",
       "      <td>207733</td>\n",
       "      <td>0.974</td>\n",
       "      <td>75rnLkvIeq8RZ8xjcFIvSG</td>\n",
       "      <td>0.000000</td>\n",
       "      <td>1</td>\n",
       "      <td>0.0849</td>\n",
       "      <td>-3.585</td>\n",
       "      <td>1</td>\n",
       "      <td>0.0903</td>\n",
       "      <td>120.041</td>\n",
       "      <td>4</td>\n",
       "      <td>https://api.spotify.com/v1/tracks/75rnLkvIeq8R...</td>\n",
       "      <td>audio_features</td>\n",
       "      <td>spotify:track:75rnLkvIeq8RZ8xjcFIvSG</td>\n",
       "      <td>0.766</td>\n",
       "      <td>0</td>\n",
       "    </tr>\n",
       "    <tr>\n",
       "      <th>2</th>\n",
       "      <td>2</td>\n",
       "      <td>0.129000</td>\n",
       "      <td>https://api.spotify.com/v1/audio-analysis/3gzv...</td>\n",
       "      <td>0.795</td>\n",
       "      <td>194000</td>\n",
       "      <td>0.557</td>\n",
       "      <td>3gzvOfEsblYOVK3xDXodCP</td>\n",
       "      <td>0.000000</td>\n",
       "      <td>1</td>\n",
       "      <td>0.1130</td>\n",
       "      <td>-6.653</td>\n",
       "      <td>1</td>\n",
       "      <td>0.0426</td>\n",
       "      <td>119.942</td>\n",
       "      <td>4</td>\n",
       "      <td>https://api.spotify.com/v1/tracks/3gzvOfEsblYO...</td>\n",
       "      <td>audio_features</td>\n",
       "      <td>spotify:track:3gzvOfEsblYOVK3xDXodCP</td>\n",
       "      <td>0.403</td>\n",
       "      <td>0</td>\n",
       "    </tr>\n",
       "    <tr>\n",
       "      <th>3</th>\n",
       "      <td>3</td>\n",
       "      <td>0.000323</td>\n",
       "      <td>https://api.spotify.com/v1/audio-analysis/3ilt...</td>\n",
       "      <td>0.637</td>\n",
       "      <td>169573</td>\n",
       "      <td>0.509</td>\n",
       "      <td>3ilt7lMNflb49pEDpcZPAa</td>\n",
       "      <td>0.000000</td>\n",
       "      <td>1</td>\n",
       "      <td>0.0938</td>\n",
       "      <td>-5.926</td>\n",
       "      <td>1</td>\n",
       "      <td>0.0346</td>\n",
       "      <td>111.805</td>\n",
       "      <td>4</td>\n",
       "      <td>https://api.spotify.com/v1/tracks/3ilt7lMNflb4...</td>\n",
       "      <td>audio_features</td>\n",
       "      <td>spotify:track:3ilt7lMNflb49pEDpcZPAa</td>\n",
       "      <td>0.306</td>\n",
       "      <td>0</td>\n",
       "    </tr>\n",
       "    <tr>\n",
       "      <th>4</th>\n",
       "      <td>4</td>\n",
       "      <td>0.551000</td>\n",
       "      <td>https://api.spotify.com/v1/audio-analysis/18AX...</td>\n",
       "      <td>0.446</td>\n",
       "      <td>336453</td>\n",
       "      <td>0.239</td>\n",
       "      <td>18AXbzPzBS8Y3AkgSxzJPb</td>\n",
       "      <td>0.000004</td>\n",
       "      <td>0</td>\n",
       "      <td>0.0697</td>\n",
       "      <td>-13.945</td>\n",
       "      <td>1</td>\n",
       "      <td>0.0316</td>\n",
       "      <td>189.507</td>\n",
       "      <td>4</td>\n",
       "      <td>https://api.spotify.com/v1/tracks/18AXbzPzBS8Y...</td>\n",
       "      <td>audio_features</td>\n",
       "      <td>spotify:track:18AXbzPzBS8Y3AkgSxzJPb</td>\n",
       "      <td>0.298</td>\n",
       "      <td>0</td>\n",
       "    </tr>\n",
       "  </tbody>\n",
       "</table>\n",
       "</div>"
      ],
      "text/plain": [
       "   Unnamed: 0  acousticness  \\\n",
       "0           0      0.170000   \n",
       "1           1      0.189000   \n",
       "2           2      0.129000   \n",
       "3           3      0.000323   \n",
       "4           4      0.551000   \n",
       "\n",
       "                                        analysis_url  danceability  \\\n",
       "0  https://api.spotify.com/v1/audio-analysis/5hTp...         0.941   \n",
       "1  https://api.spotify.com/v1/audio-analysis/75rn...         0.740   \n",
       "2  https://api.spotify.com/v1/audio-analysis/3gzv...         0.795   \n",
       "3  https://api.spotify.com/v1/audio-analysis/3ilt...         0.637   \n",
       "4  https://api.spotify.com/v1/audio-analysis/18AX...         0.446   \n",
       "\n",
       "   duration_ms  energy                      id  instrumentalness  key  \\\n",
       "0       209640   0.335  5hTpBe8h35rJ67eAWHQsJx          0.000000    5   \n",
       "1       207733   0.974  75rnLkvIeq8RZ8xjcFIvSG          0.000000    1   \n",
       "2       194000   0.557  3gzvOfEsblYOVK3xDXodCP          0.000000    1   \n",
       "3       169573   0.509  3ilt7lMNflb49pEDpcZPAa          0.000000    1   \n",
       "4       336453   0.239  18AXbzPzBS8Y3AkgSxzJPb          0.000004    0   \n",
       "\n",
       "   liveness  loudness  mode  speechiness    tempo  time_signature  \\\n",
       "0    0.2620   -10.179     0       0.5050  120.041               4   \n",
       "1    0.0849    -3.585     1       0.0903  120.041               4   \n",
       "2    0.1130    -6.653     1       0.0426  119.942               4   \n",
       "3    0.0938    -5.926     1       0.0346  111.805               4   \n",
       "4    0.0697   -13.945     1       0.0316  189.507               4   \n",
       "\n",
       "                                          track_href            type  \\\n",
       "0  https://api.spotify.com/v1/tracks/5hTpBe8h35rJ...  audio_features   \n",
       "1  https://api.spotify.com/v1/tracks/75rnLkvIeq8R...  audio_features   \n",
       "2  https://api.spotify.com/v1/tracks/3gzvOfEsblYO...  audio_features   \n",
       "3  https://api.spotify.com/v1/tracks/3ilt7lMNflb4...  audio_features   \n",
       "4  https://api.spotify.com/v1/tracks/18AXbzPzBS8Y...  audio_features   \n",
       "\n",
       "                                    uri  valence  popularity  \n",
       "0  spotify:track:5hTpBe8h35rJ67eAWHQsJx    0.707           0  \n",
       "1  spotify:track:75rnLkvIeq8RZ8xjcFIvSG    0.766           0  \n",
       "2  spotify:track:3gzvOfEsblYOVK3xDXodCP    0.403           0  \n",
       "3  spotify:track:3ilt7lMNflb49pEDpcZPAa    0.306           0  \n",
       "4  spotify:track:18AXbzPzBS8Y3AkgSxzJPb    0.298           0  "
      ]
     },
     "execution_count": 3,
     "metadata": {},
     "output_type": "execute_result"
    }
   ],
   "source": [
    "unpopular['popularity'] = 0\n",
    "popular['popularity'] = 1\n",
    "unpopular.head()"
   ]
  },
  {
   "cell_type": "code",
   "execution_count": 4,
   "metadata": {},
   "outputs": [],
   "source": [
    "df = pd.concat([unpopular, popular], ignore_index=True,sort=False)"
   ]
  },
  {
   "cell_type": "code",
   "execution_count": 5,
   "metadata": {},
   "outputs": [
    {
     "data": {
      "text/html": [
       "<div>\n",
       "<style scoped>\n",
       "    .dataframe tbody tr th:only-of-type {\n",
       "        vertical-align: middle;\n",
       "    }\n",
       "\n",
       "    .dataframe tbody tr th {\n",
       "        vertical-align: top;\n",
       "    }\n",
       "\n",
       "    .dataframe thead th {\n",
       "        text-align: right;\n",
       "    }\n",
       "</style>\n",
       "<table border=\"1\" class=\"dataframe\">\n",
       "  <thead>\n",
       "    <tr style=\"text-align: right;\">\n",
       "      <th></th>\n",
       "      <th>popularity</th>\n",
       "      <th>acousticness</th>\n",
       "      <th>danceability</th>\n",
       "      <th>duration_ms</th>\n",
       "      <th>energy</th>\n",
       "      <th>instrumentalness</th>\n",
       "      <th>key</th>\n",
       "      <th>liveness</th>\n",
       "      <th>loudness</th>\n",
       "      <th>mode</th>\n",
       "      <th>speechiness</th>\n",
       "      <th>tempo</th>\n",
       "      <th>time_signature</th>\n",
       "      <th>valence</th>\n",
       "    </tr>\n",
       "  </thead>\n",
       "  <tbody>\n",
       "    <tr>\n",
       "      <th>751</th>\n",
       "      <td>1</td>\n",
       "      <td>0.1520</td>\n",
       "      <td>0.754</td>\n",
       "      <td>242573</td>\n",
       "      <td>0.646</td>\n",
       "      <td>0.000018</td>\n",
       "      <td>7</td>\n",
       "      <td>0.1080</td>\n",
       "      <td>-5.795</td>\n",
       "      <td>1</td>\n",
       "      <td>0.317</td>\n",
       "      <td>176.089</td>\n",
       "      <td>4</td>\n",
       "      <td>0.429</td>\n",
       "    </tr>\n",
       "    <tr>\n",
       "      <th>752</th>\n",
       "      <td>1</td>\n",
       "      <td>0.4270</td>\n",
       "      <td>0.679</td>\n",
       "      <td>179973</td>\n",
       "      <td>0.443</td>\n",
       "      <td>0.000000</td>\n",
       "      <td>10</td>\n",
       "      <td>0.1060</td>\n",
       "      <td>-8.528</td>\n",
       "      <td>0</td>\n",
       "      <td>0.153</td>\n",
       "      <td>104.049</td>\n",
       "      <td>4</td>\n",
       "      <td>0.363</td>\n",
       "    </tr>\n",
       "    <tr>\n",
       "      <th>753</th>\n",
       "      <td>1</td>\n",
       "      <td>0.0794</td>\n",
       "      <td>0.816</td>\n",
       "      <td>136366</td>\n",
       "      <td>0.582</td>\n",
       "      <td>0.000006</td>\n",
       "      <td>8</td>\n",
       "      <td>0.0916</td>\n",
       "      <td>-4.141</td>\n",
       "      <td>1</td>\n",
       "      <td>0.341</td>\n",
       "      <td>160.004</td>\n",
       "      <td>4</td>\n",
       "      <td>0.542</td>\n",
       "    </tr>\n",
       "    <tr>\n",
       "      <th>754</th>\n",
       "      <td>1</td>\n",
       "      <td>0.3630</td>\n",
       "      <td>0.630</td>\n",
       "      <td>174333</td>\n",
       "      <td>0.671</td>\n",
       "      <td>0.000000</td>\n",
       "      <td>6</td>\n",
       "      <td>0.1130</td>\n",
       "      <td>-6.659</td>\n",
       "      <td>0</td>\n",
       "      <td>0.256</td>\n",
       "      <td>89.921</td>\n",
       "      <td>4</td>\n",
       "      <td>0.333</td>\n",
       "    </tr>\n",
       "    <tr>\n",
       "      <th>755</th>\n",
       "      <td>1</td>\n",
       "      <td>0.5820</td>\n",
       "      <td>0.819</td>\n",
       "      <td>268893</td>\n",
       "      <td>0.458</td>\n",
       "      <td>0.173000</td>\n",
       "      <td>4</td>\n",
       "      <td>0.1280</td>\n",
       "      <td>-10.223</td>\n",
       "      <td>0</td>\n",
       "      <td>0.167</td>\n",
       "      <td>122.981</td>\n",
       "      <td>4</td>\n",
       "      <td>0.232</td>\n",
       "    </tr>\n",
       "  </tbody>\n",
       "</table>\n",
       "</div>"
      ],
      "text/plain": [
       "     popularity  acousticness  danceability  duration_ms  energy  \\\n",
       "751           1        0.1520         0.754       242573   0.646   \n",
       "752           1        0.4270         0.679       179973   0.443   \n",
       "753           1        0.0794         0.816       136366   0.582   \n",
       "754           1        0.3630         0.630       174333   0.671   \n",
       "755           1        0.5820         0.819       268893   0.458   \n",
       "\n",
       "     instrumentalness  key  liveness  loudness  mode  speechiness    tempo  \\\n",
       "751          0.000018    7    0.1080    -5.795     1        0.317  176.089   \n",
       "752          0.000000   10    0.1060    -8.528     0        0.153  104.049   \n",
       "753          0.000006    8    0.0916    -4.141     1        0.341  160.004   \n",
       "754          0.000000    6    0.1130    -6.659     0        0.256   89.921   \n",
       "755          0.173000    4    0.1280   -10.223     0        0.167  122.981   \n",
       "\n",
       "     time_signature  valence  \n",
       "751               4    0.429  \n",
       "752               4    0.363  \n",
       "753               4    0.542  \n",
       "754               4    0.333  \n",
       "755               4    0.232  "
      ]
     },
     "execution_count": 5,
     "metadata": {},
     "output_type": "execute_result"
    }
   ],
   "source": [
    "df = df[['popularity','acousticness','danceability','duration_ms','energy','instrumentalness','key','liveness','loudness','mode','speechiness','tempo','time_signature','valence']]\n",
    "df = df.dropna(how = 'any')\n",
    "df.tail()"
   ]
  },
  {
   "cell_type": "code",
   "execution_count": 6,
   "metadata": {},
   "outputs": [
    {
     "name": "stdout",
     "output_type": "stream",
     "text": [
      "Shape:  (756, 13) (756,)\n"
     ]
    }
   ],
   "source": [
    "X = df[['acousticness','danceability','duration_ms','energy','instrumentalness','key','liveness','loudness','mode','speechiness','tempo','time_signature','valence']]\n",
    "y = df[\"popularity\"].values#.reshape(-1, 1)\n",
    "print(\"Shape: \", X.shape, y.shape)"
   ]
  },
  {
   "cell_type": "code",
   "execution_count": 7,
   "metadata": {},
   "outputs": [],
   "source": [
    "from sklearn.model_selection import train_test_split \n",
    "X_train, X_test, y_train, y_test = train_test_split(X, y, random_state=42)"
   ]
  },
  {
   "cell_type": "code",
   "execution_count": 8,
   "metadata": {},
   "outputs": [
    {
     "name": "stderr",
     "output_type": "stream",
     "text": [
      "C:\\Users\\Owner\\Anaconda3\\lib\\site-packages\\sklearn\\preprocessing\\data.py:645: DataConversionWarning: Data with input dtype int64, float64 were all converted to float64 by StandardScaler.\n",
      "  return self.partial_fit(X, y)\n",
      "C:\\Users\\Owner\\Anaconda3\\lib\\site-packages\\ipykernel_launcher.py:3: DataConversionWarning: Data with input dtype int64, float64 were all converted to float64 by StandardScaler.\n",
      "  This is separate from the ipykernel package so we can avoid doing imports until\n",
      "C:\\Users\\Owner\\Anaconda3\\lib\\site-packages\\ipykernel_launcher.py:4: DataConversionWarning: Data with input dtype int64, float64 were all converted to float64 by StandardScaler.\n",
      "  after removing the cwd from sys.path.\n"
     ]
    }
   ],
   "source": [
    "from sklearn.preprocessing import StandardScaler \n",
    "X_scaler = StandardScaler().fit(X_train)\n",
    "X_train_scaled = X_scaler.transform(X_train) \n",
    "X_test_scaled = X_scaler.transform(X_test)"
   ]
  },
  {
   "cell_type": "markdown",
   "metadata": {},
   "source": [
    "### Decision Tree Model"
   ]
  },
  {
   "cell_type": "code",
   "execution_count": 9,
   "metadata": {},
   "outputs": [],
   "source": [
    "from sklearn import tree \n",
    "clf = tree.DecisionTreeClassifier()"
   ]
  },
  {
   "cell_type": "code",
   "execution_count": 10,
   "metadata": {},
   "outputs": [
    {
     "data": {
      "text/plain": [
       "0.582010582010582"
      ]
     },
     "execution_count": 10,
     "metadata": {},
     "output_type": "execute_result"
    }
   ],
   "source": [
    "clf = clf.fit(X_train_scaled, y_train)\n",
    "clf.score(X_test_scaled, y_test)"
   ]
  },
  {
   "cell_type": "code",
   "execution_count": 11,
   "metadata": {},
   "outputs": [],
   "source": [
    "predictions = clf.predict(X_test_scaled)"
   ]
  },
  {
   "cell_type": "code",
   "execution_count": 12,
   "metadata": {},
   "outputs": [
    {
     "data": {
      "text/html": [
       "<div>\n",
       "<style scoped>\n",
       "    .dataframe tbody tr th:only-of-type {\n",
       "        vertical-align: middle;\n",
       "    }\n",
       "\n",
       "    .dataframe tbody tr th {\n",
       "        vertical-align: top;\n",
       "    }\n",
       "\n",
       "    .dataframe thead th {\n",
       "        text-align: right;\n",
       "    }\n",
       "</style>\n",
       "<table border=\"1\" class=\"dataframe\">\n",
       "  <thead>\n",
       "    <tr style=\"text-align: right;\">\n",
       "      <th></th>\n",
       "      <th>Predicted</th>\n",
       "      <th>Actual</th>\n",
       "    </tr>\n",
       "  </thead>\n",
       "  <tbody>\n",
       "    <tr>\n",
       "      <th>0</th>\n",
       "      <td>1</td>\n",
       "      <td>1</td>\n",
       "    </tr>\n",
       "    <tr>\n",
       "      <th>1</th>\n",
       "      <td>0</td>\n",
       "      <td>0</td>\n",
       "    </tr>\n",
       "    <tr>\n",
       "      <th>2</th>\n",
       "      <td>1</td>\n",
       "      <td>1</td>\n",
       "    </tr>\n",
       "    <tr>\n",
       "      <th>3</th>\n",
       "      <td>1</td>\n",
       "      <td>1</td>\n",
       "    </tr>\n",
       "    <tr>\n",
       "      <th>4</th>\n",
       "      <td>1</td>\n",
       "      <td>0</td>\n",
       "    </tr>\n",
       "  </tbody>\n",
       "</table>\n",
       "</div>"
      ],
      "text/plain": [
       "   Predicted  Actual\n",
       "0          1       1\n",
       "1          0       0\n",
       "2          1       1\n",
       "3          1       1\n",
       "4          1       0"
      ]
     },
     "execution_count": 12,
     "metadata": {},
     "output_type": "execute_result"
    }
   ],
   "source": [
    "test_result_df = pd.DataFrame({\"Predicted\": y_test, \"Actual\": predictions})[[\"Predicted\", \"Actual\"]]\n",
    "test_result_df.head()"
   ]
  },
  {
   "cell_type": "code",
   "execution_count": 13,
   "metadata": {},
   "outputs": [
    {
     "data": {
      "text/plain": [
       "[(0.15601525668939278, 'tempo'),\n",
       " (0.11211767401022499, 'duration_ms'),\n",
       " (0.1117603374627619, 'instrumentalness'),\n",
       " (0.09589488357926906, 'acousticness'),\n",
       " (0.09112447823965306, 'valence'),\n",
       " (0.08830259136423334, 'energy'),\n",
       " (0.08769179496327092, 'danceability'),\n",
       " (0.08671290841549019, 'speechiness'),\n",
       " (0.06891948881907183, 'liveness'),\n",
       " (0.053052853854855336, 'loudness'),\n",
       " (0.023115857382509104, 'mode'),\n",
       " (0.01828292221922119, 'key'),\n",
       " (0.007008953000046148, 'time_signature')]"
      ]
     },
     "execution_count": 13,
     "metadata": {},
     "output_type": "execute_result"
    }
   ],
   "source": [
    "feature_names = X.columns\n",
    "sorted(zip(clf.feature_importances_, feature_names), reverse=True)\n"
   ]
  },
  {
   "cell_type": "code",
   "execution_count": 14,
   "metadata": {},
   "outputs": [
    {
     "ename": "InvocationException",
     "evalue": "GraphViz's executables not found",
     "output_type": "error",
     "traceback": [
      "\u001b[1;31m---------------------------------------------------------------------------\u001b[0m",
      "\u001b[1;31mInvocationException\u001b[0m                       Traceback (most recent call last)",
      "\u001b[1;32m<ipython-input-14-717af373c27d>\u001b[0m in \u001b[0;36m<module>\u001b[1;34m\u001b[0m\n\u001b[0;32m      4\u001b[0m \u001b[1;32mimport\u001b[0m \u001b[0mpydotplus\u001b[0m\u001b[1;33m\u001b[0m\u001b[1;33m\u001b[0m\u001b[0m\n\u001b[0;32m      5\u001b[0m \u001b[0mgraph\u001b[0m \u001b[1;33m=\u001b[0m \u001b[0mpydotplus\u001b[0m\u001b[1;33m.\u001b[0m\u001b[0mgraph_from_dot_data\u001b[0m\u001b[1;33m(\u001b[0m\u001b[0mdot_data\u001b[0m\u001b[1;33m)\u001b[0m\u001b[1;33m\u001b[0m\u001b[1;33m\u001b[0m\u001b[0m\n\u001b[1;32m----> 6\u001b[1;33m \u001b[0mgraph\u001b[0m\u001b[1;33m.\u001b[0m\u001b[0mwrite_png\u001b[0m\u001b[1;33m(\u001b[0m\u001b[1;34m'popular.png'\u001b[0m\u001b[1;33m)\u001b[0m\u001b[1;33m\u001b[0m\u001b[1;33m\u001b[0m\u001b[0m\n\u001b[0m\u001b[0;32m      7\u001b[0m \u001b[0mgraph\u001b[0m \u001b[1;33m=\u001b[0m \u001b[0mgraphviz\u001b[0m\u001b[1;33m.\u001b[0m\u001b[0mSource\u001b[0m\u001b[1;33m(\u001b[0m\u001b[0mdot_data\u001b[0m\u001b[1;33m)\u001b[0m\u001b[1;33m\u001b[0m\u001b[1;33m\u001b[0m\u001b[0m\n\u001b[0;32m      8\u001b[0m \u001b[0mgraph\u001b[0m\u001b[1;33m\u001b[0m\u001b[1;33m\u001b[0m\u001b[0m\n",
      "\u001b[1;32m~\\Anaconda3\\lib\\site-packages\\pydotplus\\graphviz.py\u001b[0m in \u001b[0;36m<lambda>\u001b[1;34m(path, f, prog)\u001b[0m\n\u001b[0;32m   1808\u001b[0m                 \u001b[1;32mlambda\u001b[0m \u001b[0mpath\u001b[0m\u001b[1;33m,\u001b[0m\u001b[1;33m\u001b[0m\u001b[1;33m\u001b[0m\u001b[0m\n\u001b[0;32m   1809\u001b[0m                 \u001b[0mf\u001b[0m\u001b[1;33m=\u001b[0m\u001b[0mfrmt\u001b[0m\u001b[1;33m,\u001b[0m\u001b[1;33m\u001b[0m\u001b[1;33m\u001b[0m\u001b[0m\n\u001b[1;32m-> 1810\u001b[1;33m                 \u001b[0mprog\u001b[0m\u001b[1;33m=\u001b[0m\u001b[0mself\u001b[0m\u001b[1;33m.\u001b[0m\u001b[0mprog\u001b[0m\u001b[1;33m:\u001b[0m \u001b[0mself\u001b[0m\u001b[1;33m.\u001b[0m\u001b[0mwrite\u001b[0m\u001b[1;33m(\u001b[0m\u001b[0mpath\u001b[0m\u001b[1;33m,\u001b[0m \u001b[0mformat\u001b[0m\u001b[1;33m=\u001b[0m\u001b[0mf\u001b[0m\u001b[1;33m,\u001b[0m \u001b[0mprog\u001b[0m\u001b[1;33m=\u001b[0m\u001b[0mprog\u001b[0m\u001b[1;33m)\u001b[0m\u001b[1;33m\u001b[0m\u001b[1;33m\u001b[0m\u001b[0m\n\u001b[0m\u001b[0;32m   1811\u001b[0m             )\n\u001b[0;32m   1812\u001b[0m \u001b[1;33m\u001b[0m\u001b[0m\n",
      "\u001b[1;32m~\\Anaconda3\\lib\\site-packages\\pydotplus\\graphviz.py\u001b[0m in \u001b[0;36mwrite\u001b[1;34m(self, path, prog, format)\u001b[0m\n\u001b[0;32m   1916\u001b[0m \u001b[1;33m\u001b[0m\u001b[0m\n\u001b[0;32m   1917\u001b[0m             \u001b[1;32melse\u001b[0m\u001b[1;33m:\u001b[0m\u001b[1;33m\u001b[0m\u001b[1;33m\u001b[0m\u001b[0m\n\u001b[1;32m-> 1918\u001b[1;33m                 \u001b[0mfobj\u001b[0m\u001b[1;33m.\u001b[0m\u001b[0mwrite\u001b[0m\u001b[1;33m(\u001b[0m\u001b[0mself\u001b[0m\u001b[1;33m.\u001b[0m\u001b[0mcreate\u001b[0m\u001b[1;33m(\u001b[0m\u001b[0mprog\u001b[0m\u001b[1;33m,\u001b[0m \u001b[0mformat\u001b[0m\u001b[1;33m)\u001b[0m\u001b[1;33m)\u001b[0m\u001b[1;33m\u001b[0m\u001b[1;33m\u001b[0m\u001b[0m\n\u001b[0m\u001b[0;32m   1919\u001b[0m         \u001b[1;32mfinally\u001b[0m\u001b[1;33m:\u001b[0m\u001b[1;33m\u001b[0m\u001b[1;33m\u001b[0m\u001b[0m\n\u001b[0;32m   1920\u001b[0m             \u001b[1;32mif\u001b[0m \u001b[0mclose\u001b[0m\u001b[1;33m:\u001b[0m\u001b[1;33m\u001b[0m\u001b[1;33m\u001b[0m\u001b[0m\n",
      "\u001b[1;32m~\\Anaconda3\\lib\\site-packages\\pydotplus\\graphviz.py\u001b[0m in \u001b[0;36mcreate\u001b[1;34m(self, prog, format)\u001b[0m\n\u001b[0;32m   1958\u001b[0m             \u001b[1;32mif\u001b[0m \u001b[0mself\u001b[0m\u001b[1;33m.\u001b[0m\u001b[0mprogs\u001b[0m \u001b[1;32mis\u001b[0m \u001b[1;32mNone\u001b[0m\u001b[1;33m:\u001b[0m\u001b[1;33m\u001b[0m\u001b[1;33m\u001b[0m\u001b[0m\n\u001b[0;32m   1959\u001b[0m                 raise InvocationException(\n\u001b[1;32m-> 1960\u001b[1;33m                     'GraphViz\\'s executables not found')\n\u001b[0m\u001b[0;32m   1961\u001b[0m \u001b[1;33m\u001b[0m\u001b[0m\n\u001b[0;32m   1962\u001b[0m         \u001b[1;32mif\u001b[0m \u001b[0mprog\u001b[0m \u001b[1;32mnot\u001b[0m \u001b[1;32min\u001b[0m \u001b[0mself\u001b[0m\u001b[1;33m.\u001b[0m\u001b[0mprogs\u001b[0m\u001b[1;33m:\u001b[0m\u001b[1;33m\u001b[0m\u001b[1;33m\u001b[0m\u001b[0m\n",
      "\u001b[1;31mInvocationException\u001b[0m: GraphViz's executables not found"
     ]
    }
   ],
   "source": [
    "import graphviz\n",
    "dot_data = tree.export_graphviz( clf, out_file=None, feature_names=feature_names, class_names=[\"popular\",\"unpopular\"], filled=True, rounded=True, special_characters=True)\n",
    "\n",
    "import pydotplus\n",
    "graph = pydotplus.graph_from_dot_data(dot_data)\n",
    "graph.write_png('popular.png')\n",
    "graph = graphviz.Source(dot_data) \n",
    "graph\n"
   ]
  },
  {
   "cell_type": "markdown",
   "metadata": {},
   "source": [
    "### Random Forest"
   ]
  },
  {
   "cell_type": "code",
   "execution_count": 15,
   "metadata": {},
   "outputs": [
    {
     "data": {
      "text/plain": [
       "[(0.11043033537036605, 'speechiness'),\n",
       " (0.11030668722446511, 'duration_ms'),\n",
       " (0.10079099671720887, 'tempo'),\n",
       " (0.09575117609070352, 'loudness'),\n",
       " (0.08817878069543118, 'instrumentalness'),\n",
       " (0.08689751084986462, 'acousticness'),\n",
       " (0.085906870322989, 'valence'),\n",
       " (0.08533999250034477, 'energy'),\n",
       " (0.08357862714606375, 'liveness'),\n",
       " (0.08251592925401793, 'danceability'),\n",
       " (0.0493828610150668, 'key'),\n",
       " (0.014017307284972141, 'mode'),\n",
       " (0.006902925528506188, 'time_signature')]"
      ]
     },
     "execution_count": 15,
     "metadata": {},
     "output_type": "execute_result"
    }
   ],
   "source": [
    "from sklearn.ensemble import RandomForestClassifier \n",
    "rf = RandomForestClassifier(n_estimators=200) \n",
    "rf = rf.fit(X_train_scaled, y_train) \n",
    "rf.score(X_test_scaled, y_test)\n",
    "feature_names = X.columns\n",
    "sorted(zip(rf.feature_importances_, feature_names), reverse=True)\n"
   ]
  },
  {
   "cell_type": "code",
   "execution_count": 16,
   "metadata": {},
   "outputs": [
    {
     "data": {
      "text/plain": [
       "0.6137566137566137"
      ]
     },
     "execution_count": 16,
     "metadata": {},
     "output_type": "execute_result"
    }
   ],
   "source": [
    "rf.score(X_test_scaled, y_test)"
   ]
  },
  {
   "cell_type": "markdown",
   "metadata": {},
   "source": [
    "### Neural Network"
   ]
  },
  {
   "cell_type": "code",
   "execution_count": 17,
   "metadata": {},
   "outputs": [],
   "source": [
    "from numpy.random import seed \n",
    "seed(42)"
   ]
  },
  {
   "cell_type": "code",
   "execution_count": 18,
   "metadata": {},
   "outputs": [
    {
     "name": "stderr",
     "output_type": "stream",
     "text": [
      "Using TensorFlow backend.\n"
     ]
    }
   ],
   "source": [
    "from keras.utils import to_categorical\n",
    "y_train_cate = to_categorical(y_train)\n",
    "y_test_cate = to_categorical(y_test)"
   ]
  },
  {
   "cell_type": "code",
   "execution_count": 19,
   "metadata": {},
   "outputs": [],
   "source": [
    "from tensorflow.keras.models import Sequential \n",
    "model_neural = Sequential()\n"
   ]
  },
  {
   "cell_type": "code",
   "execution_count": 20,
   "metadata": {
    "scrolled": true
   },
   "outputs": [
    {
     "name": "stdout",
     "output_type": "stream",
     "text": [
      "Model: \"sequential\"\n",
      "_________________________________________________________________\n",
      "Layer (type)                 Output Shape              Param #   \n",
      "=================================================================\n",
      "dense (Dense)                (None, 100)               1400      \n",
      "_________________________________________________________________\n",
      "dense_1 (Dense)              (None, 100)               10100     \n",
      "_________________________________________________________________\n",
      "dense_2 (Dense)              (None, 100)               10100     \n",
      "_________________________________________________________________\n",
      "dense_3 (Dense)              (None, 100)               10100     \n",
      "_________________________________________________________________\n",
      "dense_4 (Dense)              (None, 100)               10100     \n",
      "_________________________________________________________________\n",
      "dense_5 (Dense)              (None, 100)               10100     \n",
      "_________________________________________________________________\n",
      "dense_6 (Dense)              (None, 100)               10100     \n",
      "_________________________________________________________________\n",
      "dense_7 (Dense)              (None, 100)               10100     \n",
      "_________________________________________________________________\n",
      "dense_8 (Dense)              (None, 100)               10100     \n",
      "_________________________________________________________________\n",
      "dense_9 (Dense)              (None, 100)               10100     \n",
      "_________________________________________________________________\n",
      "dense_10 (Dense)             (None, 100)               10100     \n",
      "_________________________________________________________________\n",
      "dense_11 (Dense)             (None, 100)               10100     \n",
      "_________________________________________________________________\n",
      "dense_12 (Dense)             (None, 2)                 202       \n",
      "=================================================================\n",
      "Total params: 112,702\n",
      "Trainable params: 112,702\n",
      "Non-trainable params: 0\n",
      "_________________________________________________________________\n"
     ]
    }
   ],
   "source": [
    "from tensorflow.keras.layers import Dense \n",
    "number_inputs = 13 \n",
    "number_hidden_nodes = 100 \n",
    "model_neural.add(Dense(units=number_hidden_nodes, activation='relu', input_dim=number_inputs))\n",
    "\n",
    "for i in range(11):\n",
    "    model_neural.add(Dense(units=number_hidden_nodes, activation='relu')) \n",
    "\n",
    "number_classes = 2 \n",
    "model_neural.add(Dense(units=number_classes, activation='softmax'))\n",
    "model_neural.summary()\n"
   ]
  },
  {
   "cell_type": "code",
   "execution_count": 21,
   "metadata": {},
   "outputs": [],
   "source": [
    "model_neural.compile(optimizer='adam', loss='categorical_crossentropy', metrics=['accuracy'])\n"
   ]
  },
  {
   "cell_type": "code",
   "execution_count": 22,
   "metadata": {},
   "outputs": [
    {
     "name": "stdout",
     "output_type": "stream",
     "text": [
      "Train on 567 samples\n",
      "Epoch 1/20\n",
      "567/567 - 1s - loss: 0.6941 - accuracy: 0.4903\n",
      "Epoch 2/20\n",
      "567/567 - 0s - loss: 0.6895 - accuracy: 0.5256\n",
      "Epoch 3/20\n",
      "567/567 - 0s - loss: 0.6672 - accuracy: 0.6138\n",
      "Epoch 4/20\n",
      "567/567 - 0s - loss: 0.6556 - accuracy: 0.6014\n",
      "Epoch 5/20\n",
      "567/567 - 0s - loss: 0.6266 - accuracy: 0.6526\n",
      "Epoch 6/20\n",
      "567/567 - 0s - loss: 0.5962 - accuracy: 0.6614\n",
      "Epoch 7/20\n",
      "567/567 - 0s - loss: 0.5615 - accuracy: 0.7143\n",
      "Epoch 8/20\n",
      "567/567 - 0s - loss: 0.5171 - accuracy: 0.7302\n",
      "Epoch 9/20\n",
      "567/567 - 0s - loss: 0.5061 - accuracy: 0.7354\n",
      "Epoch 10/20\n",
      "567/567 - 0s - loss: 0.4485 - accuracy: 0.7743\n",
      "Epoch 11/20\n",
      "567/567 - 0s - loss: 0.3873 - accuracy: 0.8025\n",
      "Epoch 12/20\n",
      "567/567 - 0s - loss: 0.3402 - accuracy: 0.8607\n",
      "Epoch 13/20\n",
      "567/567 - 0s - loss: 0.3839 - accuracy: 0.8272\n",
      "Epoch 14/20\n",
      "567/567 - 0s - loss: 0.2734 - accuracy: 0.8836\n",
      "Epoch 15/20\n",
      "567/567 - 0s - loss: 0.2419 - accuracy: 0.8995\n",
      "Epoch 16/20\n",
      "567/567 - 0s - loss: 0.2289 - accuracy: 0.9101\n",
      "Epoch 17/20\n",
      "567/567 - 0s - loss: 0.1603 - accuracy: 0.9347\n",
      "Epoch 18/20\n",
      "567/567 - 0s - loss: 0.1983 - accuracy: 0.9118\n",
      "Epoch 19/20\n",
      "567/567 - 0s - loss: 0.1692 - accuracy: 0.9295\n",
      "Epoch 20/20\n",
      "567/567 - 0s - loss: 0.1680 - accuracy: 0.9171\n",
      "189/1 - 0s - loss: 2.1333 - accuracy: 0.5926\n",
      "Loss: 2.0261701036382607, Accuracy: 0.5925925970077515\n"
     ]
    }
   ],
   "source": [
    "model_neural.fit( X_train_scaled, y_train_cate, epochs=20, shuffle=True, verbose=2 )\n",
    "model_loss, model_accuracy = model_neural.evaluate( X_test_scaled, y_test_cate, verbose=2) \n",
    "print(f\"Loss: {model_loss}, Accuracy: {model_accuracy}\")\n"
   ]
  },
  {
   "cell_type": "markdown",
   "metadata": {},
   "source": [
    "### K Nearest Neighbors"
   ]
  },
  {
   "cell_type": "code",
   "execution_count": 23,
   "metadata": {},
   "outputs": [
    {
     "name": "stdout",
     "output_type": "stream",
     "text": [
      "k: 1, Train/Test Score: 0.974/0.598\n",
      "k: 3, Train/Test Score: 0.765/0.571\n",
      "k: 5, Train/Test Score: 0.727/0.566\n",
      "k: 7, Train/Test Score: 0.711/0.582\n",
      "k: 9, Train/Test Score: 0.683/0.582\n",
      "k: 11, Train/Test Score: 0.661/0.577\n",
      "k: 13, Train/Test Score: 0.633/0.614\n",
      "k: 15, Train/Test Score: 0.644/0.619\n",
      "k: 17, Train/Test Score: 0.640/0.614\n",
      "k: 19, Train/Test Score: 0.624/0.619\n"
     ]
    }
   ],
   "source": [
    "from sklearn.neighbors import KNeighborsClassifier\n",
    "train_scores = [] \n",
    "test_scores = []\n",
    "for k in range(1, 20, 2):\n",
    "      knn = KNeighborsClassifier(n_neighbors=k)\n",
    "      knn.fit(X_train_scaled, y_train)  \n",
    "      train_score = knn.score(X_train_scaled, y_train)\n",
    "      test_score = knn.score(X_test_scaled, y_test) \n",
    "      train_scores.append(train_score) \n",
    "      test_scores.append(test_score)\n",
    "      print(f\"k: {k}, Train/Test Score: {train_score:.3f}/{test_score:.3f}\")\n"
   ]
  },
  {
   "cell_type": "code",
   "execution_count": 24,
   "metadata": {
    "scrolled": true
   },
   "outputs": [
    {
     "data": {
      "image/png": "[encoded data removed]",
      "text/plain": [
       "<Figure size 432x288 with 1 Axes>"
      ]
     },
     "metadata": {
      "needs_background": "light"
     },
     "output_type": "display_data"
    }
   ],
   "source": [
    "plt.plot(range(1, 20, 2), train_scores, marker='o') \n",
    "plt.plot(range(1, 20, 2), test_scores, marker=\"x\") \n",
    "plt.xlabel(\"k neighbors\") \n",
    "plt.ylabel(\"Testing accuracy Score\")\n",
    "plt.show()\n"
   ]
  },
  {
   "cell_type": "code",
   "execution_count": 25,
   "metadata": {},
   "outputs": [
    {
     "name": "stdout",
     "output_type": "stream",
     "text": [
      "k=13 Test Acc: 0.577\n"
     ]
    }
   ],
   "source": [
    "knn = KNeighborsClassifier(n_neighbors=11)\n",
    "knn.fit(X_train_scaled, y_train) \n",
    "print('k=13 Test Acc: %.3f' % knn.score(X_test_scaled, y_test))\n"
   ]
  },
  {
   "cell_type": "code",
   "execution_count": 26,
   "metadata": {},
   "outputs": [
    {
     "data": {
      "text/plain": [
       "<Figure size 432x288 with 0 Axes>"
      ]
     },
     "metadata": {},
     "output_type": "display_data"
    }
   ],
   "source": [
    "plt.savefig(\"K_Neighbors_model_popularity.png\")"
   ]
  },
  {
   "cell_type": "markdown",
   "metadata": {},
   "source": [
    "### Gaussian Naive Bayes"
   ]
  },
  {
   "cell_type": "code",
   "execution_count": 27,
   "metadata": {},
   "outputs": [
    {
     "data": {
      "text/plain": [
       "0.5185185185185185"
      ]
     },
     "execution_count": 27,
     "metadata": {},
     "output_type": "execute_result"
    }
   ],
   "source": [
    "#from sklearn import datasets\n",
    "from sklearn.naive_bayes import GaussianNB\n",
    "gnb = GaussianNB()\n",
    "gnb.fit(X_train_scaled, y_train)\n",
    "gnb.score(X_test_scaled, y_test)"
   ]
  },
  {
   "cell_type": "markdown",
   "metadata": {},
   "source": [
    "### Support Vector Machine"
   ]
  },
  {
   "cell_type": "code",
   "execution_count": 28,
   "metadata": {},
   "outputs": [
    {
     "name": "stdout",
     "output_type": "stream",
     "text": [
      "              precision    recall  f1-score   support\n",
      "\n",
      "     popular       0.75      0.44      0.55       107\n",
      "   unpopular       0.52      0.80      0.63        82\n",
      "\n",
      "   micro avg       0.60      0.60      0.60       189\n",
      "   macro avg       0.63      0.62      0.59       189\n",
      "weighted avg       0.65      0.60      0.59       189\n",
      "\n"
     ]
    }
   ],
   "source": [
    "from sklearn.svm import SVC\n",
    "model_svc = SVC(kernel='linear') \n",
    "model_svc.fit(X_train_scaled, y_train)\n",
    "\n",
    "from sklearn.metrics import classification_report\n",
    "predictions = model_svc.predict(X_test_scaled)\n",
    "print(classification_report(y_test, predictions, target_names=[\"popular\", \"unpopular\"]))\n"
   ]
  },
  {
   "cell_type": "code",
   "execution_count": 29,
   "metadata": {},
   "outputs": [
    {
     "data": {
      "text/plain": [
       "array([[47, 60],\n",
       "       [16, 66]], dtype=int64)"
      ]
     },
     "execution_count": 29,
     "metadata": {},
     "output_type": "execute_result"
    }
   ],
   "source": [
    "svm_predictions = model_svc.predict(X_test_scaled) \n",
    "from sklearn.metrics import confusion_matrix \n",
    "cm = confusion_matrix(y_test, svm_predictions) \n",
    "cm"
   ]
  },
  {
   "cell_type": "markdown",
   "metadata": {},
   "source": [
    "### Logistic Regression"
   ]
  },
  {
   "cell_type": "code",
   "execution_count": 30,
   "metadata": {},
   "outputs": [
    {
     "name": "stdout",
     "output_type": "stream",
     "text": [
      "Training Data Score: 0.6102292768959435\n",
      "Testing Data Score: 0.5978835978835979\n"
     ]
    },
    {
     "name": "stderr",
     "output_type": "stream",
     "text": [
      "C:\\Users\\Owner\\Anaconda3\\lib\\site-packages\\sklearn\\linear_model\\logistic.py:433: FutureWarning: Default solver will be changed to 'lbfgs' in 0.22. Specify a solver to silence this warning.\n",
      "  FutureWarning)\n"
     ]
    }
   ],
   "source": [
    "from sklearn.linear_model import LogisticRegression \n",
    "classifier = LogisticRegression()\n",
    "classifier.fit(X_train_scaled, y_train)\n",
    "\n",
    "print(f\"Training Data Score: {classifier.score(X_train_scaled, y_train)}\")\n",
    "print(f\"Testing Data Score: {classifier.score(X_test_scaled, y_test)}\")\n"
   ]
  },
  {
   "cell_type": "code",
   "execution_count": 31,
   "metadata": {},
   "outputs": [
    {
     "name": "stdout",
     "output_type": "stream",
     "text": [
      "Training Data Score: 0.6031746031746031\n",
      "Testing Data Score: 0.6084656084656085\n"
     ]
    },
    {
     "name": "stderr",
     "output_type": "stream",
     "text": [
      "C:\\Users\\Owner\\Anaconda3\\lib\\site-packages\\sklearn\\model_selection\\_split.py:2053: FutureWarning: You should specify a value for 'cv' instead of relying on the default value. The default value will change from 3 to 5 in version 0.22.\n",
      "  warnings.warn(CV_WARNING, FutureWarning)\n"
     ]
    }
   ],
   "source": [
    "from sklearn.linear_model import LogisticRegressionCV \n",
    "classifier = LogisticRegressionCV(multi_class=\"multinomial\")\n",
    "classifier.fit(X_train_scaled, y_train)\n",
    "\n",
    "print(f\"Training Data Score: {classifier.score(X_train_scaled, y_train)}\")\n",
    "print(f\"Testing Data Score: {classifier.score(X_test_scaled, y_test)}\")"
   ]
  },
  {
   "cell_type": "code",
   "execution_count": 32,
   "metadata": {},
   "outputs": [
    {
     "name": "stdout",
     "output_type": "stream",
     "text": [
      "Training Data Score: 0.6102292768959435\n",
      "Testing Data Score: 0.6137566137566137\n"
     ]
    }
   ],
   "source": [
    "from sklearn.linear_model import RidgeClassifierCV\n",
    "classifier = RidgeClassifierCV()\n",
    "classifier.fit(X_train_scaled, y_train)\n",
    "\n",
    "print(f\"Training Data Score: {classifier.score(X_train_scaled, y_train)}\")\n",
    "print(f\"Testing Data Score: {classifier.score(X_test_scaled, y_test)}\")"
   ]
  },
  {
   "cell_type": "code",
   "execution_count": null,
   "metadata": {},
   "outputs": [],
   "source": []
  }
 ],
 "metadata": {
  "kernelspec": {
   "display_name": "Python 3",
   "language": "python",
   "name": "python3"
  },
  "language_info": {
   "codemirror_mode": {
    "name": "ipython",
    "version": 3
   },
   "file_extension": ".py",
   "mimetype": "text/x-python",
   "name": "python",
   "nbconvert_exporter": "python",
   "pygments_lexer": "ipython3",
   "version": "3.7.3"
  }
 },
 "nbformat": 4,
 "nbformat_minor": 2
}
