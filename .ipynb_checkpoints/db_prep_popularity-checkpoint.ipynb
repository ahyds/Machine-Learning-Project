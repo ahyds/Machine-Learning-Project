{
 "cells": [
  {
   "cell_type": "code",
   "execution_count": 1,
   "metadata": {},
   "outputs": [],
   "source": [
    "import pandas as pd"
   ]
  },
  {
   "cell_type": "code",
   "execution_count": 2,
   "metadata": {},
   "outputs": [],
   "source": [
    "import spotipy\n",
    "import spotipy.util as util\n",
    "from spotipy.oauth2 import SpotifyClientCredentials\n",
    "import spotipy.oauth2 as oauth2"
   ]
  },
  {
   "cell_type": "code",
   "execution_count": 3,
   "metadata": {},
   "outputs": [],
   "source": [
    "market = [ \"AD\", \"AR\", \"AT\", \"AU\", \"BE\", \"BG\", \"BO\", \"BR\", \"CA\", \"CH\", \"CL\", \"CO\", \"CR\", \"CY\", \n",
    "      \"CZ\", \"DE\", \"DK\", \"DO\", \"EC\", \"EE\", \"ES\", \"FI\", \"FR\", \"GB\", \"GR\", \"GT\", \"HK\", \"HN\", \"HU\", \n",
    "      \"ID\", \"IE\", \"IS\", \"IT\", \"JP\", \"LI\", \"LT\", \"LU\", \"LV\", \"MC\", \"MT\", \"MX\", \"MY\", \"NI\", \"NL\", \n",
    "      \"NO\", \"NZ\", \"PA\", \"PE\", \"PH\", \"PL\", \"PT\", \"PY\", \"SE\", \"SG\", \"SK\", \"SV\", \"TH\", \"TR\", \"TW\", \n",
    "      \"US\", \"UY\", \"VN\" ]"
   ]
  },
  {
   "cell_type": "code",
   "execution_count": 4,
   "metadata": {},
   "outputs": [],
   "source": [
    "import billboard\n",
    "from time import sleep"
   ]
  },
  {
   "cell_type": "code",
   "execution_count": 25,
   "metadata": {},
   "outputs": [
    {
     "name": "stdout",
     "output_type": "stream",
     "text": [
      "2019-01-01 chart appended.\n",
      "2019-02-01 chart appended.\n",
      "2019-03-01 chart appended.\n",
      "2019-04-01 chart appended.\n",
      "2019-05-01 chart appended.\n",
      "2019-06-01 chart appended.\n",
      "2019-07-01 chart appended.\n",
      "2019-08-01 chart appended.\n",
      "2019-09-01 chart appended.\n",
      "2019-10-01 chart appended.\n",
      "2019-11-01 chart appended.\n"
     ]
    },
    {
     "ename": "ValueError",
     "evalue": "Date argument is after the date of the latest issue",
     "output_type": "error",
     "traceback": [
      "\u001b[1;31m---------------------------------------------------------------------------\u001b[0m",
      "\u001b[1;31mValueError\u001b[0m                                Traceback (most recent call last)",
      "\u001b[1;32m<ipython-input-25-b36f4fafb425>\u001b[0m in \u001b[0;36m<module>\u001b[1;34m\u001b[0m\n\u001b[0;32m      8\u001b[0m     \u001b[0mdate2019\u001b[0m \u001b[1;33m=\u001b[0m \u001b[1;34m\"2019-\"\u001b[0m \u001b[1;33m+\u001b[0m \u001b[0mstr\u001b[0m\u001b[1;33m(\u001b[0m\u001b[0mi\u001b[0m\u001b[1;33m)\u001b[0m \u001b[1;33m+\u001b[0m\u001b[1;34m\"-01\"\u001b[0m\u001b[1;33m\u001b[0m\u001b[1;33m\u001b[0m\u001b[0m\n\u001b[0;32m      9\u001b[0m \u001b[1;33m\u001b[0m\u001b[0m\n\u001b[1;32m---> 10\u001b[1;33m   \u001b[0mcharts\u001b[0m \u001b[1;33m=\u001b[0m \u001b[0mbillboard\u001b[0m\u001b[1;33m.\u001b[0m\u001b[0mChartData\u001b[0m\u001b[1;33m(\u001b[0m\u001b[1;34m'hot-100'\u001b[0m\u001b[1;33m,\u001b[0m \u001b[0mdate\u001b[0m\u001b[1;33m=\u001b[0m\u001b[0mdate2019\u001b[0m\u001b[1;33m,\u001b[0m \u001b[0mfetch\u001b[0m\u001b[1;33m=\u001b[0m\u001b[1;32mTrue\u001b[0m\u001b[1;33m,\u001b[0m \u001b[0mtimeout\u001b[0m\u001b[1;33m=\u001b[0m\u001b[1;36m25\u001b[0m\u001b[1;33m)\u001b[0m\u001b[1;33m\u001b[0m\u001b[1;33m\u001b[0m\u001b[0m\n\u001b[0m\u001b[0;32m     11\u001b[0m   \u001b[1;31m# print(charts)\u001b[0m\u001b[1;33m\u001b[0m\u001b[1;33m\u001b[0m\u001b[1;33m\u001b[0m\u001b[0m\n\u001b[0;32m     12\u001b[0m   \u001b[0mcharts2019\u001b[0m\u001b[1;33m.\u001b[0m\u001b[0mappend\u001b[0m\u001b[1;33m(\u001b[0m\u001b[0mcharts\u001b[0m\u001b[1;33m)\u001b[0m\u001b[1;33m\u001b[0m\u001b[1;33m\u001b[0m\u001b[0m\n",
      "\u001b[1;32m~\\Anaconda3\\lib\\site-packages\\billboard.py\u001b[0m in \u001b[0;36m__init__\u001b[1;34m(self, name, date, fetch, timeout)\u001b[0m\n\u001b[0;32m    150\u001b[0m         \u001b[0mself\u001b[0m\u001b[1;33m.\u001b[0m\u001b[0mentries\u001b[0m \u001b[1;33m=\u001b[0m \u001b[1;33m[\u001b[0m\u001b[1;33m]\u001b[0m\u001b[1;33m\u001b[0m\u001b[1;33m\u001b[0m\u001b[0m\n\u001b[0;32m    151\u001b[0m         \u001b[1;32mif\u001b[0m \u001b[0mfetch\u001b[0m\u001b[1;33m:\u001b[0m\u001b[1;33m\u001b[0m\u001b[1;33m\u001b[0m\u001b[0m\n\u001b[1;32m--> 152\u001b[1;33m             \u001b[0mself\u001b[0m\u001b[1;33m.\u001b[0m\u001b[0mfetchEntries\u001b[0m\u001b[1;33m(\u001b[0m\u001b[1;33m)\u001b[0m\u001b[1;33m\u001b[0m\u001b[1;33m\u001b[0m\u001b[0m\n\u001b[0m\u001b[0;32m    153\u001b[0m \u001b[1;33m\u001b[0m\u001b[0m\n\u001b[0;32m    154\u001b[0m     \u001b[1;32mdef\u001b[0m \u001b[0m__repr__\u001b[0m\u001b[1;33m(\u001b[0m\u001b[0mself\u001b[0m\u001b[1;33m)\u001b[0m\u001b[1;33m:\u001b[0m\u001b[1;33m\u001b[0m\u001b[1;33m\u001b[0m\u001b[0m\n",
      "\u001b[1;32m~\\Anaconda3\\lib\\site-packages\\billboard.py\u001b[0m in \u001b[0;36mfetchEntries\u001b[1;34m(self)\u001b[0m\n\u001b[0;32m    375\u001b[0m \u001b[1;33m\u001b[0m\u001b[0m\n\u001b[0;32m    376\u001b[0m         \u001b[0msoup\u001b[0m \u001b[1;33m=\u001b[0m \u001b[0mBeautifulSoup\u001b[0m\u001b[1;33m(\u001b[0m\u001b[0mreq\u001b[0m\u001b[1;33m.\u001b[0m\u001b[0mtext\u001b[0m\u001b[1;33m,\u001b[0m \u001b[1;34m\"html.parser\"\u001b[0m\u001b[1;33m)\u001b[0m\u001b[1;33m\u001b[0m\u001b[1;33m\u001b[0m\u001b[0m\n\u001b[1;32m--> 377\u001b[1;33m         \u001b[0mself\u001b[0m\u001b[1;33m.\u001b[0m\u001b[0m_parsePage\u001b[0m\u001b[1;33m(\u001b[0m\u001b[0msoup\u001b[0m\u001b[1;33m)\u001b[0m\u001b[1;33m\u001b[0m\u001b[1;33m\u001b[0m\u001b[0m\n\u001b[0m\u001b[0;32m    378\u001b[0m \u001b[1;33m\u001b[0m\u001b[0m\n\u001b[0;32m    379\u001b[0m \u001b[1;33m\u001b[0m\u001b[0m\n",
      "\u001b[1;32m~\\Anaconda3\\lib\\site-packages\\billboard.py\u001b[0m in \u001b[0;36m_parsePage\u001b[1;34m(self, soup)\u001b[0m\n\u001b[0;32m    356\u001b[0m             \u001b[0mself\u001b[0m\u001b[1;33m.\u001b[0m\u001b[0m_parseOldStylePage\u001b[0m\u001b[1;33m(\u001b[0m\u001b[0msoup\u001b[0m\u001b[1;33m)\u001b[0m\u001b[1;33m\u001b[0m\u001b[1;33m\u001b[0m\u001b[0m\n\u001b[0;32m    357\u001b[0m         \u001b[1;32melse\u001b[0m\u001b[1;33m:\u001b[0m\u001b[1;33m\u001b[0m\u001b[1;33m\u001b[0m\u001b[0m\n\u001b[1;32m--> 358\u001b[1;33m             \u001b[0mself\u001b[0m\u001b[1;33m.\u001b[0m\u001b[0m_parseNewStylePage\u001b[0m\u001b[1;33m(\u001b[0m\u001b[0msoup\u001b[0m\u001b[1;33m)\u001b[0m\u001b[1;33m\u001b[0m\u001b[1;33m\u001b[0m\u001b[0m\n\u001b[0m\u001b[0;32m    359\u001b[0m \u001b[1;33m\u001b[0m\u001b[0m\n\u001b[0;32m    360\u001b[0m     \u001b[1;32mdef\u001b[0m \u001b[0mfetchEntries\u001b[0m\u001b[1;33m(\u001b[0m\u001b[0mself\u001b[0m\u001b[1;33m)\u001b[0m\u001b[1;33m:\u001b[0m\u001b[1;33m\u001b[0m\u001b[1;33m\u001b[0m\u001b[0m\n",
      "\u001b[1;32m~\\Anaconda3\\lib\\site-packages\\billboard.py\u001b[0m in \u001b[0;36m_parseNewStylePage\u001b[1;34m(self, soup)\u001b[0m\n\u001b[0;32m    282\u001b[0m                 \u001b[1;31m# For dates that come after the date of a given chart's latest issue, Billboard.com returns a valid webpage\u001b[0m\u001b[1;33m\u001b[0m\u001b[1;33m\u001b[0m\u001b[1;33m\u001b[0m\u001b[0m\n\u001b[0;32m    283\u001b[0m                 \u001b[1;31m# containing no chart data but displaying the date of the chart's latest issue.\u001b[0m\u001b[1;33m\u001b[0m\u001b[1;33m\u001b[0m\u001b[1;33m\u001b[0m\u001b[0m\n\u001b[1;32m--> 284\u001b[1;33m                 \u001b[1;32mraise\u001b[0m \u001b[0mValueError\u001b[0m\u001b[1;33m(\u001b[0m\u001b[1;34m\"Date argument is after the date of the latest issue\"\u001b[0m\u001b[1;33m)\u001b[0m\u001b[1;33m\u001b[0m\u001b[1;33m\u001b[0m\u001b[0m\n\u001b[0m\u001b[0;32m    285\u001b[0m             \u001b[0mself\u001b[0m\u001b[1;33m.\u001b[0m\u001b[0mdate\u001b[0m \u001b[1;33m=\u001b[0m \u001b[0mcurDate\u001b[0m\u001b[1;33m.\u001b[0m\u001b[0mstrftime\u001b[0m\u001b[1;33m(\u001b[0m\u001b[1;34m\"%Y-%m-%d\"\u001b[0m\u001b[1;33m)\u001b[0m\u001b[1;33m\u001b[0m\u001b[1;33m\u001b[0m\u001b[0m\n\u001b[0;32m    286\u001b[0m \u001b[1;33m\u001b[0m\u001b[0m\n",
      "\u001b[1;31mValueError\u001b[0m: Date argument is after the date of the latest issue"
     ]
    }
   ],
   "source": [
    "i = 1\n",
    "charts2019 = []\n",
    "while i <= 12:\n",
    "\n",
    "  if i < 10:\n",
    "    date2019 = \"2019-0\" + str(i) +\"-01\"\n",
    "  else:\n",
    "    date2019 = \"2019-\" + str(i) +\"-01\"\n",
    "\n",
    "  charts = billboard.ChartData('hot-100', date=date2019, fetch=True, timeout=25)\n",
    "  # print(charts)\n",
    "  charts2019.append(charts)\n",
    "  print(f\"{date2019} chart appended.\")\n",
    "\n",
    "  i += 1\n",
    "  sleep(180)"
   ]
  },
  {
   "cell_type": "code",
   "execution_count": 26,
   "metadata": {},
   "outputs": [
    {
     "data": {
      "text/plain": [
       "[billboard.ChartData('hot-100', date='2019-01-05'),\n",
       " billboard.ChartData('hot-100', date='2019-02-02'),\n",
       " billboard.ChartData('hot-100', date='2019-03-02'),\n",
       " billboard.ChartData('hot-100', date='2019-04-06'),\n",
       " billboard.ChartData('hot-100', date='2019-05-04'),\n",
       " billboard.ChartData('hot-100', date='2019-06-01'),\n",
       " billboard.ChartData('hot-100', date='2019-07-06'),\n",
       " billboard.ChartData('hot-100', date='2019-08-03'),\n",
       " billboard.ChartData('hot-100', date='2019-09-07'),\n",
       " billboard.ChartData('hot-100', date='2019-10-05'),\n",
       " billboard.ChartData('hot-100', date='2019-11-02')]"
      ]
     },
     "execution_count": 26,
     "metadata": {},
     "output_type": "execute_result"
    }
   ],
   "source": [
    "charts2019"
   ]
  },
  {
   "cell_type": "code",
   "execution_count": 31,
   "metadata": {},
   "outputs": [],
   "source": [
    "song_titles_2019 = []\n",
    "\n",
    "for chart in charts2019:\n",
    "    count = 0\n",
    "    while count < len(chart):\n",
    "        song_titles_2019.append(chart[count].title)\n",
    "        count += 1"
   ]
  },
  {
   "cell_type": "code",
   "execution_count": 34,
   "metadata": {},
   "outputs": [],
   "source": [
    "for i in range(100):\n",
    "        song_titles_2019.append(\" \")\n",
    "       "
   ]
  },
  {
   "cell_type": "code",
   "execution_count": null,
   "metadata": {},
   "outputs": [],
   "source": [
    "# Spotify App Credentials 2015\n",
    "# CLIENT_ID = \"aaf3f0bbaff74d50a1b8a244e4364bdf\"\n",
    "# CLIENT_SECRET = \"832f4869770d40ab9d503d1eeaaba8ce\"\n",
    "\n",
    "# credentials = oauth2.SpotifyClientCredentials(\n",
    "#         client_id=CLIENT_ID,\n",
    "#         client_secret=CLIENT_SECRET)\n",
    "\n",
    "# token = credentials.get_access_token()\n",
    "# spotify = spotipy.Spotify(auth=token)"
   ]
  },
  {
   "cell_type": "code",
   "execution_count": 12,
   "metadata": {},
   "outputs": [
    {
     "data": {
      "text/plain": [
       "1200"
      ]
     },
     "execution_count": 12,
     "metadata": {},
     "output_type": "execute_result"
    }
   ],
   "source": [
    "len(song_titles_2016)"
   ]
  },
  {
   "cell_type": "code",
   "execution_count": null,
   "metadata": {},
   "outputs": [],
   "source": [
    "song_titles_2016"
   ]
  },
  {
   "cell_type": "code",
   "execution_count": 35,
   "metadata": {},
   "outputs": [
    {
     "data": {
      "text/html": [
       "<div>\n",
       "<style scoped>\n",
       "    .dataframe tbody tr th:only-of-type {\n",
       "        vertical-align: middle;\n",
       "    }\n",
       "\n",
       "    .dataframe tbody tr th {\n",
       "        vertical-align: top;\n",
       "    }\n",
       "\n",
       "    .dataframe thead th {\n",
       "        text-align: right;\n",
       "    }\n",
       "</style>\n",
       "<table border=\"1\" class=\"dataframe\">\n",
       "  <thead>\n",
       "    <tr style=\"text-align: right;\">\n",
       "      <th></th>\n",
       "      <th>2015</th>\n",
       "      <th>2016</th>\n",
       "      <th>2017</th>\n",
       "      <th>2018</th>\n",
       "      <th>2019</th>\n",
       "    </tr>\n",
       "  </thead>\n",
       "  <tbody>\n",
       "    <tr>\n",
       "      <th>0</th>\n",
       "      <td>Blank Space</td>\n",
       "      <td>Hello</td>\n",
       "      <td>Starboy</td>\n",
       "      <td>Perfect</td>\n",
       "      <td>Thank U, Next</td>\n",
       "    </tr>\n",
       "    <tr>\n",
       "      <th>1</th>\n",
       "      <td>Take Me To Church</td>\n",
       "      <td>Sorry</td>\n",
       "      <td>Black Beatles</td>\n",
       "      <td>Rockstar</td>\n",
       "      <td>Without Me</td>\n",
       "    </tr>\n",
       "    <tr>\n",
       "      <th>2</th>\n",
       "      <td>Uptown Funk!</td>\n",
       "      <td>Hotline Bling</td>\n",
       "      <td>Closer</td>\n",
       "      <td>Havana</td>\n",
       "      <td>All I Want For Christmas Is You</td>\n",
       "    </tr>\n",
       "    <tr>\n",
       "      <th>3</th>\n",
       "      <td>Thinking Out Loud</td>\n",
       "      <td>Love Yourself</td>\n",
       "      <td>24K Magic</td>\n",
       "      <td>Gucci Gang</td>\n",
       "      <td>Sicko Mode</td>\n",
       "    </tr>\n",
       "    <tr>\n",
       "      <th>4</th>\n",
       "      <td>Lips Are Movin</td>\n",
       "      <td>What Do You Mean?</td>\n",
       "      <td>Juju On That Beat (TZ Anthem)</td>\n",
       "      <td>No Limit</td>\n",
       "      <td>Sunflower (Spider-Man: Into The Spider-Verse)</td>\n",
       "    </tr>\n",
       "  </tbody>\n",
       "</table>\n",
       "</div>"
      ],
      "text/plain": [
       "                2015               2016                           2017  \\\n",
       "0        Blank Space              Hello                        Starboy   \n",
       "1  Take Me To Church              Sorry                  Black Beatles   \n",
       "2       Uptown Funk!      Hotline Bling                         Closer   \n",
       "3  Thinking Out Loud      Love Yourself                      24K Magic   \n",
       "4     Lips Are Movin  What Do You Mean?  Juju On That Beat (TZ Anthem)   \n",
       "\n",
       "         2018                                           2019  \n",
       "0     Perfect                                  Thank U, Next  \n",
       "1    Rockstar                                     Without Me  \n",
       "2      Havana                All I Want For Christmas Is You  \n",
       "3  Gucci Gang                                     Sicko Mode  \n",
       "4    No Limit  Sunflower (Spider-Man: Into The Spider-Verse)  "
      ]
     },
     "execution_count": 35,
     "metadata": {},
     "output_type": "execute_result"
    }
   ],
   "source": [
    "df_15_to_19 = pd.DataFrame({\"2015\": song_titles_2015,\"2016\": song_titles_2016,\"2017\": song_titles_2017,\"2018\": song_titles_2018,\"2019\": song_titles_2019})\n",
    "df_15_to_19.head()"
   ]
  },
  {
   "cell_type": "code",
   "execution_count": 36,
   "metadata": {},
   "outputs": [],
   "source": [
    "df_15_to_19.to_csv(\"Resources/2015to2019.csv\")"
   ]
  },
  {
   "cell_type": "code",
   "execution_count": null,
   "metadata": {},
   "outputs": [],
   "source": [
    "ids_2015 = []\n",
    "for track in output_2015:\n",
    "     # remove tracks that doesn't have corresponding id on Spotify\n",
    "    if len(track['tracks']['items']) >= 1: \n",
    "        ids_2015.append(track['tracks']['items'][0]['id'])"
   ]
  },
  {
   "cell_type": "code",
   "execution_count": null,
   "metadata": {},
   "outputs": [],
   "source": [
    "len(ids_2015)"
   ]
  },
  {
   "cell_type": "code",
   "execution_count": null,
   "metadata": {},
   "outputs": [],
   "source": [
    "i = 0\n",
    "features_2015 = []\n",
    "while i < len(ids_2015):\n",
    "    if i+100 < len(ids_2015):\n",
    "        features_2015.append(spotify.audio_features(ids_2015[i:i+100]))\n",
    "    else:\n",
    "        features_2015.append(spotify.audio_features(ids_2015[i:]))\n",
    "#     print(i)\n",
    "    i += 100"
   ]
  },
  {
   "cell_type": "code",
   "execution_count": null,
   "metadata": {},
   "outputs": [],
   "source": [
    "features_2015_cleaned = []\n",
    "\n",
    "for feature in features_2015:\n",
    "#    print(len(feature))\n",
    "     for lst in feature:\n",
    "         if lst != None:\n",
    "             features_2015_cleaned.append(lst)"
   ]
  },
  {
   "cell_type": "code",
   "execution_count": null,
   "metadata": {},
   "outputs": [],
   "source": [
    "df_2015 = pd.DataFrame(features_2015_cleaned)"
   ]
  },
  {
   "cell_type": "code",
   "execution_count": null,
   "metadata": {},
   "outputs": [],
   "source": [
    "len(df_2015)"
   ]
  },
  {
   "cell_type": "code",
   "execution_count": null,
   "metadata": {},
   "outputs": [],
   "source": [
    "df_2015.to_csv(\"Resources/2015data_final.csv\")"
   ]
  },
  {
   "cell_type": "code",
   "execution_count": null,
   "metadata": {},
   "outputs": [],
   "source": [
    "df_2015_cleaned = df_2015.drop_duplicates(subset=\"id\", keep='first', inplace=False)"
   ]
  }
 ],
 "metadata": {
  "kernelspec": {
   "display_name": "Python 3",
   "language": "python",
   "name": "python3"
  },
  "language_info": {
   "codemirror_mode": {
    "name": "ipython",
    "version": 3
   },
   "file_extension": ".py",
   "mimetype": "text/x-python",
   "name": "python",
   "nbconvert_exporter": "python",
   "pygments_lexer": "ipython3",
   "version": "3.7.3"
  }
 },
 "nbformat": 4,
 "nbformat_minor": 2
}
